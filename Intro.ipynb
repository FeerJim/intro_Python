{
  "nbformat": 4,
  "nbformat_minor": 0,
  "metadata": {
    "kernelspec": {
      "display_name": "Python 3",
      "language": "python",
      "name": "python3"
    },
    "language_info": {
      "codemirror_mode": {
        "name": "ipython",
        "version": 3
      },
      "file_extension": ".py",
      "mimetype": "text/x-python",
      "name": "python",
      "nbconvert_exporter": "python",
      "pygments_lexer": "ipython3",
      "version": "3.7.6"
    },
    "colab": {
      "name": "Intro.ipynb",
      "provenance": []
    }
  },
  "cells": [
    {
      "cell_type": "markdown",
      "metadata": {
        "id": "DgsebAPx0ROz",
        "colab_type": "text"
      },
      "source": [
        "Introducción a Python\n",
        "==\n",
        "Por: Fernando Jiménez T.\n",
        "Tips antes de comenzar\n",
        "--\n",
        "1. Usar *Markdown* para escribir texto y *Code* para escribir en el lenguaje **Python**.\n",
        "2. Jupyter notebook es compatible con latex (usar *Markdown* para usar la sintaxis de latex.)\n",
        "$$A = \\{ (x,y) \\in \\mathbb{R}^2 | x \\neq 0 \\text{ e } y >0 \\}$$\n",
        "Para saber más de *Markdown* se puede visitar: https://www.markdownguide.org/extended-syntax/ o https://markdown-guide.readthedocs.io/en/latest/basics.html#markdown-basics.\n",
        "3. Para asignar valores a ciertas variables se puede utilizar **=**. Además se pueden realizar operaciones simples (**+,-.x,/,etc**).\n",
        "4. Para añadir comentarios en el código se puede utilizar el **#**."
      ]
    },
    {
      "cell_type": "markdown",
      "metadata": {
        "id": "PyvszJDM0RO4",
        "colab_type": "text"
      },
      "source": [
        "## Porqué usar Anaconda?\n",
        "Anaconda es una fuente de distribución de *Python* y *R*. Es muy usado para *data sicence*, *machinle learning*, *deep learning*, etc. Cuenta con más de 300 librerias muy útiles para los programadores. Además de ser una plataforma gratuita y compatible con cualquier sistema operativo, utiliza la interfaz de *jupyter notebook* para crear documentos (pdf,tex,py,md,...)."
      ]
    },
    {
      "cell_type": "markdown",
      "metadata": {
        "id": "UKCIjV5K0RPA",
        "colab_type": "text"
      },
      "source": [
        "## Porqué programar en Python?\n",
        "Python es un lenguaje de programación que se a vuelto muy popular debido a la estructura de sus códigos. A diferencia de lenguajes como C o C++, la escritura tiende a ser muy compacta.\n",
        "Python puede ser usado para crear aplicaciones web, sistemas de bases de datos, optimización matemática, entre otros.\n",
        "Se puede programar en este lenguaje en cualquier sistema operativo (Windows, Mac, Linux, Raspberry Pi, etc). Utiliza una sintaxis similar al lenguaje Inglés."
      ]
    },
    {
      "cell_type": "markdown",
      "metadata": {
        "id": "UiwINX9i0RPE",
        "colab_type": "text"
      },
      "source": [
        "## Instalación\n",
        "- Anaconda: https://www.anaconda.com/products/individual"
      ]
    },
    {
      "cell_type": "markdown",
      "metadata": {
        "id": "GW9pklnt0RPQ",
        "colab_type": "text"
      },
      "source": [
        "## Operaciones Básicas"
      ]
    },
    {
      "cell_type": "code",
      "metadata": {
        "id": "-clto_680RPU",
        "colab_type": "code",
        "colab": {}
      },
      "source": [
        "# Suma\n",
        "2+3\n",
        "# Resta\n",
        "2-3\n",
        "# División\n",
        "2/3\n",
        "# Producto\n",
        "2*3\n",
        "# Exponente\n",
        "5**2\n",
        "# Módulo\n",
        "28%5\n",
        "# Comparaciones\n",
        "4 > 2 or 4 <= 2\n",
        "4 == 2\n",
        "4!= 2"
      ],
      "execution_count": 0,
      "outputs": []
    },
    {
      "cell_type": "markdown",
      "metadata": {
        "id": "nnf5jKWF0RPv",
        "colab_type": "text"
      },
      "source": [
        "## Tipos de variables\n",
        "Las operaciones básicas no se pueden realizar entre variables tipo *string* y variables tipo *float* o *integer*."
      ]
    },
    {
      "cell_type": "code",
      "metadata": {
        "id": "2BUxd-Mb0RPy",
        "colab_type": "code",
        "colab": {}
      },
      "source": [
        "# String\n",
        "x = \"Hola\"\n",
        "# Integer\n",
        "x = 1\n",
        "# Float\n",
        "x = 2.0"
      ],
      "execution_count": 0,
      "outputs": []
    },
    {
      "cell_type": "markdown",
      "metadata": {
        "id": "hoyWDhNT0RQC",
        "colab_type": "text"
      },
      "source": [
        "## Sintaxis\n",
        "Se deben respetar los espacions."
      ]
    },
    {
      "cell_type": "code",
      "metadata": {
        "id": "i5aI9KIb0RQD",
        "colab_type": "code",
        "colab": {}
      },
      "source": [
        "if 5 > 2:\n",
        "  print(\"Cinco es mayor que dos!\")\n",
        "\"\"\"\n",
        "En este caso si coloco a la misma altura del if el print, saldrá un error.\n",
        "Se puede usar tab para alinear los códigos.\n",
        "\"\"\"\n",
        "if 5 > 2:\n",
        "print(\"Cinco es mayor que dos!\")\n",
        "# Else if\n",
        "if 5 > 2:\n",
        "  print(\"Cinco es mayor que dos\")\n",
        "elif 5 == 2:\n",
        "  print(\"Cinco es igual a dos\")\n",
        "else:\n",
        "  print(\"Cinco es menor que dos\")\n",
        "# El mismo código en una línea\n",
        "print(\"Cinco es mayor que dos!\") if 5 > 2 else print(\"Cinco es igual que dos\") if 5 == 2 else print(\"Cinco es menor que dos\")"
      ],
      "execution_count": 0,
      "outputs": []
    },
    {
      "cell_type": "markdown",
      "metadata": {
        "id": "dVCIYB7m1Zib",
        "colab_type": "text"
      },
      "source": [
        "## Operaciones Bucle"
      ]
    },
    {
      "cell_type": "markdown",
      "metadata": {
        "id": "sAyQjyxd9XzN",
        "colab_type": "text"
      },
      "source": [
        "### For"
      ]
    },
    {
      "cell_type": "code",
      "metadata": {
        "id": "HHMKnUQz1YQV",
        "colab_type": "code",
        "colab": {}
      },
      "source": [
        "vocales = [\"a\", \"e\", \"i\", \"o\",\"u\"]\n",
        "# Imprimir hasta la letra i (break)\n",
        "for x in vocales:\n",
        "  print(x) \n",
        "  if x == \"i\":\n",
        "    break\n",
        "# Imprimir las vocales excluyendo la letra i (continue)\n",
        "for x in vocales:\n",
        "  if x == \"i\":\n",
        "    continue\n",
        "  print(x) \n",
        "# Imprimir los números del 0 al 5\n",
        "for x in range(6): # la funcion range crea una secuencia de enteros desde el 0 hasta el 6 range(0,6)\n",
        "  print(x)\n",
        "# Imprimir los números del -2 al 2 y un mensaje al final.\n",
        "for x in range(-2,3):\n",
        "  print(x)\n",
        "else:\n",
        "  print(\"Proceso terminado!\")\n",
        "# Lazo anidado\n",
        "numeros = range(1,2)\n",
        "for x in numeros:\n",
        "  for y in vocales:\n",
        "    print(x, y)"
      ],
      "execution_count": 0,
      "outputs": []
    },
    {
      "cell_type": "markdown",
      "metadata": {
        "id": "K9Ft3eVx9ebk",
        "colab_type": "text"
      },
      "source": [
        "### While"
      ]
    },
    {
      "cell_type": "code",
      "metadata": {
        "id": "4XRSITiQ9gu6",
        "colab_type": "code",
        "colab": {}
      },
      "source": [
        "# Imprimir los números del 1 al 5\n",
        "i = 1\n",
        "while i < 6:\n",
        "  print(i)\n",
        "  i += 1\n",
        "# Imprimir del 1 al 3 (break)\n",
        "i = 1\n",
        "while i < 6:\n",
        "  print(i)\n",
        "  if (i == 3):\n",
        "    break\n",
        "  i += 1\n",
        "# Imprimir los números excluyendo el número 3 (continue)\n",
        "i = 0\n",
        "while i < 6:\n",
        "  i += 1\n",
        "  if i == 3:\n",
        "    continue\n",
        "  print(i)\n",
        "# Imprimir los números del 1 al 5 y decir cuando se termino el proceso\n",
        "i = 1\n",
        "while i < 6:\n",
        "  print(i)\n",
        "  i += 1\n",
        "else:\n",
        "  print(\"Proceso finalizado\")\n",
        "# Pedir un valor\n",
        "while True:\n",
        "    n = int(input(\"Ingresar un valor entero > 0 : \"))\n",
        "    print(\"El valor ingresado es: \", n)\n",
        "    if n > 0:\n",
        "        break\n",
        "print(\"Gracias\")"
      ],
      "execution_count": 0,
      "outputs": []
    },
    {
      "cell_type": "markdown",
      "metadata": {
        "id": "IhFIQuZHBx6H",
        "colab_type": "text"
      },
      "source": [
        "### Ejemplo:"
      ]
    },
    {
      "cell_type": "code",
      "metadata": {
        "id": "1h-vYXhvB0s_",
        "colab_type": "code",
        "colab": {}
      },
      "source": [
        "# Imprimir el número factorizado, si no es posible imprimir que es un número primo\n",
        "for n in range(2, 8):\n",
        "    for x in range(2, n):\n",
        "        if n % x == 0:\n",
        "            print(n, \" es igual a \", x, \" x \", n/x)\n",
        "            break\n",
        "    else:\n",
        "        print(\"El \", n, \" es un número primo.\")"
      ],
      "execution_count": 0,
      "outputs": []
    },
    {
      "cell_type": "markdown",
      "metadata": {
        "id": "Vjt9GvlN0RQO",
        "colab_type": "text"
      },
      "source": [
        "## Importar librerías\n",
        "Las librerías nos ayudan a utilizar funciones, para facilitarnos el trabajo.\n",
        "\n",
        "Las librerías que usemos dependen de a que nos dediquemos. Algunas librerías populares son:\n",
        "1. **pygame**: crear aplicaciones multimedia (videojuegos, imágenes, animaciones, música, etc.)\n",
        "2. **pillow o pil**: para trabajar con imágenes de forma sencilla.\n",
        "3. **sqlalchemy**: para los que quieren utilizar bases de datos (en especial con sql).\n",
        "4. **numpy**: para el álgebra lineal, matrices, transformada de Fourier.\n",
        "5. **matplotlib**: nos permite crear visualizaciones estáticas, animadas e interactivas en Python."
      ]
    },
    {
      "cell_type": "markdown",
      "metadata": {
        "id": "ck6P7ePV0RQb",
        "colab_type": "text"
      },
      "source": [
        "### Ejemplo 1:\n",
        "Resolver un sistema lineal"
      ]
    },
    {
      "cell_type": "code",
      "metadata": {
        "id": "I92T-kIs0RQe",
        "colab_type": "code",
        "colab": {}
      },
      "source": [
        "import numpy as np\n",
        "from scipy import sparse,linalg\n",
        "# Crear un vector x usando la libreria numpy\n",
        "x = np.array([1,2,3,4])\n",
        "# Crear un vector de unos\n",
        "N=50 # Dimension del vector\n",
        "b = np.ones(N)\n",
        "# Crear un vector aleatorio uniforme (0,1) de dimensión N\n",
        "b = np.random.random(N)\n",
        "# Crear tres vectores aleatorios de vectores aleatorios uniformes (0,1) de dimensión 4. Matriz\n",
        "C = np.random.random((3,4))\n",
        "# Producto de una matriz por un vector usando numpy\n",
        "y = np.dot(C,x)\n",
        "# Producto de dos matrices\n",
        "D = 2*np.ones((4,3))\n",
        "A = np.dot(C,D)\n",
        "# Producto de dos matrices componente a componente\n",
        "D = np.ones((3,3))\n",
        "B = np.multiply(A,D)\n",
        "# Matriz sparse de dimension N\n",
        "A = sparse.diags([-1,2,-1],[-1,0,1], shape=(N,N)).toarray()\n",
        "# Resolver el sistema Ax=b usando el solver por defecto\n",
        "x = linalg.solve(A,b)\n",
        "# Resolver el sistema usando factorización LU\n",
        "P, L, U = linalg.lu(A)\n",
        "y = linalg.solve(L,b)\n",
        "x = linalg.solve(U,y)"
      ],
      "execution_count": 0,
      "outputs": []
    },
    {
      "cell_type": "markdown",
      "metadata": {
        "id": "fDEK6AILG5jz",
        "colab_type": "text"
      },
      "source": [
        "### Ejemplo 2:\n",
        "Crear un diagrama de disperción"
      ]
    },
    {
      "cell_type": "code",
      "metadata": {
        "id": "fFGRW33WGqsG",
        "colab_type": "code",
        "outputId": "bf6f8670-fa05-4595-91d1-6bc013f6a475",
        "colab": {
          "base_uri": "https://localhost:8080/",
          "height": 265
        }
      },
      "source": [
        "import numpy\n",
        "import matplotlib.pyplot as plt\n",
        "\n",
        "x = numpy.random.normal(5.0, 1.0, 100)\n",
        "y = numpy.random.normal(10.0, 2.0, 100)\n",
        "\n",
        "plt.scatter(x, y) # generar el diagrama de dispersion\n",
        "plt.show() # para visualizar el gráfico"
      ],
      "execution_count": 0,
      "outputs": [
        {
          "output_type": "display_data",
          "data": {
            "image/png": "[encoded data removed]",
            "text/plain": [
              "<Figure size 432x288 with 1 Axes>"
            ]
          },
          "metadata": {
            "tags": [],
            "needs_background": "light"
          }
        }
      ]
    },
    {
      "cell_type": "markdown",
      "metadata": {
        "id": "cNKTz_OfIVDA",
        "colab_type": "text"
      },
      "source": [
        "### Ejemplo 3:\n",
        "Realizar una regresión lineal sobre el ejemplo anterior."
      ]
    },
    {
      "cell_type": "code",
      "metadata": {
        "id": "cfh6vV3YIdM0",
        "colab_type": "code",
        "outputId": "949fd197-f618-46a9-b80a-1ef641e4073e",
        "colab": {
          "base_uri": "https://localhost:8080/",
          "height": 269
        }
      },
      "source": [
        "import matplotlib.pyplot as plt\n",
        "from scipy import stats\n",
        "\n",
        "x = numpy.random.normal(5.0, 1.0, 100)\n",
        "y = numpy.random.normal(10.0, 2.0, 100)\n",
        "# Método de regresión lineal\n",
        "slope, intercept, r, p, std_err = stats.linregress(x, y)\n",
        "# Función para el intercepto\n",
        "def myfunc(x):\n",
        "  return slope * x + intercept\n",
        "\n",
        "mymodel = list(map(myfunc, x))\n",
        "\n",
        "plt.scatter(x, y)\n",
        "plt.plot(x, mymodel) # para agregar la regresión lineal al gráfico\n",
        "plt.show()"
      ],
      "execution_count": 0,
      "outputs": [
        {
          "output_type": "display_data",
          "data": {
            "image/png": "[encoded data removed]",
            "text/plain": [
              "<Figure size 432x288 with 1 Axes>"
            ]
          },
          "metadata": {
            "tags": [],
            "needs_background": "light"
          }
        }
      ]
    },
    {
      "cell_type": "markdown",
      "metadata": {
        "id": "BikZr-STKn4q",
        "colab_type": "text"
      },
      "source": [
        "### Ejemplo 4:\n",
        "Graficar la parte real e imaginaria de la transformada de Fourier para el coseno."
      ]
    },
    {
      "cell_type": "code",
      "metadata": {
        "id": "sxuWH0KpK0o3",
        "colab_type": "code",
        "outputId": "76cb17ef-a715-41ec-c26a-73b194c9f9a9",
        "colab": {
          "base_uri": "https://localhost:8080/",
          "height": 266
        }
      },
      "source": [
        "import numpy as np\n",
        "import matplotlib.pyplot as plt\n",
        "\n",
        "n = 20\n",
        "\n",
        "# definición de a\n",
        "m = np.arange(n)\n",
        "a = np.cos(m * 2*np.pi/n)\n",
        "\n",
        "# graficamos a\n",
        "# adjuntamos a la derecha el valor de la periodicidad\n",
        "plt.subplot(311)\n",
        "plt.plot( np.append(a, a[0]) )\n",
        "\n",
        "# calculo de A\n",
        "A = np.fft.fft(a)\n",
        "\n",
        "# Graficamos A\n",
        "# adjuntamos a la derecha el valor de la periodicidad\n",
        "B = np.append(A, A[0])\n",
        "plt.subplot(312)\n",
        "plt.plot(np.real(B))\n",
        "plt.ylabel(\"Parte real\")\n",
        "\n",
        "plt.subplot(313)\n",
        "plt.plot(np.imag(B))\n",
        "plt.ylabel(\"Parte imaginaria\")\n",
        "\n",
        "plt.show()"
      ],
      "execution_count": 9,
      "outputs": [
        {
          "output_type": "display_data",
          "data": {
            "image/png": "[encoded data removed]",
            "text/plain": [
              "<Figure size 432x288 with 3 Axes>"
            ]
          },
          "metadata": {
            "tags": [],
            "needs_background": "light"
          }
        }
      ]
    },
    {
      "cell_type": "markdown",
      "metadata": {
        "id": "OmJxfKoD0RQo",
        "colab_type": "text"
      },
      "source": [
        "Referencias:\n",
        "==\n",
        "1. https://dzone.com/articles/python-anaconda-tutorial-everything-you-need-to-kn\n",
        "2. https://www.w3schools.com/python/python_intro.asp\n",
        "3. https://matplotlib.org/index.html"
      ]
    }
  ]
}
