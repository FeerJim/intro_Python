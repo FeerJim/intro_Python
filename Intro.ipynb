{
  "nbformat": 4,
  "nbformat_minor": 0,
  "metadata": {
    "kernelspec": {
      "display_name": "Python 3",
      "language": "python",
      "name": "python3"
    },
    "language_info": {
      "codemirror_mode": {
        "name": "ipython",
        "version": 3
      },
      "file_extension": ".py",
      "mimetype": "text/x-python",
      "name": "python",
      "nbconvert_exporter": "python",
      "pygments_lexer": "ipython3",
      "version": "3.7.6"
    },
    "colab": {
      "name": "Intro.ipynb",
      "provenance": [],
      "include_colab_link": true
    }
  },
  "cells": [
    {
      "cell_type": "markdown",
      "metadata": {
        "id": "view-in-github",
        "colab_type": "text"
      },
      "source": [
        "<a href=\"https://colab.research.google.com/github/FeerJim/intro_Python/blob/master/Intro.ipynb\" target=\"_parent\"><img src=\"https://colab.research.google.com/assets/colab-badge.svg\" alt=\"Open In Colab\"/></a>"
      ]
    },
    {
      "cell_type": "markdown",
      "metadata": {
        "id": "DgsebAPx0ROz",
        "colab_type": "text"
      },
      "source": [
        "Introducción a Python\n",
        "==\n",
        "Por: Fernando Jiménez T.\n",
        "Tips antes de comenzar\n",
        "--\n",
        "1. Usar *Markdown* para escribir texto y *Code* para escribir en el lenguaje **Python**.\n",
        "2. Jupyter notebook es compatible con latex (usar *Markdown* para usar la sintaxis de latex.)\n",
        "$$A = \\{ (x,y) \\in \\mathbb{R}^2 | x \\neq 0 \\text{ e } y >0 \\}$$\n",
        "Para saber más de *Markdown* se puede visitar: https://www.markdownguide.org/extended-syntax/ o https://markdown-guide.readthedocs.io/en/latest/basics.html#markdown-basics.\n",
        "3. Para asignar valores a ciertas variables se puede utilizar **=**. Además se pueden realizar operaciones simples (**+,-.x,/,etc**).\n",
        "4. Para añadir comentarios en el código se puede utilizar el **#**."
      ]
    },
    {
      "cell_type": "markdown",
      "metadata": {
        "id": "PyvszJDM0RO4",
        "colab_type": "text"
      },
      "source": [
        "## Porqué usar Anaconda?\n",
        "Anaconda es una fuente de distribución de *Python* y *R*. Es muy usado para *data sicence*, *machinle learning*, *deep learning*, etc. Cuenta con más de 300 librerias muy útiles para los programadores. Además de ser una plataforma gratuita y compatible con cualquier sistema operativo, utiliza la interfaz de *jupyter notebook* para crear documentos (pdf,tex,py,md,...)."
      ]
    },
    {
      "cell_type": "markdown",
      "metadata": {
        "id": "UKCIjV5K0RPA",
        "colab_type": "text"
      },
      "source": [
        "## Porqué programar en Python?\n",
        "Python es un lenguaje de programación que se a vuelto muy popular debido a la estructura de sus códigos. A diferencia de lenguajes como C o C++, la escritura tiende a ser muy compacta.\n",
        "Python puede ser usado para crear aplicaciones web, sistemas de bases de datos, optimización matemática, entre otros.\n",
        "Se puede programar en este lenguaje en cualquier sistema operativo (Windows, Mac, Linux, Raspberry Pi, etc). Utiliza una sintaxis similar al lenguaje Inglés."
      ]
    },
    {
      "cell_type": "markdown",
      "metadata": {
        "id": "UiwINX9i0RPE",
        "colab_type": "text"
      },
      "source": [
        "## Instalación\n",
        "- Anaconda: https://www.anaconda.com/products/individual\n",
        "- Pip (nos permite instalar librerias que no se encuentran en la librería estandar): https://bootstrap.pypa.io/get-pip.py\n",
        "  - Descargar **get-pip.py**\n",
        "  - Abrir la terminal\n",
        "  - Ir a la carpeta donde se descargó **get-pip.py**\n",
        "  - Ejecutar el comando **python get-pip.py**\n",
        "  - Verificar que pip se instaló con el comando **pip -v**\n",
        "- Numpy: Ejecutamos el comando **pip3 install numpy**"
      ]
    },
    {
      "cell_type": "markdown",
      "metadata": {
        "id": "GW9pklnt0RPQ",
        "colab_type": "text"
      },
      "source": [
        "## Operaciones Básicas"
      ]
    },
    {
      "cell_type": "code",
      "metadata": {
        "id": "-clto_680RPU",
        "colab_type": "code",
        "colab": {}
      },
      "source": [
        "# Suma\n",
        "2+3\n",
        "# Resta\n",
        "2-3\n",
        "# División\n",
        "2/3\n",
        "# Producto\n",
        "2*3\n",
        "# Exponente\n",
        "5**2\n",
        "# Módulo\n",
        "28%5\n",
        "# Comparaciones\n",
        "4 > 2 or 4 <= 2\n",
        "4 == 2\n",
        "4!= 2"
      ],
      "execution_count": 0,
      "outputs": []
    },
    {
      "cell_type": "markdown",
      "metadata": {
        "id": "nnf5jKWF0RPv",
        "colab_type": "text"
      },
      "source": [
        "## Tipos de variables\n",
        "Las operaciones básicas no se pueden realizar entre variables tipo *string* y variables tipo *float* o *integer*."
      ]
    },
    {
      "cell_type": "code",
      "metadata": {
        "id": "2BUxd-Mb0RPy",
        "colab_type": "code",
        "colab": {}
      },
      "source": [
        "# String\n",
        "x = \"Hola\"\n",
        "# Integer\n",
        "x = 1\n",
        "# Float\n",
        "x = 2.0"
      ],
      "execution_count": 0,
      "outputs": []
    },
    {
      "cell_type": "markdown",
      "metadata": {
        "id": "hoyWDhNT0RQC",
        "colab_type": "text"
      },
      "source": [
        "## Sintaxis\n",
        "Se deben respetar los espacions."
      ]
    },
    {
      "cell_type": "code",
      "metadata": {
        "id": "i5aI9KIb0RQD",
        "colab_type": "code",
        "colab": {}
      },
      "source": [
        "if 5 > 2:\n",
        "  print(\"Cinco es mayor que dos!\")\n",
        "\"\"\"\n",
        "En este caso si coloco a la misma altura del if el print, saldrá un error.\n",
        "Se puede usar tab para alinear los códigos.\n",
        "\"\"\"\n",
        "if 5 > 2:\n",
        "print(\"Cinco es mayor que dos!\")\n",
        "# Else if\n",
        "if 5 > 2:\n",
        "  print(\"Cinco es mayor que dos\")\n",
        "elif 5 == 2:\n",
        "  print(\"Cinco es igual a dos\")\n",
        "else:\n",
        "  print(\"Cinco es menor que dos\")\n",
        "# El mismo código en una línea\n",
        "print(\"Cinco es mayor que dos!\") if 5 > 2 else print(\"Cinco es igual que dos\") if 5 == 2 else print(\"Cinco es menor que dos\")"
      ],
      "execution_count": 0,
      "outputs": []
    },
    {
      "cell_type": "markdown",
      "metadata": {
        "id": "dVCIYB7m1Zib",
        "colab_type": "text"
      },
      "source": [
        "## Operaciones Bucle"
      ]
    },
    {
      "cell_type": "markdown",
      "metadata": {
        "id": "sAyQjyxd9XzN",
        "colab_type": "text"
      },
      "source": [
        "### For"
      ]
    },
    {
      "cell_type": "code",
      "metadata": {
        "id": "HHMKnUQz1YQV",
        "colab_type": "code",
        "colab": {}
      },
      "source": [
        "vocales = [\"a\", \"e\", \"i\", \"o\",\"u\"]\n",
        "# Imprimir hasta la letra i (break)\n",
        "for x in vocales:\n",
        "  print(x) \n",
        "  if x == \"i\":\n",
        "    break\n",
        "# Imprimir las vocales excluyendo la letra i (continue)\n",
        "for x in vocales:\n",
        "  if x == \"i\":\n",
        "    continue\n",
        "  print(x) \n",
        "# Imprimir los números del 0 al 5\n",
        "for x in range(6): # la funcion range crea una secuencia de enteros desde el 0 hasta el 6 range(0,6)\n",
        "  print(x)\n",
        "# Imprimir los números del -2 al 2 y un mensaje al final.\n",
        "for x in range(-2,3):\n",
        "  print(x)\n",
        "else:\n",
        "  print(\"Proceso terminado!\")\n",
        "# Lazo anidado\n",
        "numeros = range(1,2)\n",
        "for x in numeros:\n",
        "  for y in vocales:\n",
        "    print(x, y)"
      ],
      "execution_count": 0,
      "outputs": []
    },
    {
      "cell_type": "markdown",
      "metadata": {
        "id": "K9Ft3eVx9ebk",
        "colab_type": "text"
      },
      "source": [
        "### While"
      ]
    },
    {
      "cell_type": "code",
      "metadata": {
        "id": "4XRSITiQ9gu6",
        "colab_type": "code",
        "colab": {}
      },
      "source": [
        "# Imprimir los números del 1 al 5\n",
        "i = 1\n",
        "while i < 6:\n",
        "  print(i)\n",
        "  i += 1\n",
        "# Imprimir del 1 al 3 (break)\n",
        "i = 1\n",
        "while i < 6:\n",
        "  print(i)\n",
        "  if (i == 3):\n",
        "    break\n",
        "  i += 1\n",
        "# Imprimir los números excluyendo el número 3 (continue)\n",
        "i = 0\n",
        "while i < 6:\n",
        "  i += 1\n",
        "  if i == 3:\n",
        "    continue\n",
        "  print(i)\n",
        "# Imprimir los números del 1 al 5 y decir cuando se termino el proceso\n",
        "i = 1\n",
        "while i < 6:\n",
        "  print(i)\n",
        "  i += 1\n",
        "else:\n",
        "  print(\"Proceso finalizado\")\n",
        "# Pedir un valor\n",
        "while True:\n",
        "    n = int(input(\"Ingresar un valor entero > 0 : \"))\n",
        "    print(\"El valor ingresado es: \", n)\n",
        "    if n > 0:\n",
        "        break\n",
        "print(\"Gracias\")"
      ],
      "execution_count": 0,
      "outputs": []
    },
    {
      "cell_type": "markdown",
      "metadata": {
        "id": "IhFIQuZHBx6H",
        "colab_type": "text"
      },
      "source": [
        "### Ejemplo:"
      ]
    },
    {
      "cell_type": "code",
      "metadata": {
        "id": "1h-vYXhvB0s_",
        "colab_type": "code",
        "colab": {}
      },
      "source": [
        "# Imprimir el número factorizado, si no es posible imprimir que es un número primo\n",
        "for n in range(2, 8):\n",
        "    for x in range(2, n):\n",
        "        if n % x == 0:\n",
        "            print(n, \" es igual a \", x, \" x \", n/x)\n",
        "            break\n",
        "    else:\n",
        "        print(\"El \", n, \" es un número primo.\")"
      ],
      "execution_count": 0,
      "outputs": []
    },
    {
      "cell_type": "markdown",
      "metadata": {
        "id": "Vjt9GvlN0RQO",
        "colab_type": "text"
      },
      "source": [
        "## Importar librerías\n",
        "Las librerías nos ayudan a utilizar funciones, para facilitarnos el trabajo.\n",
        "\n",
        "Las librerías que usemos dependen de a que nos dediquemos. Algunas librerías populares son:\n",
        "1. **pygame**: crear aplicaciones multimedia (videojuegos, imágenes, animaciones, música, etc.)\n",
        "2. **pillow o pil**: para trabajar con imágenes de forma sencilla.\n",
        "3. **sqlalchemy**: para los que quieren utilizar bases de datos (en especial con sql).\n",
        "4. **numpy**: para el álgebra lineal, matrices, transformada de Fourier.\n",
        "5. **matplotlib**: nos permite crear visualizaciones estáticas, animadas e interactivas en Python."
      ]
    },
    {
      "cell_type": "markdown",
      "metadata": {
        "id": "ck6P7ePV0RQb",
        "colab_type": "text"
      },
      "source": [
        "### Ejemplo 1:\n",
        "Resolver un sistema lineal"
      ]
    },
    {
      "cell_type": "code",
      "metadata": {
        "id": "I92T-kIs0RQe",
        "colab_type": "code",
        "colab": {}
      },
      "source": [
        "import numpy as np\n",
        "from scipy import sparse,linalg\n",
        "# Crear un vector x usando la libreria numpy\n",
        "x = np.array([1,2,3,4])\n",
        "# Crear un vector de unos\n",
        "N=50 # Dimension del vector\n",
        "b = np.ones(N)\n",
        "# Crear un vector aleatorio uniforme (0,1) de dimensión N\n",
        "b = np.random.random(N)\n",
        "# Crear tres vectores aleatorios de vectores aleatorios uniformes (0,1) de dimensión 4. Matriz\n",
        "C = np.random.random((3,4))\n",
        "# Producto de una matriz por un vector usando numpy\n",
        "y = np.dot(C,x)\n",
        "# Producto de dos matrices\n",
        "D = 2*np.ones((4,3))\n",
        "A = np.dot(C,D)\n",
        "# Producto de dos matrices componente a componente\n",
        "D = np.ones((3,3))\n",
        "B = np.multiply(A,D)\n",
        "# Matriz sparse de dimension N\n",
        "A = sparse.diags([-1,2,-1],[-1,0,1], shape=(N,N)).toarray()\n",
        "# Resolver el sistema Ax=b usando el solver por defecto\n",
        "x = linalg.solve(A,b)\n",
        "# Resolver el sistema usando factorización LU\n",
        "P, L, U = linalg.lu(A)\n",
        "y = linalg.solve(L,b)\n",
        "x = linalg.solve(U,y)"
      ],
      "execution_count": 0,
      "outputs": []
    },
    {
      "cell_type": "markdown",
      "metadata": {
        "id": "fDEK6AILG5jz",
        "colab_type": "text"
      },
      "source": [
        "### Ejemplo 2:\n",
        "Crear un diagrama de disperción"
      ]
    },
    {
      "cell_type": "code",
      "metadata": {
        "id": "fFGRW33WGqsG",
        "colab_type": "code",
        "outputId": "bf6f8670-fa05-4595-91d1-6bc013f6a475",
        "colab": {
          "base_uri": "https://localhost:8080/",
          "height": 265
        }
      },
      "source": [
        "import numpy\n",
        "import matplotlib.pyplot as plt\n",
        "\n",
        "x = numpy.random.normal(5.0, 1.0, 100)\n",
        "y = numpy.random.normal(10.0, 2.0, 100)\n",
        "\n",
        "plt.scatter(x, y) # generar el diagrama de dispersion\n",
        "plt.show() # para visualizar el gráfico"
      ],
      "execution_count": 0,
      "outputs": [
        {
          "output_type": "display_data",
          "data": {
            "image/png": "[encoded data removed]",
            "text/plain": [
              "<Figure size 432x288 with 1 Axes>"
            ]
          },
          "metadata": {
            "tags": [],
            "needs_background": "light"
          }
        }
      ]
    },
    {
      "cell_type": "markdown",
      "metadata": {
        "id": "cNKTz_OfIVDA",
        "colab_type": "text"
      },
      "source": [
        "### Ejemplo 3:\n",
        "Realizar una regresión lineal sobre el ejemplo anterior."
      ]
    },
    {
      "cell_type": "code",
      "metadata": {
        "id": "cfh6vV3YIdM0",
        "colab_type": "code",
        "outputId": "949fd197-f618-46a9-b80a-1ef641e4073e",
        "colab": {
          "base_uri": "https://localhost:8080/",
          "height": 269
        }
      },
      "source": [
        "import matplotlib.pyplot as plt\n",
        "from scipy import stats\n",
        "\n",
        "x = numpy.random.normal(5.0, 1.0, 100)\n",
        "y = numpy.random.normal(10.0, 2.0, 100)\n",
        "# Método de regresión lineal\n",
        "slope, intercept, r, p, std_err = stats.linregress(x, y)\n",
        "# Función para el intercepto\n",
        "def myfunc(x):\n",
        "  return slope * x + intercept\n",
        "\n",
        "mymodel = list(map(myfunc, x))\n",
        "\n",
        "plt.scatter(x, y)\n",
        "plt.plot(x, mymodel) # para agregar la regresión lineal al gráfico\n",
        "plt.show()"
      ],
      "execution_count": 0,
      "outputs": [
        {
          "output_type": "display_data",
          "data": {
            "image/png": "[encoded data removed]",
            "text/plain": [
              "<Figure size 432x288 with 1 Axes>"
            ]
          },
          "metadata": {
            "tags": [],
            "needs_background": "light"
          }
        }
      ]
    },
    {
      "cell_type": "markdown",
      "metadata": {
        "id": "BikZr-STKn4q",
        "colab_type": "text"
      },
      "source": [
        "### Ejemplo 4:\n",
        "Graficar la parte real e imaginaria de la transformada de Fourier para el coseno."
      ]
    },
    {
      "cell_type": "code",
      "metadata": {
        "id": "sxuWH0KpK0o3",
        "colab_type": "code",
        "outputId": "76cb17ef-a715-41ec-c26a-73b194c9f9a9",
        "colab": {
          "base_uri": "https://localhost:8080/",
          "height": 266
        }
      },
      "source": [
        "import numpy as np\n",
        "import matplotlib.pyplot as plt\n",
        "\n",
        "n = 20\n",
        "\n",
        "# definición de a\n",
        "m = np.arange(n)\n",
        "a = np.cos(m * 2*np.pi/n)\n",
        "\n",
        "# graficamos a\n",
        "# adjuntamos a la derecha el valor de la periodicidad\n",
        "plt.subplot(311)\n",
        "plt.plot( np.append(a, a[0]) )\n",
        "\n",
        "# calculo de A\n",
        "A = np.fft.fft(a)\n",
        "\n",
        "# Graficamos A\n",
        "# adjuntamos a la derecha el valor de la periodicidad\n",
        "B = np.append(A, A[0])\n",
        "plt.subplot(312)\n",
        "plt.plot(np.real(B))\n",
        "plt.ylabel(\"Parte real\")\n",
        "\n",
        "plt.subplot(313)\n",
        "plt.plot(np.imag(B))\n",
        "plt.ylabel(\"Parte imaginaria\")\n",
        "\n",
        "plt.show()"
      ],
      "execution_count": 0,
      "outputs": [
        {
          "output_type": "display_data",
          "data": {
            "image/png": "[encoded data removed]",
            "text/plain": [
              "<Figure size 432x288 with 3 Axes>"
            ]
          },
          "metadata": {
            "tags": [],
            "needs_background": "light"
          }
        }
      ]
    },
    {
      "cell_type": "markdown",
      "metadata": {
        "id": "a1ATdkpZcthq",
        "colab_type": "text"
      },
      "source": [
        "## Ejemplo 5:\n",
        "Predicción del costo de una casa.\n",
        "\n",
        "Este problema de machine learning, está basado en una base de datos que puede ser descargada [aquí](https://archive.ics.uci.edu/ml/machine-learning-databases/housing/). Esta base de datos cuenta con 506 instancias, cada una con 14 atributos.\n",
        "\n",
        "Información de los atributos:\n",
        "\n",
        "ID | Significado\n",
        "---|------------\n",
        "CRIM| tasa de criminalidad per cápita por ciudad\n",
        "ZN| proporción de tierra residencial dividida en zonas para lotes de más de 25 mil pies cuadrados.\n",
        "INDUS| proporción de acres de negocios no minoristas por ciudad\n",
        "CHAS| variable ficticia de Charles River (= 1 si el tramo limita con el río; 0 en caso contrario)\n",
        "NOX| concentración de óxidos nítricos (partes por 10 millones)\n",
        "RM| número promedio de habitaciones por vivienda\n",
        "AGE| proporción de unidades ocupadas por sus propietarios construidas antes de 1940\n",
        "DIS| distancias ponderadas a cinco centros de empleo de Boston\n",
        "RAD | índice de accesibilidad a carreteras radiales\n",
        "TAX| tasa de impuesto a la propiedad de valor total por 10 mil dólares\n",
        "PTRATIO| relación alumno-profesor por localidad\n",
        "B| $1000 (B_k - 0.63)^2$ donde $B_k$ es la proporción de negros por ciudad\n",
        "LSTAT| porcentaje del menor estatus de la población\n",
        "MEDV| valor medio de viviendas ocupadas por sus propietarios en mil dólares"
      ]
    },
    {
      "cell_type": "code",
      "metadata": {
        "id": "DUbZoQsAdCy9",
        "colab_type": "code",
        "outputId": "dd61bd6a-c1cc-4a9e-b4f4-2d9898bea364",
        "colab": {
          "base_uri": "https://localhost:8080/",
          "height": 275
        }
      },
      "source": [
        "# Importación de librerías\n",
        "from __future__ import print_function\n",
        "import tensorflow.compat.v1 as tf\n",
        "tf.disable_v2_behavior()\n",
        "import numpy as np\n",
        "import matplotlib.pyplot as plt\n",
        "from numpy import genfromtxt\n",
        "import pandas as pd\n",
        "# Descargamos la base de datos\n",
        "import requests\n",
        "URL = \"https://storage.googleapis.com/pagina-personal.appspot.com/img_teaching/neural_networks/housing.data\"\n",
        "r = requests.get(URL)\n",
        "with open(\"housing.data\", \"wb\") as data:\n",
        "    data.write(r.content)\n",
        "# Importamos la base de datos\n",
        "COLUMNS=[\"CRIM\",\"ZN\",\"INDUS\",\"CHAS\",\"NOX\",\"RM\",\"AGE\",\"DIS\",\"RAD\",\"TAX\",\"PRATIO\",\"B\",\"LSTAT\",\"MEDV\"]\n",
        "FEATURES = [\"CRIM\",\"ZN\",\"INDUS\",\"CHAS\",\"NOX\",\"RM\",\"AGE\",\"DIS\",\"RAD\",\"TAX\",\"PRATIO\",\"B\",\"LSTAT\"]\n",
        "LABEL = [\"MEDV\"]\n",
        "    \n",
        "dataset = pd.read_csv(\"housing.data\", skiprows=1, names=COLUMNS)\n",
        "# Visualización de una pequeña parte de la base de datos\n",
        "dataset.head()"
      ],
      "execution_count": 0,
      "outputs": [
        {
          "output_type": "stream",
          "text": [
            "WARNING:tensorflow:From /usr/local/lib/python3.6/dist-packages/tensorflow/python/compat/v2_compat.py:96: disable_resource_variables (from tensorflow.python.ops.variable_scope) is deprecated and will be removed in a future version.\n",
            "Instructions for updating:\n",
            "non-resource variables are not supported in the long term\n"
          ],
          "name": "stdout"
        },
        {
          "output_type": "execute_result",
          "data": {
            "text/html": [
              "<div>\n",
              "<style scoped>\n",
              "    .dataframe tbody tr th:only-of-type {\n",
              "        vertical-align: middle;\n",
              "    }\n",
              "\n",
              "    .dataframe tbody tr th {\n",
              "        vertical-align: top;\n",
              "    }\n",
              "\n",
              "    .dataframe thead th {\n",
              "        text-align: right;\n",
              "    }\n",
              "</style>\n",
              "<table border=\"1\" class=\"dataframe\">\n",
              "  <thead>\n",
              "    <tr style=\"text-align: right;\">\n",
              "      <th></th>\n",
              "      <th>CRIM</th>\n",
              "      <th>ZN</th>\n",
              "      <th>INDUS</th>\n",
              "      <th>CHAS</th>\n",
              "      <th>NOX</th>\n",
              "      <th>RM</th>\n",
              "      <th>AGE</th>\n",
              "      <th>DIS</th>\n",
              "      <th>RAD</th>\n",
              "      <th>TAX</th>\n",
              "      <th>PRATIO</th>\n",
              "      <th>B</th>\n",
              "      <th>LSTAT</th>\n",
              "      <th>MEDV</th>\n",
              "    </tr>\n",
              "  </thead>\n",
              "  <tbody>\n",
              "    <tr>\n",
              "      <th>0</th>\n",
              "      <td>0.00632</td>\n",
              "      <td>18.0</td>\n",
              "      <td>2.31</td>\n",
              "      <td>0</td>\n",
              "      <td>0.538</td>\n",
              "      <td>6.575</td>\n",
              "      <td>65.2</td>\n",
              "      <td>4.0900</td>\n",
              "      <td>1</td>\n",
              "      <td>296.0</td>\n",
              "      <td>15.3</td>\n",
              "      <td>396.90</td>\n",
              "      <td>4.98</td>\n",
              "      <td>24.0</td>\n",
              "    </tr>\n",
              "    <tr>\n",
              "      <th>1</th>\n",
              "      <td>0.02731</td>\n",
              "      <td>0.0</td>\n",
              "      <td>7.07</td>\n",
              "      <td>0</td>\n",
              "      <td>0.469</td>\n",
              "      <td>6.421</td>\n",
              "      <td>78.9</td>\n",
              "      <td>4.9671</td>\n",
              "      <td>2</td>\n",
              "      <td>242.0</td>\n",
              "      <td>17.8</td>\n",
              "      <td>396.90</td>\n",
              "      <td>9.14</td>\n",
              "      <td>21.6</td>\n",
              "    </tr>\n",
              "    <tr>\n",
              "      <th>2</th>\n",
              "      <td>0.02729</td>\n",
              "      <td>0.0</td>\n",
              "      <td>7.07</td>\n",
              "      <td>0</td>\n",
              "      <td>0.469</td>\n",
              "      <td>7.185</td>\n",
              "      <td>61.1</td>\n",
              "      <td>4.9671</td>\n",
              "      <td>2</td>\n",
              "      <td>242.0</td>\n",
              "      <td>17.8</td>\n",
              "      <td>392.83</td>\n",
              "      <td>4.03</td>\n",
              "      <td>34.7</td>\n",
              "    </tr>\n",
              "    <tr>\n",
              "      <th>3</th>\n",
              "      <td>0.03237</td>\n",
              "      <td>0.0</td>\n",
              "      <td>2.18</td>\n",
              "      <td>0</td>\n",
              "      <td>0.458</td>\n",
              "      <td>6.998</td>\n",
              "      <td>45.8</td>\n",
              "      <td>6.0622</td>\n",
              "      <td>3</td>\n",
              "      <td>222.0</td>\n",
              "      <td>18.7</td>\n",
              "      <td>394.63</td>\n",
              "      <td>2.94</td>\n",
              "      <td>33.4</td>\n",
              "    </tr>\n",
              "    <tr>\n",
              "      <th>4</th>\n",
              "      <td>0.06905</td>\n",
              "      <td>0.0</td>\n",
              "      <td>2.18</td>\n",
              "      <td>0</td>\n",
              "      <td>0.458</td>\n",
              "      <td>7.147</td>\n",
              "      <td>54.2</td>\n",
              "      <td>6.0622</td>\n",
              "      <td>3</td>\n",
              "      <td>222.0</td>\n",
              "      <td>18.7</td>\n",
              "      <td>396.90</td>\n",
              "      <td>5.33</td>\n",
              "      <td>36.2</td>\n",
              "    </tr>\n",
              "  </tbody>\n",
              "</table>\n",
              "</div>"
            ],
            "text/plain": [
              "      CRIM    ZN  INDUS  CHAS    NOX  ...    TAX  PRATIO       B  LSTAT  MEDV\n",
              "0  0.00632  18.0   2.31     0  0.538  ...  296.0    15.3  396.90   4.98  24.0\n",
              "1  0.02731   0.0   7.07     0  0.469  ...  242.0    17.8  396.90   9.14  21.6\n",
              "2  0.02729   0.0   7.07     0  0.469  ...  242.0    17.8  392.83   4.03  34.7\n",
              "3  0.03237   0.0   2.18     0  0.458  ...  222.0    18.7  394.63   2.94  33.4\n",
              "4  0.06905   0.0   2.18     0  0.458  ...  222.0    18.7  396.90   5.33  36.2\n",
              "\n",
              "[5 rows x 14 columns]"
            ]
          },
          "metadata": {
            "tags": []
          },
          "execution_count": 11
        }
      ]
    },
    {
      "cell_type": "code",
      "metadata": {
        "id": "wCQJzANOf40S",
        "colab_type": "code",
        "outputId": "9f0bbda4-df76-4c5b-bc6f-3ba3b1e95589",
        "colab": {
          "base_uri": "https://localhost:8080/",
          "height": 374
        }
      },
      "source": [
        "# Tabla de información de la base de datos\n",
        "dataset.info()"
      ],
      "execution_count": 0,
      "outputs": [
        {
          "output_type": "stream",
          "text": [
            "<class 'pandas.core.frame.DataFrame'>\n",
            "RangeIndex: 506 entries, 0 to 505\n",
            "Data columns (total 14 columns):\n",
            " #   Column  Non-Null Count  Dtype  \n",
            "---  ------  --------------  -----  \n",
            " 0   CRIM    506 non-null    float64\n",
            " 1   ZN      506 non-null    float64\n",
            " 2   INDUS   506 non-null    float64\n",
            " 3   CHAS    506 non-null    int64  \n",
            " 4   NOX     506 non-null    float64\n",
            " 5   RM      506 non-null    float64\n",
            " 6   AGE     506 non-null    float64\n",
            " 7   DIS     506 non-null    float64\n",
            " 8   RAD     506 non-null    int64  \n",
            " 9   TAX     506 non-null    float64\n",
            " 10  PRATIO  506 non-null    float64\n",
            " 11  B       506 non-null    float64\n",
            " 12  LSTAT   506 non-null    float64\n",
            " 13  MEDV    506 non-null    float64\n",
            "dtypes: float64(12), int64(2)\n",
            "memory usage: 55.5 KB\n"
          ],
          "name": "stdout"
        }
      ]
    },
    {
      "cell_type": "code",
      "metadata": {
        "id": "PcGc88LCf-SM",
        "colab_type": "code",
        "outputId": "9a24de8d-5759-41cb-83b3-1867affdb567",
        "colab": {
          "base_uri": "https://localhost:8080/",
          "height": 68
        }
      },
      "source": [
        "# Información de la columna CHAS\n",
        "dataset[\"CHAS\"].value_counts()"
      ],
      "execution_count": 0,
      "outputs": [
        {
          "output_type": "execute_result",
          "data": {
            "text/plain": [
              "0    471\n",
              "1     35\n",
              "Name: CHAS, dtype: int64"
            ]
          },
          "metadata": {
            "tags": []
          },
          "execution_count": 4
        }
      ]
    },
    {
      "cell_type": "code",
      "metadata": {
        "id": "vipdt1jJgX9K",
        "colab_type": "code",
        "outputId": "c48e5637-6884-4cc9-cf3c-272f602a10dc",
        "colab": {
          "base_uri": "https://localhost:8080/",
          "height": 1000
        }
      },
      "source": [
        "# Histograma de las características de las casas\n",
        "dataset.hist(bins=50, figsize=(18,18))\n",
        "plt.show()"
      ],
      "execution_count": 0,
      "outputs": [
        {
          "output_type": "display_data",
          "data": {
            "image/png": "[encoded data removed]",
            "text/plain": [
              "<Figure size 1296x1296 with 16 Axes>"
            ]
          },
          "metadata": {
            "tags": [],
            "needs_background": "light"
          }
        }
      ]
    },
    {
      "cell_type": "code",
      "metadata": {
        "id": "H1V5yCIalx08",
        "colab_type": "code",
        "outputId": "652ff429-a8c1-44cb-d649-2b172caf8191",
        "colab": {
          "base_uri": "https://localhost:8080/",
          "height": 1000
        }
      },
      "source": [
        "# Normalización de los datos\n",
        "# se cambia la escala para que todos los datos esten en la misma escala.\n",
        "def feature_normalization(dataset):\n",
        "    mu = np.mean(dataset,axis=0)\n",
        "    sigma = np.std(dataset,axis=0)\n",
        "    return (dataset-mu)/sigma\n",
        "\n",
        "features = dataset[dataset.columns[range(13)]]\n",
        "labels = dataset[dataset.columns[13]]\n",
        "\n",
        "normalized_features = feature_normalization(features)\n",
        "normalized_features.hist(bins=50, figsize=(18,18))\n",
        "normalized_labels = feature_normalization(labels)\n",
        "plt.show()"
      ],
      "execution_count": 0,
      "outputs": [
        {
          "output_type": "display_data",
          "data": {
            "image/png": "[encoded data removed]",
            "text/plain": [
              "<Figure size 1296x1296 with 16 Axes>"
            ]
          },
          "metadata": {
            "tags": [],
            "needs_background": "light"
          }
        }
      ]
    },
    {
      "cell_type": "code",
      "metadata": {
        "id": "K6IB_BmRmNOn",
        "colab_type": "code",
        "outputId": "639475ae-c3c4-4e7f-cb3c-8f52e43b7460",
        "colab": {
          "base_uri": "https://localhost:8080/",
          "height": 102
        }
      },
      "source": [
        "# Muestreo aleatorio\n",
        "# Se define un conjunto de datos para entrenar y hacer las pruebas al azar (80% de entrenamiento - 20% de prueba)\n",
        "f = normalized_features.values\n",
        "f = np.c_[np.ones(f.shape[0]), f]\n",
        "l = normalized_labels.values\n",
        "rnd_indices = np.random.rand(len(f)) < 0.90\n",
        "train_x = f[rnd_indices]\n",
        "train_y = l[rnd_indices]\n",
        "test_x = f[~rnd_indices]\n",
        "test_y = l[~rnd_indices]\n",
        "print(train_x.shape, train_y.shape)\n",
        "print(test_x.shape, test_y.shape)\n",
        "print(train_x[0])"
      ],
      "execution_count": 0,
      "outputs": [
        {
          "output_type": "stream",
          "text": [
            "(459, 14) (459,)\n",
            "(47, 14) (47,)\n",
            "[ 1.         -0.41978194  0.28482986 -1.2879095  -0.27259857 -0.14421743\n",
            "  0.41367189 -0.12001342  0.1402136  -0.98284286 -0.66660821 -1.45900038\n",
            "  0.44105193 -1.0755623 ]\n"
          ],
          "name": "stdout"
        }
      ]
    },
    {
      "cell_type": "code",
      "metadata": {
        "id": "WDX_jwp4m6_L",
        "colab_type": "code",
        "outputId": "05b076d3-8c92-469d-9e0c-6ceb50e58b65",
        "colab": {
          "base_uri": "https://localhost:8080/",
          "height": 221
        }
      },
      "source": [
        "# Parámetros de aprendizaje\n",
        "# Se establecen los parámetros de aprendizaje para el algoritmo de optimización.\n",
        "learning_rate = 0.0001\n",
        "training_epochs = 1000\n",
        "cost_history = np.empty(shape=[1],dtype=float)\n",
        "display_step = 100\n",
        "#\n",
        "# Se definen los marcadores de posición y las variables.\n",
        "n_train_samples = train_x.shape[0]\n",
        "n_dim = train_x.shape[1]\n",
        "X = tf.placeholder(tf.float32,shape=(n_train_samples,n_dim))\n",
        "Y = tf.placeholder(tf.float32,shape=(n_train_samples,))\n",
        "W = tf.Variable(tf.random_normal(shape=(n_dim,1), mean=1, stddev=0.1))\n",
        "init = tf.global_variables_initializer()\n",
        "#\n",
        "# Se define el modelo\n",
        "pred = tf.matmul(X,W)\n",
        "cost = tf.reduce_sum(tf.square(pred-Y))/(2*n_train_samples)\n",
        "optimizer = tf.train.GradientDescentOptimizer(learning_rate).minimize(cost)\n",
        "#\n",
        "# Entrenamos la base de datos\n",
        "sess = tf.Session()\n",
        "sess.run(init)\n",
        "\n",
        "for epoch in range(training_epochs):\n",
        "    sess.run(optimizer, feed_dict={X:train_x,Y:train_y})\n",
        "    cost_history = np.append(cost_history, sess.run(cost, feed_dict={X:train_x,Y:train_y}))\n",
        "    \n",
        "# Mostrar registros por época\n",
        "    if (epoch+1) % display_step == 0:\n",
        "        c = sess.run(cost, feed_dict={X: train_x, Y: train_y})\n",
        "        print(\"Época:\", '%04d'%(epoch+1), \"Costo=\",\"{:.9f}\".format(c))\n",
        "    \n",
        "print(\"Optimización terminada!\")\n",
        "training_cost = sess.run(cost, feed_dict={X: train_x, Y: train_y})\n",
        "print(\"Costo de entrenamiento=\",training_cost)"
      ],
      "execution_count": 0,
      "outputs": [
        {
          "output_type": "stream",
          "text": [
            "Época: 0100 Costo= 261.058654785\n",
            "Época: 0200 Costo= 238.426437378\n",
            "Época: 0300 Costo= 235.589187622\n",
            "Época: 0400 Costo= 235.106582642\n",
            "Época: 0500 Costo= 235.018951416\n",
            "Época: 0600 Costo= 235.002532959\n",
            "Época: 0700 Costo= 234.999374390\n",
            "Época: 0800 Costo= 234.998733521\n",
            "Época: 0900 Costo= 234.998580933\n",
            "Época: 1000 Costo= 234.998535156\n",
            "Optimización terminada!\n",
            "Costo de entrenamiento= 234.99854\n"
          ],
          "name": "stdout"
        }
      ]
    },
    {
      "cell_type": "code",
      "metadata": {
        "id": "nWu9X58apyW1",
        "colab_type": "code",
        "outputId": "d53c62a9-77c4-497f-a0a8-813fe5c57400",
        "colab": {
          "base_uri": "https://localhost:8080/",
          "height": 265
        }
      },
      "source": [
        "# Grafico de la evolución energética\n",
        "plt.plot(range(training_epochs),cost_history[1:], label=\"Evolución energética\")\n",
        "plt.legend()\n",
        "plt.show()"
      ],
      "execution_count": 0,
      "outputs": [
        {
          "output_type": "display_data",
          "data": {
            "image/png": "[encoded data removed]",
            "text/plain": [
              "<Figure size 432x288 with 1 Axes>"
            ]
          },
          "metadata": {
            "tags": [],
            "needs_background": "light"
          }
        }
      ]
    },
    {
      "cell_type": "code",
      "metadata": {
        "id": "tJ6DfcnLrb0q",
        "colab_type": "code",
        "outputId": "4d73ee78-16ce-4f96-d0f4-d3b3d5b0dd29",
        "colab": {
          "base_uri": "https://localhost:8080/",
          "height": 51
        }
      },
      "source": [
        "# Prueba\n",
        "n_test_samples=test_x.shape[0]\n",
        "X_test = tf.placeholder(tf.float32,shape=(n_test_samples,n_dim))\n",
        "Y_test = tf.placeholder(tf.float32,shape=(n_test_samples,))\n",
        "\n",
        "testing_cost = sess.run(tf.reduce_sum(tf.square(tf.matmul(X_test,W)-Y_test))/(2*n_test_samples), feed_dict={X_test: test_x, Y_test: test_y})\n",
        "print(\"Costo de prueba =\",testing_cost)\n",
        "print(\"Diferencia de la pérdida cuadrática media absoluta:\", abs(training_cost - testing_cost))"
      ],
      "execution_count": 0,
      "outputs": [
        {
          "output_type": "stream",
          "text": [
            "Costo de prueba = 18.00339\n",
            "Diferencia de la pérdida cuadrática media absoluta: 216.99515\n"
          ],
          "name": "stdout"
        }
      ]
    },
    {
      "cell_type": "code",
      "metadata": {
        "id": "J6uPDxK_rzwQ",
        "colab_type": "code",
        "outputId": "67bc2f7e-4a23-4258-98c4-0d560c4a691c",
        "colab": {
          "base_uri": "https://localhost:8080/",
          "height": 816
        }
      },
      "source": [
        "# Valores predecidos las casas\n",
        "print(sess.run(tf.matmul(X_test,W), feed_dict={X_test: test_x}))"
      ],
      "execution_count": 0,
      "outputs": [
        {
          "output_type": "stream",
          "text": [
            "[[0.00273725]\n",
            " [0.00293358]\n",
            " [0.00327575]\n",
            " [0.00271106]\n",
            " [0.0026655 ]\n",
            " [0.00258337]\n",
            " [0.00213954]\n",
            " [0.00395729]\n",
            " [0.00257117]\n",
            " [0.00250518]\n",
            " [0.00242236]\n",
            " [0.00265036]\n",
            " [0.00263018]\n",
            " [0.00275027]\n",
            " [0.0027842 ]\n",
            " [0.00246393]\n",
            " [0.00225664]\n",
            " [0.00289822]\n",
            " [0.00250874]\n",
            " [0.00260984]\n",
            " [0.00296503]\n",
            " [0.00295447]\n",
            " [0.00293692]\n",
            " [0.0030316 ]\n",
            " [0.00304471]\n",
            " [0.00270533]\n",
            " [0.00270394]\n",
            " [0.00276225]\n",
            " [0.00287194]\n",
            " [0.0023656 ]\n",
            " [0.00275549]\n",
            " [0.00268964]\n",
            " [0.00280743]\n",
            " [0.00264401]\n",
            " [0.00258336]\n",
            " [0.00262674]\n",
            " [0.00287344]\n",
            " [0.00257651]\n",
            " [0.00264514]\n",
            " [0.00283771]\n",
            " [0.00282631]\n",
            " [0.00296401]\n",
            " [0.00288039]\n",
            " [0.00278964]\n",
            " [0.00278007]\n",
            " [0.00285205]\n",
            " [0.00269744]]\n"
          ],
          "name": "stdout"
        }
      ]
    },
    {
      "cell_type": "markdown",
      "metadata": {
        "id": "OmJxfKoD0RQo",
        "colab_type": "text"
      },
      "source": [
        "Referencias:\n",
        "==\n",
        "1. https://dzone.com/articles/python-anaconda-tutorial-everything-you-need-to-kn\n",
        "2. https://www.w3schools.com/python/python_intro.asp\n",
        "3. https://matplotlib.org/index.html"
      ]
    }
  ]
}