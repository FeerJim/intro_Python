{
 "cells": [
  {
   "cell_type": "markdown",
   "metadata": {},
   "source": [
    "Introducción a Python\n",
    "==\n",
    "Por: Fernando Jiménez T.\n",
    "Tips antes de comenzar\n",
    "--\n",
    "1. Usar *Markdown* para escribir texto y *Code* para escribir en el lenguaje **Python**.\n",
    "2. Jupyter notebook es compatible con latex (usar *Markdown* para usar la sintaxis de latex.)\n",
    "$$A = \\{ (x,y) \\in \\mathbb{R}^2 | x \\neq 0 \\text{ e } y >0 \\}$$\n",
    "Para saber más de *Markdown* se puede visitar: https://www.markdownguide.org/extended-syntax/ o https://markdown-guide.readthedocs.io/en/latest/basics.html#markdown-basics.\n",
    "3. Para asignar valores a ciertas variables se puede utilizar **=**. Además se pueden realizar operaciones simples (**+,-.x,/,etc**).\n",
    "4. Para añadir comentarios en el código se puede utilizar el **#**."
   ]
  },
  {
   "cell_type": "markdown",
   "metadata": {},
   "source": [
    "## Porqué usar Anaconda?\n",
    "Anaconda es una fuente de distribución de *Python* y *R*. Es muy usado para *data sicence*, *machinle learning*, *deep learning*, etc. Cuenta con más de 300 librerias muy útiles para los programadores. Además de ser una plataforma gratuita y compatible con cualquier sistema operativo, utiliza la interfaz de *jupyter notebook* para crear documentos (pdf,tex,py,md,...)."
   ]
  },
  {
   "cell_type": "markdown",
   "metadata": {},
   "source": [
    "## Porqué programar en Python?\n",
    "Python es un lenguaje de programación que se a vuelto muy popular debido a la estructura de sus códigos. A diferencia de lenguajes como C o C++, la escritura tiende a ser muy compacta.\n",
    "Python puede ser usado para crear aplicaciones web, sistemas de bases de datos, optimización matemática, entre otros.\n",
    "Se puede programar en este lenguaje en cualquier sistema operativo (Windows, Mac, Linux, Raspberry Pi, etc). Utiliza una sintaxis similar al lenguaje Inglés."
   ]
  },
  {
   "cell_type": "markdown",
   "metadata": {},
   "source": [
    "## Instalación\n",
    "- Anaconda: https://www.anaconda.com/products/individual"
   ]
  },
  {
   "cell_type": "markdown",
   "metadata": {},
   "source": [
    "## Operaciones Básicas"
   ]
  },
  {
   "cell_type": "code",
   "execution_count": null,
   "metadata": {},
   "outputs": [],
   "source": [
    "# Suma\n",
    "2+3\n",
    "# Resta\n",
    "2-3\n",
    "# División\n",
    "2/3\n",
    "# Producto\n",
    "2*3\n",
    "# Exponente\n",
    "5**2\n",
    "# Módulo\n",
    "28%5\n",
    "# Comparaciones\n",
    "4 > 2 or 4 <= 2\n",
    "4 == 2\n",
    "4!= 2"
   ]
  },
  {
   "cell_type": "markdown",
   "metadata": {},
   "source": [
    "## Tipos de variables\n",
    "Las operaciones básicas no se pueden realizar entre variables tipo *string* y variables tipo *float* o *integer*."
   ]
  },
  {
   "cell_type": "code",
   "execution_count": null,
   "metadata": {},
   "outputs": [],
   "source": [
    "# String\n",
    "x = \"Hola\"\n",
    "# Integer\n",
    "x = 1\n",
    "# Float\n",
    "x = 2.0"
   ]
  },
  {
   "cell_type": "markdown",
   "metadata": {},
   "source": [
    "## Sintaxis\n",
    "Se deben respetar los espacions."
   ]
  },
  {
   "cell_type": "code",
   "execution_count": null,
   "metadata": {},
   "outputs": [],
   "source": [
    "if 5 > 2:\n",
    "  print(\"Five is greater than two!\")\n",
    "\"\"\"\n",
    "En este caso si coloco a la misma altura del if el print, saldrá un error.\n",
    "Se puede usar tab para alinear los códigos.\n",
    "\"\"\"\n",
    "if 5 > 2:\n",
    "print(\"Five is greater than two!\")"
   ]
  },
  {
   "cell_type": "markdown",
   "metadata": {},
   "source": [
    "## Importar librerías"
   ]
  },
  {
   "cell_type": "code",
   "execution_count": null,
   "metadata": {},
   "outputs": [],
   "source": [
    "import numpy as np\n",
    "from scipy import sparse,linalg"
   ]
  },
  {
   "cell_type": "markdown",
   "metadata": {},
   "source": [
    "### Ejemplo:"
   ]
  },
  {
   "cell_type": "code",
   "execution_count": null,
   "metadata": {},
   "outputs": [],
   "source": [
    "# Crear un vector x usando la libreria numpy\n",
    "x = np.array([1,2,3,4])\n",
    "# Crear un vector de unos\n",
    "N=50 # Dimension del vector\n",
    "b = np.ones(N)\n",
    "# Crear un vector aleatorio uniforme (0,1) de dimensión N\n",
    "b = np.random.random(N)\n",
    "# Crear tres vectores aleatorios de vectores aleatorios uniformes (0,1) de dimensión 4. Matriz\n",
    "C = np.random.random((3,4))\n",
    "# Producto de una matriz por un vector usando numpy\n",
    "y = np.dot(C,x)\n",
    "# Producto de dos matrices\n",
    "D = 2*np.ones((4,3))\n",
    "A = np.dot(C,D)\n",
    "# Producto de dos matrices componente a componente\n",
    "D = np.ones((3,3))\n",
    "B = np.multiply(A,D)\n",
    "# Matriz sparse de dimension N\n",
    "A = sparse.diags([-1,2,-1],[-1,0,1], shape=(N,N)).toarray()\n",
    "# Resolver el sistema Ax=b usando el solver por defecto\n",
    "x = linalg.solve(A,b)\n",
    "# Resolver el sistema usando factorización LU\n",
    "P, L, U = linalg.lu(A)\n",
    "y = linalg.solve(L,b)\n",
    "x = linalg.solve(U,y)"
   ]
  },
  {
   "cell_type": "markdown",
   "metadata": {},
   "source": [
    "Referencias:\n",
    "==\n",
    "1. https://dzone.com/articles/python-anaconda-tutorial-everything-you-need-to-kn\n",
    "2. https://www.w3schools.com/python/python_intro.asp\n",
    "3. "
   ]
  }
 ],
 "metadata": {
  "kernelspec": {
   "display_name": "Python 3",
   "language": "python",
   "name": "python3"
  },
  "language_info": {
   "codemirror_mode": {
    "name": "ipython",
    "version": 3
   },
   "file_extension": ".py",
   "mimetype": "text/x-python",
   "name": "python",
   "nbconvert_exporter": "python",
   "pygments_lexer": "ipython3",
   "version": "3.7.6"
  }
 },
 "nbformat": 4,
 "nbformat_minor": 4
}
