{
 "cells": [
  {
   "cell_type": "markdown",
   "metadata": {},
   "source": [
    "# Capítulo 5: Conjuntos\n",
    "\n",
    "Colección de elementos no ordenados y no indexados."
   ]
  },
  {
   "cell_type": "code",
   "execution_count": 1,
   "metadata": {},
   "outputs": [
    {
     "data": {
      "text/plain": [
       "dict"
      ]
     },
     "execution_count": 1,
     "metadata": {},
     "output_type": "execute_result"
    }
   ],
   "source": [
    "x = {}\n",
    "type(x)"
   ]
  },
  {
   "cell_type": "code",
   "execution_count": 2,
   "metadata": {},
   "outputs": [
    {
     "data": {
      "text/plain": [
       "set"
      ]
     },
     "execution_count": 2,
     "metadata": {},
     "output_type": "execute_result"
    }
   ],
   "source": [
    "x = {1,2,3}\n",
    "type(x)"
   ]
  },
  {
   "cell_type": "code",
   "execution_count": 3,
   "metadata": {},
   "outputs": [],
   "source": [
    "x = set((1,2,3))"
   ]
  },
  {
   "cell_type": "code",
   "execution_count": 4,
   "metadata": {},
   "outputs": [
    {
     "name": "stdout",
     "output_type": "stream",
     "text": [
      "{1, 2, 3}\n"
     ]
    }
   ],
   "source": [
    "print(x)"
   ]
  },
  {
   "cell_type": "code",
   "execution_count": 5,
   "metadata": {},
   "outputs": [
    {
     "name": "stdout",
     "output_type": "stream",
     "text": [
      "True\n"
     ]
    }
   ],
   "source": [
    "print(1 in x)"
   ]
  },
  {
   "cell_type": "code",
   "execution_count": 6,
   "metadata": {},
   "outputs": [],
   "source": [
    "x.add(4)"
   ]
  },
  {
   "cell_type": "code",
   "execution_count": 7,
   "metadata": {},
   "outputs": [
    {
     "name": "stdout",
     "output_type": "stream",
     "text": [
      "{1, 2, 3, 4}\n"
     ]
    }
   ],
   "source": [
    "print(x)"
   ]
  },
  {
   "cell_type": "code",
   "execution_count": 8,
   "metadata": {},
   "outputs": [],
   "source": [
    "x.update({5,6,7})"
   ]
  },
  {
   "cell_type": "code",
   "execution_count": 9,
   "metadata": {},
   "outputs": [
    {
     "name": "stdout",
     "output_type": "stream",
     "text": [
      "{1, 2, 3, 4, 5, 6, 7}\n"
     ]
    }
   ],
   "source": [
    "print(x)"
   ]
  },
  {
   "cell_type": "code",
   "execution_count": 10,
   "metadata": {},
   "outputs": [],
   "source": [
    "x.update({1,4,6})"
   ]
  },
  {
   "cell_type": "code",
   "execution_count": 11,
   "metadata": {},
   "outputs": [
    {
     "name": "stdout",
     "output_type": "stream",
     "text": [
      "{1, 2, 3, 4, 5, 6, 7}\n"
     ]
    }
   ],
   "source": [
    "print(x)"
   ]
  },
  {
   "cell_type": "code",
   "execution_count": 12,
   "metadata": {},
   "outputs": [
    {
     "data": {
      "text/plain": [
       "7"
      ]
     },
     "execution_count": 12,
     "metadata": {},
     "output_type": "execute_result"
    }
   ],
   "source": [
    "len(x)"
   ]
  },
  {
   "cell_type": "code",
   "execution_count": 13,
   "metadata": {},
   "outputs": [],
   "source": [
    "x.remove(4)"
   ]
  },
  {
   "cell_type": "code",
   "execution_count": 14,
   "metadata": {},
   "outputs": [
    {
     "name": "stdout",
     "output_type": "stream",
     "text": [
      "{1, 2, 3, 5, 6, 7}\n"
     ]
    }
   ],
   "source": [
    "print(x)"
   ]
  },
  {
   "cell_type": "code",
   "execution_count": 15,
   "metadata": {},
   "outputs": [],
   "source": [
    "x.discard(3)"
   ]
  },
  {
   "cell_type": "code",
   "execution_count": 16,
   "metadata": {},
   "outputs": [
    {
     "name": "stdout",
     "output_type": "stream",
     "text": [
      "{1, 2, 5, 6, 7}\n"
     ]
    }
   ],
   "source": [
    "print(x)"
   ]
  },
  {
   "cell_type": "code",
   "execution_count": 17,
   "metadata": {},
   "outputs": [
    {
     "data": {
      "text/plain": [
       "1"
      ]
     },
     "execution_count": 17,
     "metadata": {},
     "output_type": "execute_result"
    }
   ],
   "source": [
    "x.pop()"
   ]
  },
  {
   "cell_type": "code",
   "execution_count": 18,
   "metadata": {},
   "outputs": [
    {
     "name": "stdout",
     "output_type": "stream",
     "text": [
      "{2, 5, 6, 7}\n"
     ]
    }
   ],
   "source": [
    "print(x)"
   ]
  },
  {
   "cell_type": "code",
   "execution_count": 19,
   "metadata": {},
   "outputs": [
    {
     "name": "stdout",
     "output_type": "stream",
     "text": [
      "{2, 5, 6, 7}\n"
     ]
    }
   ],
   "source": [
    "aux = x.copy()\n",
    "print(aux)"
   ]
  },
  {
   "cell_type": "code",
   "execution_count": 20,
   "metadata": {},
   "outputs": [],
   "source": [
    "x.clear()"
   ]
  },
  {
   "cell_type": "code",
   "execution_count": 21,
   "metadata": {},
   "outputs": [
    {
     "name": "stdout",
     "output_type": "stream",
     "text": [
      "set()\n"
     ]
    }
   ],
   "source": [
    "print(x)"
   ]
  },
  {
   "cell_type": "code",
   "execution_count": 22,
   "metadata": {},
   "outputs": [
    {
     "ename": "NameError",
     "evalue": "name 'x' is not defined",
     "output_type": "error",
     "traceback": [
      "\u001b[1;31m---------------------------------------------------------------------------\u001b[0m",
      "\u001b[1;31mNameError\u001b[0m                                 Traceback (most recent call last)",
      "\u001b[1;32m<ipython-input-22-a1b2c517625a>\u001b[0m in \u001b[0;36m<module>\u001b[1;34m\u001b[0m\n\u001b[0;32m      1\u001b[0m \u001b[0mx\u001b[0m \u001b[1;33m=\u001b[0m \u001b[0maux\u001b[0m\u001b[1;33m\u001b[0m\u001b[1;33m\u001b[0m\u001b[0m\n\u001b[0;32m      2\u001b[0m \u001b[1;32mdel\u001b[0m \u001b[0mx\u001b[0m\u001b[1;33m\u001b[0m\u001b[1;33m\u001b[0m\u001b[0m\n\u001b[1;32m----> 3\u001b[1;33m \u001b[0mprint\u001b[0m\u001b[1;33m(\u001b[0m\u001b[0mx\u001b[0m\u001b[1;33m)\u001b[0m\u001b[1;33m\u001b[0m\u001b[1;33m\u001b[0m\u001b[0m\n\u001b[0m",
      "\u001b[1;31mNameError\u001b[0m: name 'x' is not defined"
     ]
    }
   ],
   "source": [
    "x = aux\n",
    "del x\n",
    "print(x)"
   ]
  },
  {
   "cell_type": "code",
   "execution_count": 23,
   "metadata": {},
   "outputs": [
    {
     "data": {
      "text/plain": [
       "{1, 2, 3, 4, 5, 6, 7}"
      ]
     },
     "execution_count": 23,
     "metadata": {},
     "output_type": "execute_result"
    }
   ],
   "source": [
    "x = aux\n",
    "y = {1,3,4}\n",
    "x.union(y)"
   ]
  },
  {
   "cell_type": "code",
   "execution_count": 25,
   "metadata": {},
   "outputs": [
    {
     "data": {
      "text/plain": [
       "{2, 5, 6, 7}"
      ]
     },
     "execution_count": 25,
     "metadata": {},
     "output_type": "execute_result"
    }
   ],
   "source": [
    "x"
   ]
  },
  {
   "cell_type": "code",
   "execution_count": 24,
   "metadata": {},
   "outputs": [
    {
     "data": {
      "text/plain": [
       "{1, 2, 3, 4, 5, 6, 7}"
      ]
     },
     "execution_count": 24,
     "metadata": {},
     "output_type": "execute_result"
    }
   ],
   "source": [
    "x | y"
   ]
  },
  {
   "cell_type": "code",
   "execution_count": 26,
   "metadata": {},
   "outputs": [
    {
     "data": {
      "text/plain": [
       "set()"
      ]
     },
     "execution_count": 26,
     "metadata": {},
     "output_type": "execute_result"
    }
   ],
   "source": [
    "x.intersection(y)"
   ]
  },
  {
   "cell_type": "code",
   "execution_count": 27,
   "metadata": {},
   "outputs": [
    {
     "data": {
      "text/plain": [
       "set()"
      ]
     },
     "execution_count": 27,
     "metadata": {},
     "output_type": "execute_result"
    }
   ],
   "source": [
    "x & y"
   ]
  },
  {
   "cell_type": "code",
   "execution_count": 28,
   "metadata": {},
   "outputs": [
    {
     "data": {
      "text/plain": [
       "{2, 5, 6, 7}"
      ]
     },
     "execution_count": 28,
     "metadata": {},
     "output_type": "execute_result"
    }
   ],
   "source": [
    "x.difference(y)"
   ]
  },
  {
   "cell_type": "code",
   "execution_count": 29,
   "metadata": {},
   "outputs": [
    {
     "data": {
      "text/plain": [
       "{2, 5, 6, 7}"
      ]
     },
     "execution_count": 29,
     "metadata": {},
     "output_type": "execute_result"
    }
   ],
   "source": [
    "x - y"
   ]
  },
  {
   "cell_type": "code",
   "execution_count": 30,
   "metadata": {},
   "outputs": [],
   "source": [
    "x2 = {1,3,4}\n",
    "y2 = {1,2,3}\n",
    "x2.difference_update(y2)"
   ]
  },
  {
   "cell_type": "code",
   "execution_count": 31,
   "metadata": {},
   "outputs": [
    {
     "name": "stdout",
     "output_type": "stream",
     "text": [
      "{4}\n"
     ]
    }
   ],
   "source": [
    "print(x2)"
   ]
  },
  {
   "cell_type": "code",
   "execution_count": 32,
   "metadata": {},
   "outputs": [],
   "source": [
    "x2 = {1,3,4}\n",
    "y2 = {1,2,3}\n",
    "x2.intersection_update(y2)"
   ]
  },
  {
   "cell_type": "code",
   "execution_count": 33,
   "metadata": {},
   "outputs": [
    {
     "name": "stdout",
     "output_type": "stream",
     "text": [
      "{1, 3}\n"
     ]
    }
   ],
   "source": [
    "print(x2)"
   ]
  },
  {
   "cell_type": "code",
   "execution_count": 34,
   "metadata": {},
   "outputs": [
    {
     "data": {
      "text/plain": [
       "False"
      ]
     },
     "execution_count": 34,
     "metadata": {},
     "output_type": "execute_result"
    }
   ],
   "source": [
    "x2 = {1,3,4}\n",
    "y2 = {1,2,3}\n",
    "x2.isdisjoint(y2)"
   ]
  },
  {
   "cell_type": "code",
   "execution_count": 35,
   "metadata": {},
   "outputs": [
    {
     "data": {
      "text/plain": [
       "True"
      ]
     },
     "execution_count": 35,
     "metadata": {},
     "output_type": "execute_result"
    }
   ],
   "source": [
    "x.isdisjoint(y)"
   ]
  },
  {
   "cell_type": "code",
   "execution_count": 36,
   "metadata": {},
   "outputs": [
    {
     "data": {
      "text/plain": [
       "False"
      ]
     },
     "execution_count": 36,
     "metadata": {},
     "output_type": "execute_result"
    }
   ],
   "source": [
    "x.issubset(y)"
   ]
  },
  {
   "cell_type": "code",
   "execution_count": 37,
   "metadata": {},
   "outputs": [
    {
     "data": {
      "text/plain": [
       "True"
      ]
     },
     "execution_count": 37,
     "metadata": {},
     "output_type": "execute_result"
    }
   ],
   "source": [
    "{1}.issubset(y2)"
   ]
  },
  {
   "cell_type": "code",
   "execution_count": 38,
   "metadata": {},
   "outputs": [
    {
     "data": {
      "text/plain": [
       "True"
      ]
     },
     "execution_count": 38,
     "metadata": {},
     "output_type": "execute_result"
    }
   ],
   "source": [
    "x2.issuperset({1})"
   ]
  },
  {
   "cell_type": "markdown",
   "metadata": {},
   "source": [
    "$$\n",
    "A \\Delta B = (A \\cup B) \\setminus (A \\cap B) = (A \\setminus B) \\cup (B \\setminus A)\n",
    "$$"
   ]
  },
  {
   "cell_type": "code",
   "execution_count": 39,
   "metadata": {},
   "outputs": [
    {
     "data": {
      "text/plain": [
       "{1, 2, 3, 4, 5, 6, 7}"
      ]
     },
     "execution_count": 39,
     "metadata": {},
     "output_type": "execute_result"
    }
   ],
   "source": [
    "x.symmetric_difference(y)"
   ]
  },
  {
   "cell_type": "code",
   "execution_count": 40,
   "metadata": {},
   "outputs": [],
   "source": [
    "x2.symmetric_difference_update(y2)"
   ]
  },
  {
   "cell_type": "code",
   "execution_count": 41,
   "metadata": {},
   "outputs": [
    {
     "name": "stdout",
     "output_type": "stream",
     "text": [
      "{2, 4}\n"
     ]
    }
   ],
   "source": [
    "print(x2)"
   ]
  },
  {
   "cell_type": "markdown",
   "metadata": {},
   "source": [
    "**Ejercicio:**\n",
    "\n",
    "Generar 2 conjuntos con 10 numeros aleatorios enteros entre 0 y 100.\n",
    "Calcule su unión, intersección y diferencia."
   ]
  },
  {
   "cell_type": "code",
   "execution_count": 42,
   "metadata": {},
   "outputs": [],
   "source": [
    "# Crear los conjuntos\n",
    "import numpy as np\n",
    "aux = np.random.randint(100,size=(10,10))\n",
    "x = set(aux[0])\n",
    "y = set(aux[1])"
   ]
  },
  {
   "cell_type": "code",
   "execution_count": 43,
   "metadata": {},
   "outputs": [],
   "source": [
    "# Calcular la union, interseccion y diferencia\n",
    "union = x | y\n",
    "inter = x & y\n",
    "dife = x - y"
   ]
  },
  {
   "cell_type": "code",
   "execution_count": 44,
   "metadata": {},
   "outputs": [
    {
     "name": "stdout",
     "output_type": "stream",
     "text": [
      "Union: {11, 76, 16, 17, 18, 19, 20, 21, 91, 93, 30, 96, 36, 40, 47, 49, 57, 62} \n",
      "Intersección: {40} \n",
      "Diferencia: {11, 16, 49, 19, 21, 57, 91, 62}\n"
     ]
    }
   ],
   "source": [
    "# visualizar los resultados\n",
    "print('Union: {} \\nIntersección: {} \\nDiferencia: {}'.format(union,inter,dife))"
   ]
  },
  {
   "cell_type": "markdown",
   "metadata": {},
   "source": [
    "# Capítulo 6. Implementación de modelos de programación lineal\n",
    "\n",
    "Existen otros Paquetes que se pueden usar para la resolución de modelos. Los más comunes, dependiendo del tipo de modelo son: \n",
    "\n",
    "- CVXOpt\n",
    "- PuLP\n",
    "- OpenOpt\n",
    "- Pyomo-Coopr\n",
    "- **Xpress**\n",
    "\n",
    "En esta ocación procederemos a implementar y resolver modelos lineales con el paquete **Pyomo**.\n",
    "\n",
    "## Pyomo:\n",
    "\n",
    "Pyomo es un paquete desarrollado por Coopr. Es de uso libre y se puede adaptar a diferentes solvers, tanto de uso gratuito como pagados.\n",
    "\n",
    "## Instalación:\n",
    "\n",
    "Para la instalación podemos ejecutar el comando `pip install pyomo`. En algunos casos podría dar un error de compilación debido a la falta de dependencias. Uno puede chequearlas usando `pip list`. Sin embargo, Anaconda nos instala todas estas dependencias en su paquete por defecto."
   ]
  },
  {
   "cell_type": "code",
   "execution_count": 45,
   "metadata": {},
   "outputs": [
    {
     "name": "stdout",
     "output_type": "stream",
     "text": [
      "Package                            Version\n",
      "---------------------------------- -----------------\n",
      "alabaster                          0.7.12\n",
      "anaconda-client                    1.7.2\n",
      "anaconda-navigator                 1.9.12\n",
      "anaconda-project                   0.8.3\n",
      "apply                              1.5\n",
      "argh                               0.26.2\n",
      "asn1crypto                         1.3.0\n",
      "astroid                            2.3.3\n",
      "astropy                            4.0\n",
      "atomicwrites                       1.3.0\n",
      "attrs                              19.3.0\n",
      "autopep8                           1.4.4\n",
      "Babel                              2.8.0\n",
      "backcall                           0.1.0\n",
      "backports.functools-lru-cache      1.6.1\n",
      "backports.shutil-get-terminal-size 1.0.0\n",
      "backports.tempfile                 1.0\n",
      "backports.weakref                  1.0.post1\n",
      "bandmat                            0.8.dev1\n",
      "bcrypt                             3.1.7\n",
      "beautifulsoup4                     4.8.2\n",
      "bitarray                           1.2.1\n",
      "bkcharts                           0.2\n",
      "bleach                             3.1.0\n",
      "bokeh                              1.4.0\n",
      "boto                               2.49.0\n",
      "Bottleneck                         1.3.2\n",
      "certifi                            2019.11.28\n",
      "cffi                               1.14.0\n",
      "chardet                            3.0.4\n",
      "Click                              7.0\n",
      "cloudpickle                        1.3.0\n",
      "clyent                             1.2.2\n",
      "colorama                           0.4.3\n",
      "comtypes                           1.1.7\n",
      "conda                              4.8.3\n",
      "conda-build                        3.18.11\n",
      "conda-package-handling             1.7.0\n",
      "conda-verify                       3.4.2\n",
      "contextlib2                        0.6.0.post1\n",
      "cryptography                       2.8\n",
      "cycler                             0.10.0\n",
      "Cython                             0.29.20\n",
      "cytoolz                            0.10.1\n",
      "dask                               2.11.0\n",
      "decorator                          4.4.1\n",
      "defusedxml                         0.6.0\n",
      "diff-match-patch                   20181111\n",
      "distributed                        2.11.0\n",
      "docutils                           0.16\n",
      "entrypoints                        0.3\n",
      "et-xmlfile                         1.0.1\n",
      "fastcache                          1.1.0\n",
      "filelock                           3.0.12\n",
      "flake8                             3.7.9\n",
      "Flask                              1.1.1\n",
      "fsspec                             0.6.2\n",
      "future                             0.18.2\n",
      "gevent                             1.4.0\n",
      "glob2                              0.7\n",
      "greenlet                           0.4.15\n",
      "h5py                               2.10.0\n",
      "HeapDict                           1.0.1\n",
      "html5lib                           1.0.1\n",
      "hypothesis                         5.5.4\n",
      "idna                               2.8\n",
      "imageio                            2.6.1\n",
      "imagesize                          1.2.0\n",
      "importlib-metadata                 1.5.0\n",
      "intervaltree                       3.0.2\n",
      "ipykernel                          5.1.4\n",
      "ipython                            7.12.0\n",
      "ipython-genutils                   0.2.0\n",
      "ipywidgets                         7.5.1\n",
      "isort                              4.3.21\n",
      "itsdangerous                       1.1.0\n",
      "jdcal                              1.4.1\n",
      "jedi                               0.14.1\n",
      "Jinja2                             2.11.1\n",
      "joblib                             0.14.1\n",
      "json5                              0.9.1\n",
      "jsonschema                         3.2.0\n",
      "jupyter                            1.0.0\n",
      "jupyter-client                     5.3.4\n",
      "jupyter-console                    6.1.0\n",
      "jupyter-core                       4.6.1\n",
      "jupyter-polymake-wrapper           0.1\n",
      "jupyterlab                         1.2.6\n",
      "jupyterlab-server                  1.0.6\n",
      "keyring                            21.1.0\n",
      "kiwisolver                         1.1.0\n",
      "lazy-object-proxy                  1.4.3\n",
      "libarchive-c                       2.8\n",
      "llvmlite                           0.31.0\n",
      "locket                             0.2.0\n",
      "lxml                               4.5.0\n",
      "MarkupSafe                         1.1.1\n",
      "matplotlib                         3.1.3\n",
      "mccabe                             0.6.1\n",
      "menuinst                           1.4.16\n",
      "mistune                            0.8.4\n",
      "mkl-fft                            1.0.15\n",
      "mkl-random                         1.1.0\n",
      "mkl-service                        2.3.0\n",
      "mock                               4.0.1\n",
      "more-itertools                     8.2.0\n",
      "mpmath                             1.1.0\n",
      "msgpack                            0.6.1\n",
      "multipledispatch                   0.6.0\n",
      "navigator-updater                  0.2.1\n",
      "nbconvert                          5.6.1\n",
      "nbformat                           5.0.4\n",
      "networkx                           2.4\n",
      "nltk                               3.4.5\n",
      "nose                               1.3.7\n",
      "notebook                           6.0.3\n",
      "numba                              0.48.0\n",
      "numexpr                            2.7.1\n",
      "numpy                              1.18.5\n",
      "numpydoc                           0.9.2\n",
      "olefile                            0.46\n",
      "openpyxl                           3.0.3\n",
      "packaging                          20.1\n",
      "pandas                             1.0.1\n",
      "pandocfilters                      1.4.2\n",
      "paramiko                           2.7.1\n",
      "parso                              0.5.2\n",
      "partd                              1.1.0\n",
      "path                               13.1.0\n",
      "pathlib2                           2.3.5\n",
      "pathtools                          0.1.2\n",
      "patsy                              0.5.1\n",
      "pep8                               1.7.1\n",
      "pexpect                            4.8.0\n",
      "pickleshare                        0.7.5\n",
      "Pillow                             7.0.0\n",
      "pip                                20.2.4\n",
      "pkginfo                            1.5.0.1\n",
      "plotly                             4.9.0\n",
      "pluggy                             0.13.1\n",
      "ply                                3.11\n",
      "prometheus-client                  0.7.1\n",
      "prompt-toolkit                     3.0.3\n",
      "psutil                             5.6.7\n",
      "py                                 1.8.1\n",
      "pycodestyle                        2.5.0\n",
      "pycosat                            0.6.3\n",
      "pycparser                          2.19\n",
      "pycrypto                           2.6.1\n",
      "pycurl                             7.43.0.5\n",
      "pydocstyle                         4.0.1\n",
      "pyflakes                           2.1.1\n",
      "Pygments                           2.5.2\n",
      "pylint                             2.4.4\n",
      "PyNaCl                             1.3.0\n",
      "pyodbc                             4.0.0-unsupported\n",
      "Pyomo                              5.7.1\n",
      "pyOpenSSL                          19.1.0\n",
      "pyparsing                          2.4.6\n",
      "pyreadline                         2.1\n",
      "pyrsistent                         0.15.7\n",
      "PySocks                            1.7.1\n",
      "pytest                             5.3.5\n",
      "pytest-arraydiff                   0.3\n",
      "pytest-astropy                     0.8.0\n",
      "pytest-astropy-header              0.1.2\n",
      "pytest-doctestplus                 0.5.0\n",
      "pytest-openfiles                   0.4.0\n",
      "pytest-remotedata                  0.3.2\n",
      "python-dateutil                    2.8.1\n",
      "python-jsonrpc-server              0.3.4\n",
      "python-language-server             0.31.7\n",
      "pythonnet                          2.4.0\n",
      "pytz                               2019.3\n",
      "PyUtilib                           6.0.0\n",
      "PyWavelets                         1.1.1\n",
      "pywin32                            227\n",
      "pywin32-ctypes                     0.2.0\n",
      "pywinpty                           0.5.7\n",
      "PyYAML                             5.3\n",
      "pyzmq                              18.1.1\n",
      "QDarkStyle                         2.8\n",
      "QtAwesome                          0.6.1\n",
      "qtconsole                          4.6.0\n",
      "QtPy                               1.9.0\n",
      "requests                           2.22.0\n",
      "retrying                           1.3.3\n",
      "rope                               0.16.0\n",
      "Rtree                              0.9.3\n",
      "ruamel-yaml                        0.15.87\n",
      "scikit-image                       0.16.2\n",
      "scikit-learn                       0.23.1\n",
      "scipy                              1.4.1\n",
      "seaborn                            0.10.0\n",
      "Send2Trash                         1.5.0\n",
      "setuptools                         47.3.1\n",
      "simplegeneric                      0.8.1\n",
      "singledispatch                     3.4.0.3\n",
      "six                                1.14.0\n",
      "snowballstemmer                    2.0.0\n",
      "sortedcollections                  1.1.2\n",
      "sortedcontainers                   2.1.0\n",
      "soupsieve                          1.9.5\n",
      "Sphinx                             2.4.0\n",
      "sphinxcontrib-applehelp            1.0.1\n",
      "sphinxcontrib-devhelp              1.0.1\n",
      "sphinxcontrib-htmlhelp             1.0.2\n",
      "sphinxcontrib-jsmath               1.0.1\n",
      "sphinxcontrib-qthelp               1.0.2\n",
      "sphinxcontrib-serializinghtml      1.1.3\n",
      "sphinxcontrib-websupport           1.2.0\n",
      "spyder                             4.0.1\n",
      "spyder-kernels                     1.8.1\n",
      "SQLAlchemy                         1.3.13\n",
      "statsmodels                        0.11.0\n",
      "sympy                              1.5.1\n",
      "tables                             3.6.1\n",
      "tblib                              1.6.0\n",
      "terminado                          0.8.3\n",
      "testpath                           0.4.4\n",
      "threadpoolctl                      2.1.0\n",
      "toolz                              0.10.0\n",
      "tornado                            6.0.3\n",
      "tqdm                               4.42.1\n",
      "traitlets                          4.3.3\n",
      "ujson                              1.35\n",
      "unicodecsv                         0.14.1\n",
      "urllib3                            1.25.8\n",
      "watchdog                           0.10.2\n",
      "wcwidth                            0.1.8\n",
      "webencodings                       0.5.1\n",
      "Werkzeug                           1.0.0\n",
      "wheel                              0.34.2\n",
      "widgetsnbextension                 3.5.1\n",
      "win-inet-pton                      1.1.0\n",
      "win-unicode-console                0.5\n",
      "wincertstore                       0.2\n",
      "wrapt                              1.11.2\n",
      "xlrd                               1.2.0\n",
      "XlsxWriter                         1.2.7\n",
      "xlwings                            0.17.1\n",
      "xlwt                               1.3.0\n",
      "xmltodict                          0.12.0\n",
      "xpress                             8.6.1\n",
      "yapf                               0.28.0\n",
      "zict                               1.0.0\n",
      "zipp                               2.2.0\n",
      "Note: you may need to restart the kernel to use updated packages.\n"
     ]
    }
   ],
   "source": [
    "pip list"
   ]
  },
  {
   "cell_type": "code",
   "execution_count": null,
   "metadata": {},
   "outputs": [],
   "source": [
    "pip install pyomo"
   ]
  },
  {
   "cell_type": "markdown",
   "metadata": {},
   "source": [
    "### Solver:\n",
    "A diferencia de los paquetes usuales como PySCIPOpt, la instalación de los solvers los realizaremos de manera manual. En especial si el solver requiere una licencia. Existen algunos solvers de uso gratuito. En esta ocación utilizaremos como solver **GLPK**. Dependiendo del sistema operativo uno puede hacer uso del solver usando el comando `pip install glpk`.\n",
    "\n",
    "Los solvers más comunes para resolución AMPL son:\n",
    "\n",
    "- CPLEX\n",
    "- GUROBI\n",
    "- XPRESS\n",
    "- CONOPT\n",
    "- KNITRO\n",
    "- LOQO\n",
    "- MINOS\n",
    "- SNOPT\n",
    "- BARON\n",
    "- LGO\n",
    "- LINDO GLOBAL"
   ]
  },
  {
   "cell_type": "code",
   "execution_count": 46,
   "metadata": {
    "scrolled": true
   },
   "outputs": [
    {
     "name": "stdout",
     "output_type": "stream",
     "text": [
      "Help on package pyomo:\n",
      "\n",
      "NAME\n",
      "    pyomo\n",
      "\n",
      "DESCRIPTION\n",
      "    #  ___________________________________________________________________________\n",
      "    #\n",
      "    #  Pyomo: Python Optimization Modeling Objects\n",
      "    #  Copyright 2017 National Technology and Engineering Solutions of Sandia, LLC\n",
      "    #  Under the terms of Contract DE-NA0003525 with National Technology and \n",
      "    #  Engineering Solutions of Sandia, LLC, the U.S. Government retains certain \n",
      "    #  rights in this software.\n",
      "    #  This software is distributed under the 3-clause BSD License.\n",
      "    #  ___________________________________________________________________________\n",
      "\n",
      "PACKAGE CONTENTS\n",
      "    bilevel (package)\n",
      "    checker (package)\n",
      "    common (package)\n",
      "    contrib (package)\n",
      "    core (package)\n",
      "    dae (package)\n",
      "    dataportal (package)\n",
      "    duality (package)\n",
      "    environ (package)\n",
      "    gdp (package)\n",
      "    kernel (package)\n",
      "    mpec (package)\n",
      "    neos (package)\n",
      "    network (package)\n",
      "    opt (package)\n",
      "    pysp (package)\n",
      "    repn (package)\n",
      "    scripting (package)\n",
      "    solvers (package)\n",
      "    util (package)\n",
      "    version (package)\n",
      "\n",
      "VERSION\n",
      "    5.7.1\n",
      "\n",
      "FILE\n",
      "    c:\\users\\admin\\anaconda3\\lib\\site-packages\\pyomo\\__init__.py\n",
      "\n",
      "\n"
     ]
    }
   ],
   "source": [
    "import pyomo\n",
    "help(pyomo)"
   ]
  },
  {
   "cell_type": "code",
   "execution_count": 47,
   "metadata": {
    "scrolled": true
   },
   "outputs": [
    {
     "name": "stdout",
     "output_type": "stream",
     "text": [
      "Help on package pyomo.environ in pyomo:\n",
      "\n",
      "NAME\n",
      "    pyomo.environ\n",
      "\n",
      "DESCRIPTION\n",
      "    #  ___________________________________________________________________________\n",
      "    #\n",
      "    #  Pyomo: Python Optimization Modeling Objects\n",
      "    #  Copyright 2017 National Technology and Engineering Solutions of Sandia, LLC\n",
      "    #  Under the terms of Contract DE-NA0003525 with National Technology and\n",
      "    #  Engineering Solutions of Sandia, LLC, the U.S. Government retains certain\n",
      "    #  rights in this software.\n",
      "    #  This software is distributed under the 3-clause BSD License.\n",
      "    #  ___________________________________________________________________________\n",
      "\n",
      "PACKAGE CONTENTS\n",
      "    tests (package)\n",
      "\n",
      "DATA\n",
      "    Any = <pyomo.core.base.set.DeclareGlobalSet.<locals>.GlobalSet object>\n",
      "    AnyWithNone = <pyomo.core.base.set.DeclareGlobalSet.<locals>.GlobalSet...\n",
      "    Binary = <pyomo.core.base.set.DeclareGlobalSet.<locals>.GlobalSet obje...\n",
      "    Boolean = <pyomo.core.base.set.DeclareGlobalSet.<locals>.GlobalSet obj...\n",
      "    EmptySet = <pyomo.core.base.set.DeclareGlobalSet.<locals>.GlobalSet ob...\n",
      "    Integers = <pyomo.core.base.set.DeclareGlobalSet.<locals>.GlobalSet ob...\n",
      "    ModelComponentFactory = <pyomo.core.base.plugin.ModelComponentFactoryC...\n",
      "    NegativeIntegers = <pyomo.core.base.set.DeclareGlobalSet.<locals>.Glob...\n",
      "    NegativeReals = <pyomo.core.base.set.DeclareGlobalSet.<locals>.GlobalS...\n",
      "    NonNegativeIntegers = <pyomo.core.base.set.DeclareGlobalSet.<locals>.G...\n",
      "    NonNegativeReals = <pyomo.core.base.set.DeclareGlobalSet.<locals>.Glob...\n",
      "    NonPositiveIntegers = <pyomo.core.base.set.DeclareGlobalSet.<locals>.G...\n",
      "    NonPositiveReals = <pyomo.core.base.set.DeclareGlobalSet.<locals>.Glob...\n",
      "    ParamRepresentationFactory = <pyutilib.component.core.core.CreatePlugi...\n",
      "    PercentFraction = <pyomo.core.base.set.DeclareGlobalSet.<locals>.Globa...\n",
      "    PositiveIntegers = <pyomo.core.base.set.DeclareGlobalSet.<locals>.Glob...\n",
      "    PositiveReals = <pyomo.core.base.set.DeclareGlobalSet.<locals>.GlobalS...\n",
      "    PyomoOptions = <pyomo.core.base.config._PyomoOptions object>\n",
      "    Reals = <pyomo.core.base.set.DeclareGlobalSet.<locals>.GlobalSet objec...\n",
      "    SolverFactory = <pyomo.opt.base.solvers.SolverFactoryClass object>\n",
      "    SolverManagerFactory = <pyutilib.factory.factory.Factory object>\n",
      "    TransformationFactory = <pyutilib.factory.factory.Factory object>\n",
      "    UnitInterval = <pyomo.core.base.set.DeclareGlobalSet.<locals>.GlobalSe...\n",
      "    ZeroConstant = <pyomo.core.expr.numvalue.NumericConstant object>\n",
      "    maximize = -1\n",
      "    minimize = 1\n",
      "    native_logical_values = {False, True}\n",
      "    native_numeric_types = {<class 'float'>, <class 'numpy.uint32'>, <clas...\n",
      "    native_types = {<class 'numpy.uint32'>, <class 'bytes'>, <class 'numpy...\n",
      "    nonpyomo_leaf_types = {<class 'numpy.uint32'>, <class 'bytes'>, <class...\n",
      "    units = <pyomo.core.base.units_container.DeferredUnitsSingleton object...\n",
      "\n",
      "FILE\n",
      "    c:\\users\\admin\\anaconda3\\lib\\site-packages\\pyomo\\environ\\__init__.py\n",
      "\n",
      "\n"
     ]
    }
   ],
   "source": [
    "import pyomo.environ\n",
    "help(pyomo.environ)"
   ]
  },
  {
   "cell_type": "code",
   "execution_count": 48,
   "metadata": {},
   "outputs": [
    {
     "data": {
      "text/plain": [
       "['AbstractModel',\n",
       " 'AlphaNumericTextLabeler',\n",
       " 'Any',\n",
       " 'AnyWithNone',\n",
       " 'Binary',\n",
       " 'Block',\n",
       " 'Boolean',\n",
       " 'BooleanConstant',\n",
       " 'BooleanSet',\n",
       " 'BooleanValue',\n",
       " 'BooleanVar',\n",
       " 'BooleanVarList',\n",
       " 'BuildAction',\n",
       " 'BuildCheck',\n",
       " 'CNameLabeler',\n",
       " 'Component',\n",
       " 'ComponentMap',\n",
       " 'ComponentUID',\n",
       " 'ConcreteModel',\n",
       " 'Connector',\n",
       " 'Constraint',\n",
       " 'ConstraintList',\n",
       " 'CounterLabeler',\n",
       " 'CuidLabeler',\n",
       " 'DataPortal',\n",
       " 'EmptySet',\n",
       " 'Expr_if',\n",
       " 'Expression',\n",
       " 'ExpressionFactory',\n",
       " 'ExpressionRegistration',\n",
       " 'ExternalFunction',\n",
       " 'IParamRepresentation',\n",
       " 'IPyomoExpression',\n",
       " 'IPyomoPresolveAction',\n",
       " 'IPyomoPresolver',\n",
       " 'IPyomoScriptCreateDataPortal',\n",
       " 'IPyomoScriptCreateModel',\n",
       " 'IPyomoScriptModifyInstance',\n",
       " 'IPyomoScriptPostprocess',\n",
       " 'IPyomoScriptPreprocess',\n",
       " 'IPyomoScriptPrintInstance',\n",
       " 'IPyomoScriptPrintModel',\n",
       " 'IPyomoScriptPrintResults',\n",
       " 'IPyomoScriptSaveInstance',\n",
       " 'IPyomoScriptSaveResults',\n",
       " 'IntegerInterval',\n",
       " 'IntegerSet',\n",
       " 'Integers',\n",
       " 'LogicalConstraint',\n",
       " 'LogicalConstraintList',\n",
       " 'Model',\n",
       " 'ModelComponentFactory',\n",
       " 'NameLabeler',\n",
       " 'NegativeIntegers',\n",
       " 'NegativeReals',\n",
       " 'NonNegativeIntegers',\n",
       " 'NonNegativeReals',\n",
       " 'NonPositiveIntegers',\n",
       " 'NonPositiveReals',\n",
       " 'NumericLabeler',\n",
       " 'NumericValue',\n",
       " 'Objective',\n",
       " 'ObjectiveList',\n",
       " 'Param',\n",
       " 'ParamRepresentationFactory',\n",
       " 'PercentFraction',\n",
       " 'Piecewise',\n",
       " 'PositiveIntegers',\n",
       " 'PositiveReals',\n",
       " 'PyomoOptions',\n",
       " 'RangeSet',\n",
       " 'RealInterval',\n",
       " 'RealSet',\n",
       " 'Reals',\n",
       " 'Reference',\n",
       " 'SOSConstraint',\n",
       " 'Set',\n",
       " 'SetOf',\n",
       " 'ShortNameLabeler',\n",
       " 'SimpleBlock',\n",
       " 'SimpleBooleanVar',\n",
       " 'SimpleVar',\n",
       " 'SolverFactory',\n",
       " 'SolverManagerFactory',\n",
       " 'SolverStatus',\n",
       " 'SortComponents',\n",
       " 'Suffix',\n",
       " 'SymbolMap',\n",
       " 'TerminationCondition',\n",
       " 'TextLabeler',\n",
       " 'Transformation',\n",
       " 'TransformationFactory',\n",
       " 'TraversalStrategy',\n",
       " 'UnitInterval',\n",
       " 'UnknownSolver',\n",
       " 'Var',\n",
       " 'VarList',\n",
       " 'ZeroConstant',\n",
       " '__builtins__',\n",
       " '__cached__',\n",
       " '__doc__',\n",
       " '__file__',\n",
       " '__loader__',\n",
       " '__name__',\n",
       " '__package__',\n",
       " '__path__',\n",
       " '__spec__',\n",
       " '_do_import',\n",
       " '_import_packages',\n",
       " '_optional_packages',\n",
       " '_packages',\n",
       " '_sys',\n",
       " 'acos',\n",
       " 'acosh',\n",
       " 'active_components',\n",
       " 'active_components_data',\n",
       " 'active_export_suffix_generator',\n",
       " 'active_import_suffix_generator',\n",
       " 'as_boolean',\n",
       " 'asin',\n",
       " 'asinh',\n",
       " 'assert_optimal_termination',\n",
       " 'atan',\n",
       " 'atanh',\n",
       " 'atleast',\n",
       " 'atmost',\n",
       " 'base',\n",
       " 'beta',\n",
       " 'boolean_value',\n",
       " 'calculus',\n",
       " 'ceil',\n",
       " 'check_optimal_termination',\n",
       " 'components',\n",
       " 'components_data',\n",
       " 'cos',\n",
       " 'cosh',\n",
       " 'current',\n",
       " 'differentiate',\n",
       " 'display',\n",
       " 'dot_product',\n",
       " 'equivalent',\n",
       " 'exactly',\n",
       " 'exp',\n",
       " 'expr',\n",
       " 'expr_common',\n",
       " 'expr_errors',\n",
       " 'floor',\n",
       " 'global_option',\n",
       " 'implies',\n",
       " 'importlib',\n",
       " 'inequality',\n",
       " 'instance2dat',\n",
       " 'is_constant',\n",
       " 'is_fixed',\n",
       " 'is_potentially_variable',\n",
       " 'is_variable_type',\n",
       " 'iteritems',\n",
       " 'iterkeys',\n",
       " 'kernel',\n",
       " 'land',\n",
       " 'linear_expression',\n",
       " 'lnot',\n",
       " 'log',\n",
       " 'log10',\n",
       " 'logical_expr',\n",
       " 'lor',\n",
       " 'maximize',\n",
       " 'minimize',\n",
       " 'name',\n",
       " 'native_logical_values',\n",
       " 'native_numeric_types',\n",
       " 'native_types',\n",
       " 'nonlinear_expression',\n",
       " 'nonpyomo_leaf_types',\n",
       " 'numeric_expr',\n",
       " 'numvalue',\n",
       " 'plugins',\n",
       " 'polynomial_degree',\n",
       " 'preprocess',\n",
       " 'prod',\n",
       " 'pyomo',\n",
       " 'pyomo_callback',\n",
       " 'pyomoobject',\n",
       " 'quicksum',\n",
       " 'sequence',\n",
       " 'set_options',\n",
       " 'simple_constraint_rule',\n",
       " 'simple_constraintlist_rule',\n",
       " 'simple_objective_rule',\n",
       " 'simple_objectivelist_rule',\n",
       " 'simple_set_rule',\n",
       " 'sin',\n",
       " 'sinh',\n",
       " 'sqrt',\n",
       " 'sum_product',\n",
       " 'summation',\n",
       " 'symbol_map',\n",
       " 'symbol_map_from_instance',\n",
       " 'sympy_tools',\n",
       " 'tan',\n",
       " 'tanh',\n",
       " 'taylor_series',\n",
       " 'taylor_series_expansion',\n",
       " 'template_expr',\n",
       " 'units',\n",
       " 'util',\n",
       " 'value',\n",
       " 'visitor',\n",
       " 'weakref_ref',\n",
       " 'xor']"
      ]
     },
     "execution_count": 48,
     "metadata": {},
     "output_type": "execute_result"
    }
   ],
   "source": [
    "dir(pyomo.environ)"
   ]
  },
  {
   "cell_type": "code",
   "execution_count": 49,
   "metadata": {},
   "outputs": [
    {
     "name": "stdout",
     "output_type": "stream",
     "text": [
      "Help on class ConcreteModel in module pyomo.core.base.PyomoModel:\n",
      "\n",
      "class ConcreteModel(Model)\n",
      " |  ConcreteModel(*args, **kwds)\n",
      " |  \n",
      " |  A concrete optimization model that does not defer construction of\n",
      " |  components.\n",
      " |  \n",
      " |  Method resolution order:\n",
      " |      ConcreteModel\n",
      " |      Model\n",
      " |      pyomo.core.base.block.SimpleBlock\n",
      " |      pyomo.core.base.block._BlockData\n",
      " |      pyomo.core.base.component.ActiveComponentData\n",
      " |      pyomo.core.base.component.ComponentData\n",
      " |      pyomo.core.base.block.Block\n",
      " |      pyomo.core.base.indexed_component.ActiveIndexedComponent\n",
      " |      pyomo.core.base.indexed_component.IndexedComponent\n",
      " |      pyomo.core.base.component.ActiveComponent\n",
      " |      pyomo.core.base.component.Component\n",
      " |      pyomo.core.base.component._ComponentBase\n",
      " |      pyomo.core.pyomoobject.PyomoObject\n",
      " |      builtins.object\n",
      " |  \n",
      " |  Methods defined here:\n",
      " |  \n",
      " |  __init__(self, *args, **kwds)\n",
      " |      Constructor\n",
      " |  \n",
      " |  ----------------------------------------------------------------------\n",
      " |  Methods inherited from Model:\n",
      " |  \n",
      " |  compute_statistics(self, active=True)\n",
      " |      Compute model statistics\n",
      " |  \n",
      " |  create(self, filename=None, **kwargs)\n",
      " |      Create a concrete instance of this Model, possibly using data\n",
      " |      read in from a file.\n",
      " |  \n",
      " |  create_instance(self, filename=None, data=None, name=None, namespace=None, namespaces=None, profile_memory=0, report_timing=False, **kwds)\n",
      " |      Create a concrete instance of an abstract model, possibly using data\n",
      " |      read in from a file.\n",
      " |      \n",
      " |      Parameters\n",
      " |      ----------\n",
      " |      filename: `str`, optional           \n",
      " |          The name of a Pyomo Data File that will be used to load data into \n",
      " |          the model.\n",
      " |      data: `dict`, optional\n",
      " |          A dictionary containing initialization data for the model to be \n",
      " |          used if there is no filename\n",
      " |      name: `str`, optional\n",
      " |          The name given to the model.\n",
      " |      namespace: `str`, optional          \n",
      " |          A namespace used to select data.\n",
      " |      namespaces: `list`, optional   \n",
      " |          A list of namespaces used to select data.\n",
      " |      profile_memory: `int`, optional    \n",
      " |          A number that indicates the profiling level.\n",
      " |      report_timing: `bool`, optional     \n",
      " |          Report timing statistics during construction.\n",
      " |  \n",
      " |  load(self, arg, namespaces=[None], profile_memory=0, report_timing=None)\n",
      " |      Load the model with data from a file, dictionary or DataPortal object.\n",
      " |  \n",
      " |  nconstraints(self)\n",
      " |  \n",
      " |  nobjectives(self)\n",
      " |  \n",
      " |  nvariables(self)\n",
      " |  \n",
      " |  preprocess(self, preprocessor=None)\n",
      " |      Apply the preprocess plugins defined by the user\n",
      " |  \n",
      " |  transform(self, name=None, **kwds)\n",
      " |  \n",
      " |  ----------------------------------------------------------------------\n",
      " |  Static methods inherited from Model:\n",
      " |  \n",
      " |  __new__(cls, *args, **kwds)\n",
      " |      Create and return a new object.  See help(type) for accurate signature.\n",
      " |  \n",
      " |  ----------------------------------------------------------------------\n",
      " |  Data and other attributes inherited from Model:\n",
      " |  \n",
      " |  preprocessor_ep = <ExtensionPoint IPyomoPresolver env=pca>\n",
      " |      List of services that implement `IPyomoPresolver`\n",
      " |  \n",
      " |  ----------------------------------------------------------------------\n",
      " |  Methods inherited from pyomo.core.base.block.SimpleBlock:\n",
      " |  \n",
      " |  display(self, filename=None, ostream=None, prefix='')\n",
      " |      Display values in the block\n",
      " |  \n",
      " |  ----------------------------------------------------------------------\n",
      " |  Methods inherited from pyomo.core.base.block._BlockData:\n",
      " |  \n",
      " |  __delattr__(self, name)\n",
      " |      Delete an attribute on this Block.\n",
      " |  \n",
      " |  __getattr__(self, val)\n",
      " |  \n",
      " |  __getstate__(self)\n",
      " |      This method must be defined because this class uses slots.\n",
      " |  \n",
      " |  __setattr__(self, name, val)\n",
      " |      Set an attribute of a block data object.\n",
      " |  \n",
      " |  active_blocks(self, *args, **kwargs)\n",
      " |  \n",
      " |  active_component_data(self, *args, **kwargs)\n",
      " |  \n",
      " |  active_components(self, *args, **kwargs)\n",
      " |  \n",
      " |  add_component(self, name, val)\n",
      " |      Add a component 'name' to the block.\n",
      " |      \n",
      " |      This method assumes that the attribute is not in the model.\n",
      " |  \n",
      " |  all_blocks(self, *args, **kwargs)\n",
      " |  \n",
      " |  all_component_data(self, *args, **kwargs)\n",
      " |  \n",
      " |  all_components(self, *args, **kwargs)\n",
      " |  \n",
      " |  block_data_objects(self, active=None, sort=False, descend_into=True, descent_order=None)\n",
      " |      This method returns a generator that iterates\n",
      " |      through the current block and recursively all\n",
      " |      sub-blocks.  This is semantically equivalent to\n",
      " |      \n",
      " |          component_data_objects(Block, ...)\n",
      " |  \n",
      " |  clear(self)\n",
      " |  \n",
      " |  clone(self)\n",
      " |      TODO\n",
      " |  \n",
      " |  collect_ctypes(self, active=None, descend_into=True)\n",
      " |      Count all component types stored on or under this\n",
      " |      block.\n",
      " |      \n",
      " |      Args:\n",
      " |          active (True/None): Set to True to indicate that\n",
      " |              only active components should be\n",
      " |              counted. The default value of None indicates\n",
      " |              that all components (including those that\n",
      " |              have been deactivated) should be counted.\n",
      " |          descend_into (bool): Indicates whether or not\n",
      " |              component types should be counted on\n",
      " |              sub-blocks. Default is True.\n",
      " |      \n",
      " |      Returns: A set of component types.\n",
      " |  \n",
      " |  component(self, name_or_object)\n",
      " |      Return a child component of this block.\n",
      " |      \n",
      " |      If passed a string, this will return the child component\n",
      " |      registered by that name.  If passed a component, this will\n",
      " |      return that component IFF the component is a child of this\n",
      " |      block. Returns None on lookup failure.\n",
      " |  \n",
      " |  component_data_iterindex(self, ctype=None, active=None, sort=False, descend_into=True, descent_order=None)\n",
      " |      Return a generator that returns a tuple for each\n",
      " |      component data object in a block.  By default, this\n",
      " |      generator recursively descends into sub-blocks.  The\n",
      " |      tuple is\n",
      " |      \n",
      " |          ((component name, index value), _ComponentData)\n",
      " |  \n",
      " |  component_data_objects(self, ctype=None, active=None, sort=False, descend_into=True, descent_order=None)\n",
      " |      Return a generator that iterates through the\n",
      " |      component data objects for all components in a\n",
      " |      block.  By default, this generator recursively\n",
      " |      descends into sub-blocks.\n",
      " |  \n",
      " |  component_map(self, ctype=None, active=None, sort=False)\n",
      " |      Returns a PseudoMap of the components in this block.\n",
      " |      \n",
      " |      Parameters\n",
      " |      ----------\n",
      " |      ctype:  None or type or iterable\n",
      " |          Specifies the component types (`ctypes`) to include in the\n",
      " |          resulting PseudoMap\n",
      " |      \n",
      " |              =============   ===================\n",
      " |              None            All components\n",
      " |              type            A single component type\n",
      " |              iterable        All component types in the iterable\n",
      " |              =============   ===================\n",
      " |      \n",
      " |      active: None or bool\n",
      " |          Filter components by the active flag\n",
      " |      \n",
      " |              =====  ===============================\n",
      " |              None   Return all components\n",
      " |              True   Return only active components\n",
      " |              False  Return only inactive components\n",
      " |              =====  ===============================\n",
      " |      \n",
      " |      sort: bool\n",
      " |          Iterate over the components in a sorted otder\n",
      " |      \n",
      " |              =====  ================================================\n",
      " |              True   Iterate using Block.alphabetizeComponentAndIndex\n",
      " |              False  Iterate using Block.declarationOrder\n",
      " |              =====  ================================================\n",
      " |  \n",
      " |  component_objects(self, ctype=None, active=None, sort=False, descend_into=True, descent_order=None)\n",
      " |      Return a generator that iterates through the\n",
      " |      component objects in a block.  By default, the\n",
      " |      generator recursively descends into sub-blocks.\n",
      " |  \n",
      " |  contains_component(self, ctype)\n",
      " |      Return True if the component type is in _ctypes and ... TODO.\n",
      " |  \n",
      " |  del_component(self, name_or_object)\n",
      " |      Delete a component from this block.\n",
      " |  \n",
      " |  fix_all_vars(self)\n",
      " |  \n",
      " |  is_constructed(self)\n",
      " |      A boolean indicating whether or not all *active* components of the\n",
      " |      input model have been properly constructed.\n",
      " |  \n",
      " |  model(self)\n",
      " |      Return the model of the component that owns this data.\n",
      " |  \n",
      " |  reclassify_component_type(self, name_or_object, new_ctype, preserve_declaration_order=True)\n",
      " |      TODO\n",
      " |  \n",
      " |  set_value(self, val)\n",
      " |  \n",
      " |  transfer_attributes_from(self, src)\n",
      " |      Transfer user-defined attributes from src to this block\n",
      " |      \n",
      " |      This transfers all components and user-defined attributes from\n",
      " |      the block or dictionary `src` and places them on this Block.\n",
      " |      Components are transferred in declaration order.\n",
      " |      \n",
      " |      If a Component on `src` is also declared on this block as either\n",
      " |      a Component or attribute, the local Component or attribute is\n",
      " |      replaced by the incoming component.  If an attribute name on\n",
      " |      `src` matches a Component declared on this block, then the\n",
      " |      incoming attribute is passed to the local Component's\n",
      " |      `set_value()` method.  Attribute names appearing in this block's\n",
      " |      `_Block_reserved_words` set will not be transferred (although\n",
      " |      Components will be).\n",
      " |      \n",
      " |      Parameters\n",
      " |      ----------\n",
      " |      src: _BlockData or dict\n",
      " |          The Block or mapping that contains the new attributes to\n",
      " |          assign to this block.\n",
      " |  \n",
      " |  unfix_all_vars(self)\n",
      " |  \n",
      " |  valid_problem_types(self)\n",
      " |      This method allows the pyomo.opt convert function to work with a\n",
      " |      Model object.\n",
      " |  \n",
      " |  write(self, filename=None, format=None, solver_capability=None, io_options={})\n",
      " |      Write the model to a file, with a given format.\n",
      " |  \n",
      " |  ----------------------------------------------------------------------\n",
      " |  Data descriptors inherited from pyomo.core.base.block._BlockData:\n",
      " |  \n",
      " |  __dict__\n",
      " |      dictionary for instance variables (if defined)\n",
      " |  \n",
      " |  ----------------------------------------------------------------------\n",
      " |  Methods inherited from pyomo.core.base.component.ActiveComponentData:\n",
      " |  \n",
      " |  activate(self)\n",
      " |      Set the active attribute to True\n",
      " |  \n",
      " |  deactivate(self)\n",
      " |      Set the active attribute to False\n",
      " |  \n",
      " |  ----------------------------------------------------------------------\n",
      " |  Data descriptors inherited from pyomo.core.base.component.ActiveComponentData:\n",
      " |  \n",
      " |  active\n",
      " |      Return the active attribute\n",
      " |  \n",
      " |  ----------------------------------------------------------------------\n",
      " |  Methods inherited from pyomo.core.base.component.ComponentData:\n",
      " |  \n",
      " |  __setstate__(self, state)\n",
      " |      Restore a pickled state into this instance\n",
      " |      \n",
      " |      Note: our model for setstate is for derived classes to modify\n",
      " |      the state dictionary as control passes up the inheritance\n",
      " |      hierarchy (using super() calls).  All assignment of state ->\n",
      " |      object attributes is handled at the last class before 'object'\n",
      " |      (which may -- or may not (thanks to MRO) -- be here.\n",
      " |      \n",
      " |      This method must be defined to support unpickling because this\n",
      " |      class owns weakrefs for '_component', which must be restored\n",
      " |      from the hard references used in the piclke.\n",
      " |  \n",
      " |  __str__(self)\n",
      " |      Return a string with the component name and index\n",
      " |  \n",
      " |  clear_suffix_value(self, suffix_or_name, expand=True)\n",
      " |      Set the suffix value for this component data\n",
      " |  \n",
      " |  get_suffix_value(self, suffix_or_name, default=None)\n",
      " |      Get the suffix value for this component data\n",
      " |  \n",
      " |  getname(self, fully_qualified=False, name_buffer=None, relative_to=None)\n",
      " |      Return a string with the component name and index\n",
      " |  \n",
      " |  index(self)\n",
      " |      Returns the index of this ComponentData instance relative\n",
      " |      to the parent component index set. None is returned if\n",
      " |      this instance does not have a parent component, or if\n",
      " |      - for some unknown reason - this instance does not belong\n",
      " |      to the parent component's index set. This method is not\n",
      " |      intended to be a fast method;  it should be used rarely,\n",
      " |      primarily in cases of label formulation.\n",
      " |  \n",
      " |  is_indexed(self)\n",
      " |      Return true if this component is indexed\n",
      " |  \n",
      " |  parent_block(self)\n",
      " |      Return the parent of the component that owns this data.\n",
      " |  \n",
      " |  parent_component(self)\n",
      " |      Returns the component associated with this object.\n",
      " |  \n",
      " |  set_suffix_value(self, suffix_or_name, value, expand=True)\n",
      " |      Set the suffix value for this component data\n",
      " |  \n",
      " |  to_string(self, verbose=None, labeler=None, smap=None, compute_values=False)\n",
      " |      Return a string representation of this component,\n",
      " |      applying the labeler if passed one.\n",
      " |  \n",
      " |  type(self)\n",
      " |      DEPRECATION WARNING: Component.type() method has been replaced by the\n",
      " |      .ctype property.  (deprecated in 5.7)\n",
      " |      \n",
      " |      Return the class type for this component\n",
      " |  \n",
      " |  ----------------------------------------------------------------------\n",
      " |  Data descriptors inherited from pyomo.core.base.component.ComponentData:\n",
      " |  \n",
      " |  __weakref__\n",
      " |      list of weak references to the object (if defined)\n",
      " |  \n",
      " |  ctype\n",
      " |      Return the class type for this component\n",
      " |  \n",
      " |  ----------------------------------------------------------------------\n",
      " |  Data and other attributes inherited from pyomo.core.base.component.ComponentData:\n",
      " |  \n",
      " |  __pickle_slots__ = ('_component',)\n",
      " |  \n",
      " |  ----------------------------------------------------------------------\n",
      " |  Methods inherited from pyomo.core.base.block.Block:\n",
      " |  \n",
      " |  construct(self, data=None)\n",
      " |      Initialize the block\n",
      " |  \n",
      " |  find_component(self, label_or_component)\n",
      " |      Return a block component given a name.\n",
      " |  \n",
      " |  ----------------------------------------------------------------------\n",
      " |  Methods inherited from pyomo.core.base.indexed_component.IndexedComponent:\n",
      " |  \n",
      " |  __contains__(self, idx)\n",
      " |      Return true if the index is in the dictionary\n",
      " |  \n",
      " |  __delitem__(self, index)\n",
      " |  \n",
      " |  __getitem__(self, index)\n",
      " |      This method returns the data corresponding to the given index.\n",
      " |  \n",
      " |  __iter__(self)\n",
      " |      Iterate over the keys in the dictionary\n",
      " |  \n",
      " |  __len__(self)\n",
      " |      Return the number of component data objects stored by this\n",
      " |      component.\n",
      " |  \n",
      " |  __setitem__(self, index, val)\n",
      " |  \n",
      " |  dim(self)\n",
      " |      Return the dimension of the index\n",
      " |  \n",
      " |  id_index_map(self)\n",
      " |      Return an dictionary id->index for\n",
      " |      all ComponentData instances.\n",
      " |  \n",
      " |  index_set(self)\n",
      " |      Return the index set\n",
      " |  \n",
      " |  items = iteritems(self)\n",
      " |  \n",
      " |  iteritems(self)\n",
      " |      Return an iterator of (index,data) tuples from the dictionary\n",
      " |  \n",
      " |  iterkeys(self)\n",
      " |      Return an iterator of the keys in the dictionary\n",
      " |  \n",
      " |  itervalues(self)\n",
      " |      Return an iterator of the component data objects in the dictionary\n",
      " |  \n",
      " |  keys = iterkeys(self)\n",
      " |  \n",
      " |  to_dense_data(self)\n",
      " |      TODO\n",
      " |  \n",
      " |  values = itervalues(self)\n",
      " |  \n",
      " |  ----------------------------------------------------------------------\n",
      " |  Data and other attributes inherited from pyomo.core.base.indexed_component.IndexedComponent:\n",
      " |  \n",
      " |  Skip = <class 'pyomo.core.base.indexed_component.IndexedComponent.Skip...\n",
      " |  \n",
      " |  \n",
      " |  ----------------------------------------------------------------------\n",
      " |  Methods inherited from pyomo.core.base.component.Component:\n",
      " |  \n",
      " |  pprint(self, ostream=None, verbose=False, prefix='')\n",
      " |      Print component information\n",
      " |  \n",
      " |  reconstruct(self, data=None)\n",
      " |      Re-construct model expressions\n",
      " |  \n",
      " |  root_block(self)\n",
      " |      Return self.model()\n",
      " |  \n",
      " |  valid_model_component(self)\n",
      " |      Return True if this can be used as a model component.\n",
      " |  \n",
      " |  ----------------------------------------------------------------------\n",
      " |  Data descriptors inherited from pyomo.core.base.component.Component:\n",
      " |  \n",
      " |  name\n",
      " |      Get the fully qualifed component name.\n",
      " |  \n",
      " |  ----------------------------------------------------------------------\n",
      " |  Methods inherited from pyomo.core.base.component._ComponentBase:\n",
      " |  \n",
      " |  __deepcopy__(self, memo)\n",
      " |  \n",
      " |  cname(self, *args, **kwds)\n",
      " |      DEPRECATION WARNING: The cname() method has been renamed to getname().\n",
      " |      The preferred method of obtaining a component name is to use the\n",
      " |      .name property, which returns the fully qualified component name.\n",
      " |      The .local_name property will return the component name only within\n",
      " |      the context of the immediate parent container.  (deprecated in 5.0)\n",
      " |  \n",
      " |  is_component_type(self)\n",
      " |      Return True if this class is a Pyomo component\n",
      " |  \n",
      " |  ----------------------------------------------------------------------\n",
      " |  Data descriptors inherited from pyomo.core.base.component._ComponentBase:\n",
      " |  \n",
      " |  local_name\n",
      " |      Get the component name only within the context of\n",
      " |      the immediate parent container.\n",
      " |  \n",
      " |  ----------------------------------------------------------------------\n",
      " |  Methods inherited from pyomo.core.pyomoobject.PyomoObject:\n",
      " |  \n",
      " |  is_expression_type(self)\n",
      " |      Return True if this numeric value is an expression\n",
      " |  \n",
      " |  is_logical_type(self)\n",
      " |      Return True if this class is a Pyomo Boolean value, variable, or expression.\n",
      " |  \n",
      " |  is_named_expression_type(self)\n",
      " |      Return True if this numeric value is a named expression\n",
      " |  \n",
      " |  is_numeric_type(self)\n",
      " |      Return True if this class is a Pyomo numeric object\n",
      " |  \n",
      " |  is_parameter_type(self)\n",
      " |      Return False unless this class is a parameter object\n",
      " |  \n",
      " |  is_variable_type(self)\n",
      " |      Return False unless this class is a variable object\n",
      "\n"
     ]
    }
   ],
   "source": [
    "help(pyomo.environ.ConcreteModel)"
   ]
  },
  {
   "cell_type": "code",
   "execution_count": 50,
   "metadata": {},
   "outputs": [
    {
     "name": "stdout",
     "output_type": "stream",
     "text": [
      "Help on class Var in module pyomo.core.base.var:\n",
      "\n",
      "class Var(pyomo.core.base.indexed_component.IndexedComponent)\n",
      " |  Var(*args, **kwds)\n",
      " |  \n",
      " |  A numeric variable, which may be defined over an index.\n",
      " |  \n",
      " |  Args:\n",
      " |      domain (Set or function, optional): A Set that defines valid\n",
      " |          values for the variable (e.g., `Reals`, `NonNegativeReals`,\n",
      " |          `Binary`), or a rule that returns Sets.  Defaults to `Reals`.\n",
      " |      within (Set or function, optional): An alias for `domain`.\n",
      " |      bounds (tuple or function, optional): A tuple of (lower, upper)\n",
      " |          bounds for the variable, or a rule that returns tuples.\n",
      " |          Defaults to (None, None).\n",
      " |      initialize (float or function, optional): The initial value for\n",
      " |          the variable, or a rule that returns initial values.\n",
      " |      rule (float or function, optional): An alias for `initialize`.\n",
      " |      dense (bool, optional): Instantiate all elements from\n",
      " |          `index_set()` when constructing the Var (True) or just the\n",
      " |          variables returned by `initialize`/`rule` (False).  Defaults\n",
      " |          to True.\n",
      " |      units (pyomo units expression, optional): Set the units corresponding                                                  \n",
      " |          to the entries in this variable.\n",
      " |  \n",
      " |  Method resolution order:\n",
      " |      Var\n",
      " |      pyomo.core.base.indexed_component.IndexedComponent\n",
      " |      pyomo.core.base.component.Component\n",
      " |      pyomo.core.base.component._ComponentBase\n",
      " |      pyomo.core.pyomoobject.PyomoObject\n",
      " |      builtins.object\n",
      " |  \n",
      " |  Methods defined here:\n",
      " |  \n",
      " |  __init__(self, *args, **kwd)\n",
      " |      Initialize self.  See help(type(self)) for accurate signature.\n",
      " |  \n",
      " |  add(self, index)\n",
      " |      Add a variable with a particular index.\n",
      " |  \n",
      " |  construct(self, data=None)\n",
      " |      Construct this component.\n",
      " |  \n",
      " |  extract_values = get_values(self, include_fixed_values=True)\n",
      " |  \n",
      " |  flag_as_stale(self)\n",
      " |      Set the 'stale' attribute of every variable data object to True.\n",
      " |  \n",
      " |  get_units(self)\n",
      " |      Return the units expression for this Var.\n",
      " |  \n",
      " |  get_values(self, include_fixed_values=True)\n",
      " |      Return a dictionary of index-value pairs.\n",
      " |  \n",
      " |  set_values(self, new_values, valid=False)\n",
      " |      Set the values of a dictionary.\n",
      " |      \n",
      " |      The default behavior is to validate the values in the\n",
      " |      dictionary.\n",
      " |  \n",
      " |  ----------------------------------------------------------------------\n",
      " |  Static methods defined here:\n",
      " |  \n",
      " |  __new__(cls, *args, **kwds)\n",
      " |      Create and return a new object.  See help(type) for accurate signature.\n",
      " |  \n",
      " |  ----------------------------------------------------------------------\n",
      " |  Methods inherited from pyomo.core.base.indexed_component.IndexedComponent:\n",
      " |  \n",
      " |  __contains__(self, idx)\n",
      " |      Return true if the index is in the dictionary\n",
      " |  \n",
      " |  __delitem__(self, index)\n",
      " |  \n",
      " |  __getitem__(self, index)\n",
      " |      This method returns the data corresponding to the given index.\n",
      " |  \n",
      " |  __getstate__(self)\n",
      " |      This method must be defined to support pickling because this class\n",
      " |      owns weakrefs for '_parent'.\n",
      " |  \n",
      " |  __iter__(self)\n",
      " |      Iterate over the keys in the dictionary\n",
      " |  \n",
      " |  __len__(self)\n",
      " |      Return the number of component data objects stored by this\n",
      " |      component.\n",
      " |  \n",
      " |  __setitem__(self, index, val)\n",
      " |  \n",
      " |  __setstate__(self, state)\n",
      " |      This method must be defined to support pickling because this class\n",
      " |      owns weakrefs for '_parent'.\n",
      " |  \n",
      " |  clear(self)\n",
      " |      Clear the data in this component\n",
      " |  \n",
      " |  dim(self)\n",
      " |      Return the dimension of the index\n",
      " |  \n",
      " |  id_index_map(self)\n",
      " |      Return an dictionary id->index for\n",
      " |      all ComponentData instances.\n",
      " |  \n",
      " |  index_set(self)\n",
      " |      Return the index set\n",
      " |  \n",
      " |  is_indexed(self)\n",
      " |      Return true if this component is indexed\n",
      " |  \n",
      " |  items = iteritems(self)\n",
      " |  \n",
      " |  iteritems(self)\n",
      " |      Return an iterator of (index,data) tuples from the dictionary\n",
      " |  \n",
      " |  iterkeys(self)\n",
      " |      Return an iterator of the keys in the dictionary\n",
      " |  \n",
      " |  itervalues(self)\n",
      " |      Return an iterator of the component data objects in the dictionary\n",
      " |  \n",
      " |  keys = iterkeys(self)\n",
      " |  \n",
      " |  set_value(self, value)\n",
      " |      Set the value of a scalar component.\n",
      " |  \n",
      " |  to_dense_data(self)\n",
      " |      TODO\n",
      " |  \n",
      " |  values = itervalues(self)\n",
      " |  \n",
      " |  ----------------------------------------------------------------------\n",
      " |  Data and other attributes inherited from pyomo.core.base.indexed_component.IndexedComponent:\n",
      " |  \n",
      " |  Skip = <class 'pyomo.core.base.indexed_component.IndexedComponent.Skip...\n",
      " |  \n",
      " |  \n",
      " |  ----------------------------------------------------------------------\n",
      " |  Methods inherited from pyomo.core.base.component.Component:\n",
      " |  \n",
      " |  __str__(self)\n",
      " |      Return the component name\n",
      " |  \n",
      " |  clear_suffix_value(self, suffix_or_name, expand=True)\n",
      " |      Clear the suffix value for this component data\n",
      " |  \n",
      " |  display(self, ostream=None, verbose=False, prefix='')\n",
      " |  \n",
      " |  get_suffix_value(self, suffix_or_name, default=None)\n",
      " |      Get the suffix value for this component data\n",
      " |  \n",
      " |  getname(self, fully_qualified=False, name_buffer=None, relative_to=None)\n",
      " |      Returns the component name associated with this object.\n",
      " |      \n",
      " |      Parameters\n",
      " |      ----------\n",
      " |      fully_qualified: bool\n",
      " |          Generate full name from nested block names\n",
      " |      \n",
      " |      name_buffer: dict\n",
      " |          A dictionary that caches encountered names and indices.\n",
      " |          Providing a ``name_buffer`` can significantly speed up\n",
      " |          iterative name generation\n",
      " |      \n",
      " |      relative_to: Block\n",
      " |          Generate fully_qualified names reletive to the specified block.\n",
      " |  \n",
      " |  is_constructed(self)\n",
      " |      Return True if this class has been constructed\n",
      " |  \n",
      " |  model(self)\n",
      " |      Returns the model associated with this object.\n",
      " |  \n",
      " |  parent_block(self)\n",
      " |      Returns the parent of this object.\n",
      " |  \n",
      " |  parent_component(self)\n",
      " |      Returns the component associated with this object.\n",
      " |  \n",
      " |  pprint(self, ostream=None, verbose=False, prefix='')\n",
      " |      Print component information\n",
      " |  \n",
      " |  reconstruct(self, data=None)\n",
      " |      Re-construct model expressions\n",
      " |  \n",
      " |  root_block(self)\n",
      " |      Return self.model()\n",
      " |  \n",
      " |  set_suffix_value(self, suffix_or_name, value, expand=True)\n",
      " |      Set the suffix value for this component data\n",
      " |  \n",
      " |  to_string(self, verbose=None, labeler=None, smap=None, compute_values=False)\n",
      " |      Return the component name\n",
      " |  \n",
      " |  type(self)\n",
      " |      DEPRECATION WARNING: Component.type() method has been replaced by the\n",
      " |      .ctype property.  (deprecated in 5.7)\n",
      " |      \n",
      " |      Return the class type for this component\n",
      " |  \n",
      " |  valid_model_component(self)\n",
      " |      Return True if this can be used as a model component.\n",
      " |  \n",
      " |  ----------------------------------------------------------------------\n",
      " |  Data descriptors inherited from pyomo.core.base.component.Component:\n",
      " |  \n",
      " |  __dict__\n",
      " |      dictionary for instance variables (if defined)\n",
      " |  \n",
      " |  __weakref__\n",
      " |      list of weak references to the object (if defined)\n",
      " |  \n",
      " |  ctype\n",
      " |      Return the class type for this component\n",
      " |  \n",
      " |  name\n",
      " |      Get the fully qualifed component name.\n",
      " |  \n",
      " |  ----------------------------------------------------------------------\n",
      " |  Methods inherited from pyomo.core.base.component._ComponentBase:\n",
      " |  \n",
      " |  __deepcopy__(self, memo)\n",
      " |  \n",
      " |  cname(self, *args, **kwds)\n",
      " |      DEPRECATION WARNING: The cname() method has been renamed to getname().\n",
      " |      The preferred method of obtaining a component name is to use the\n",
      " |      .name property, which returns the fully qualified component name.\n",
      " |      The .local_name property will return the component name only within\n",
      " |      the context of the immediate parent container.  (deprecated in 5.0)\n",
      " |  \n",
      " |  is_component_type(self)\n",
      " |      Return True if this class is a Pyomo component\n",
      " |  \n",
      " |  ----------------------------------------------------------------------\n",
      " |  Data descriptors inherited from pyomo.core.base.component._ComponentBase:\n",
      " |  \n",
      " |  active\n",
      " |      Return the active attribute\n",
      " |  \n",
      " |  local_name\n",
      " |      Get the component name only within the context of\n",
      " |      the immediate parent container.\n",
      " |  \n",
      " |  ----------------------------------------------------------------------\n",
      " |  Methods inherited from pyomo.core.pyomoobject.PyomoObject:\n",
      " |  \n",
      " |  is_expression_type(self)\n",
      " |      Return True if this numeric value is an expression\n",
      " |  \n",
      " |  is_logical_type(self)\n",
      " |      Return True if this class is a Pyomo Boolean value, variable, or expression.\n",
      " |  \n",
      " |  is_named_expression_type(self)\n",
      " |      Return True if this numeric value is a named expression\n",
      " |  \n",
      " |  is_numeric_type(self)\n",
      " |      Return True if this class is a Pyomo numeric object\n",
      " |  \n",
      " |  is_parameter_type(self)\n",
      " |      Return False unless this class is a parameter object\n",
      " |  \n",
      " |  is_variable_type(self)\n",
      " |      Return False unless this class is a variable object\n",
      "\n"
     ]
    }
   ],
   "source": [
    "help(pyomo.environ.Var)"
   ]
  },
  {
   "cell_type": "markdown",
   "metadata": {},
   "source": [
    "## Qué es un modelo matemático...???\n",
    "\n",
    "Transcribir un problema del lenguaje cotidiano al lenguaje matemático.\n",
    "\n",
    "### Qué es un modelo de optimización ...???\n",
    "\n",
    "Existen diferentes tipos de problemas, y por lo tanto, diferentes modelos matemáticos. En este curso nos interesan los modelos de optimización lineal entera."
   ]
  },
  {
   "attachments": {
    "descarga.jpg": {
     "image/jpeg": "[encoded data removed]"
    }
   },
   "cell_type": "markdown",
   "metadata": {},
   "source": [
    "<div>\n",
    "<img src=\"attachment:descarga.jpg\" width=\"600\"/>\n",
    "</div>"
   ]
  },
  {
   "cell_type": "markdown",
   "metadata": {},
   "source": [
    "**Ejemplo:**\n",
    "Intentar encontrar la solución óptima del siguiente problema:\n",
    "\n",
    "$$\n",
    "\\begin{align*}\n",
    "    \\min x + y \\\\\n",
    "    x + 2y \\geq 5\\\\\n",
    "    4x + y \\geq 6\n",
    "\\end{align*}\n",
    "$$\n",
    "\n",
    "Pudiste encontrar la solución... ??? "
   ]
  },
  {
   "cell_type": "markdown",
   "metadata": {},
   "source": [
    "Igualamos los sistemas\n",
    "$$\n",
    "\\left\\{ \\begin{array}{l}\n",
    "x = 5 - 2y \\\\\n",
    "4x + y = 6\n",
    "\\end{array} \\right.\n",
    "$$\n",
    "Resolvemos el sistema lineal\n",
    "$$\n",
    "6 = 4(5-2y) + y = 20 - 7 y\n",
    "$$\n",
    "equivalentemente,\n",
    "$$\n",
    "y = 14/7 = 2 \\quad \\Longrightarrow \\quad x = 5 - 2(2) = 1.\n",
    "$$\n",
    "Por lo tanto, la solución del problema es: $x+y = 1 + 2 = 3$."
   ]
  },
  {
   "cell_type": "code",
   "execution_count": 51,
   "metadata": {},
   "outputs": [
    {
     "data": {
      "image/png": "[encoded data removed]",
      "text/plain": [
       "<Figure size 432x288 with 1 Axes>"
      ]
     },
     "metadata": {
      "needs_background": "light"
     },
     "output_type": "display_data"
    }
   ],
   "source": [
    "import numpy as np\n",
    "import matplotlib.pyplot as plt\n",
    "\n",
    "# Make some fake data.\n",
    "x1 = np.arange(-2.0, 4.0, 0.01)\n",
    "y1 = (5 - x1)/2\n",
    "\n",
    "x2 = np.arange(-2.0, 4.0, 0.01)\n",
    "y2 = 6 - 4*x2\n",
    "\n",
    "# Create plots with pre-defined labels.\n",
    "fig, ax = plt.subplots()\n",
    "ax.plot(x1, y1, 'k--', label='x+2y = 5')\n",
    "ax.plot(x2, y2, 'k:', label='4x+y = 6')\n",
    "ax.grid()\n",
    "ax.set(xlabel='x', ylabel='y',\n",
    "       title='Solución Gráfica')\n",
    "\n",
    "legend = ax.legend(loc='upper right', shadow=True, fontsize='x-large')\n",
    "\n",
    "# Put a nicer background color on the legend.\n",
    "legend.get_frame().set_facecolor('C0')\n",
    "\n",
    "plt.show()"
   ]
  },
  {
   "cell_type": "code",
   "execution_count": 52,
   "metadata": {},
   "outputs": [
    {
     "data": {
      "image/png": "[encoded data removed]",
      "text/plain": [
       "<Figure size 432x288 with 1 Axes>"
      ]
     },
     "metadata": {
      "needs_background": "light"
     },
     "output_type": "display_data"
    }
   ],
   "source": [
    "import matplotlib.pyplot as plt\n",
    "import numpy as np\n",
    "\n",
    "x = np.arange(-1.0, 4.0, 0.01)\n",
    "y1 = (5 - x)/2\n",
    "y2 = 6 - 4*x\n",
    "\n",
    "fig, ax = plt.subplots()\n",
    "ax.plot(x, y1, x, y2, color='black')\n",
    "\n",
    "ax.fill_between(x, y1, 15, where=(x + 2*y1 >= 5), facecolor='yellow', alpha=0.5)\n",
    "ax.fill_between(x, y2, 15, where=(4*x + y2 >= 6), facecolor='red', alpha=0.5)\n",
    "\n",
    "ax.set(xlabel='x', ylabel='y', title='Región de Factibilidad')\n",
    "\n",
    "plt.show()"
   ]
  },
  {
   "cell_type": "code",
   "execution_count": 53,
   "metadata": {},
   "outputs": [
    {
     "data": {
      "image/png": "[encoded data removed]",
      "text/plain": [
       "<Figure size 432x288 with 1 Axes>"
      ]
     },
     "metadata": {
      "needs_background": "light"
     },
     "output_type": "display_data"
    }
   ],
   "source": [
    "import numpy as np\n",
    "import matplotlib.pyplot as plt\n",
    "\n",
    "# Make some fake data.\n",
    "x = np.arange(-0.5, 3.0, 0.01)\n",
    "y1 = (5 - x)/2\n",
    "y2 = 6 - 4*x\n",
    "\n",
    "# Create plots with pre-defined labels.\n",
    "fig, ax = plt.subplots()\n",
    "ax.plot(x, y1, 'k--', label='x+2y = 5')\n",
    "ax.plot(x, y2, 'k:', label='4x+y = 6')\n",
    "ax.grid()\n",
    "ax.set(xlabel='x', ylabel='y',\n",
    "       title='Región de factibilidad')\n",
    "\n",
    "ax.fill_between(x, y1, 10, where=(x + 2*y1 >= 5), facecolor='yellow', alpha=0.5)\n",
    "ax.fill_between(x, y2, 10, where=(4*x + y2 >= 6), facecolor='red', alpha=0.5)\n",
    "\n",
    "ax.set_ylim((-5, 10))\n",
    "legend = ax.legend(loc='upper right', shadow=True, fontsize='x-large')\n",
    "\n",
    "# Put a nicer background color on the legend.\n",
    "legend.get_frame().set_facecolor('bisque')\n",
    "\n",
    "plt.show()"
   ]
  },
  {
   "cell_type": "markdown",
   "metadata": {},
   "source": [
    "Al problema anterior se le conoce como un problema de programación lineal entera debido a que sus restricciones son solo desigualdades o ecuaciones lineales. Y se dice de optimización, pues su función objetivo consiste en minimizar o maximizar una función, se desea que esta sea lineal, pero existen problemas para los cuales no es posible dicha formulación. En este curso nos enfocaremos en problemas de optimización lineal entera o mejor conocidos como problemas ILP o simplemente IP. En general se los conoce como problemas LP (linear programming) si sus restricciones son lineales.\n",
    "\n",
    "La forma canónica de un problema LP es:\n",
    "\n",
    "$$\n",
    "\\begin{align*}\n",
    "    \\min c^T x \\\\\n",
    "    \\mathrm{s.r.}\\\\\n",
    "    Ax \\leq b \\\\\n",
    "    x \\geq 0\n",
    "\\end{align*}\n",
    "$$\n",
    "\n",
    "__Nota:__ Sin pérdida de generalidad uno puede asumir siempre un problema de minimización. Sin embargo, en ocaciones es preferible resolver el problema de maximización.\n",
    "\n",
    "Uno puede clasificar los modelos en dos tipos: modelos concretos y modelos abstractos.\n",
    "\n",
    "__Modelos Concretos:__ Decimos que es concreto si es un problema para un caso particular. Por ejemplo el Problema:\n",
    "$$\n",
    "\\begin{align*}\n",
    "    \\min x + y \\\\\n",
    "    x + 2y \\geq 5\\\\\n",
    "    4x + y \\geq 6\n",
    "\\end{align*}\n",
    "$$\n",
    "Es un modelo concreto. No hay parámetros generales.\n",
    "\n",
    "__Modelos Abstractos:__ Estos son modelos más generales, uno debe definir variables, parámetros, conjuntos, desigualdades, etc. Por ejemplo si escribimos un modelo en su forma canónica, asignando ciertas características a las desigualdades y a las regiones de factibilidad, uno tendría un modelo abstracto. También se los conoce como problemas de la literatura. Por ejemplo, el problema de horarios para universidades tiene un modelo abstracto. Sin embargo, si nosotros aplicamos este modelo a un caso particular de la EPN. Es decir, si solo lo vamos a usar una sola vez para un conjunto de parámetros específicos dejaría de ser un modelo abstracto y se convertiría en concreto."
   ]
  },
  {
   "cell_type": "markdown",
   "metadata": {},
   "source": [
    "### Deber (Conjuntos):\n",
    "\n",
    "1. Crear dos conjuntos con 10 números aleatorios enteros.\n",
    "2. Encontrar la unión, intersección, diferencia, diferencia simétrica y verificar si son subconjuntos.\n",
    "3. Crear un diccionario con los resultados en el literal anterior y presentar los resultados como una tabla."
   ]
  }
 ],
 "metadata": {
  "kernelspec": {
   "display_name": "Python 3",
   "language": "python",
   "name": "python3"
  },
  "language_info": {
   "codemirror_mode": {
    "name": "ipython",
    "version": 3
   },
   "file_extension": ".py",
   "mimetype": "text/x-python",
   "name": "python",
   "nbconvert_exporter": "python",
   "pygments_lexer": "ipython3",
   "version": "3.7.6"
  }
 },
 "nbformat": 4,
 "nbformat_minor": 4
}
