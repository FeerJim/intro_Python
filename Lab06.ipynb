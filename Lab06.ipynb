{
 "cells": [
  {
   "attachments": {},
   "cell_type": "markdown",
   "metadata": {},
   "source": [
    "# Capítulo 5. Diccionarios y tuplas\n",
    "\n",
    "Una de las palabras reservadas que nos permite crear objetos vacíos es **None**.\n",
    "\n",
    "## Diccionarios:\n",
    "\n",
    "Los diccionarios son listas no ordenadas de datos a los cuales les podemos asignar un identificador."
   ]
  },
  {
   "cell_type": "code",
   "execution_count": 1,
   "metadata": {},
   "outputs": [
    {
     "name": "stdout",
     "output_type": "stream",
     "text": [
      "{}\n"
     ]
    }
   ],
   "source": [
    "# diccionario vacio\n",
    "x = {}\n",
    "print(x)"
   ]
  },
  {
   "cell_type": "code",
   "execution_count": 2,
   "metadata": {},
   "outputs": [
    {
     "name": "stdout",
     "output_type": "stream",
     "text": [
      "{1: 'Fer', 2: 'Jim', 3: 25}\n"
     ]
    }
   ],
   "source": [
    "# diccionario indexado por numeros\n",
    "x = {1: 'Fer', 2: 'Jim', 3: 25}\n",
    "print(x)"
   ]
  },
  {
   "cell_type": "code",
   "execution_count": 3,
   "metadata": {},
   "outputs": [
    {
     "data": {
      "text/plain": [
       "25"
      ]
     },
     "execution_count": 3,
     "metadata": {},
     "output_type": "execute_result"
    }
   ],
   "source": [
    "# accedemos a los elementos usando el operador [] conociendo la llave\n",
    "x[3]"
   ]
  },
  {
   "cell_type": "code",
   "execution_count": 4,
   "metadata": {},
   "outputs": [
    {
     "name": "stdout",
     "output_type": "stream",
     "text": [
      "{1: 'Fer', 2: 'Jim', 3: 20}\n"
     ]
    }
   ],
   "source": [
    "# modificamos los valores\n",
    "x[3] = 20\n",
    "print(x)"
   ]
  },
  {
   "cell_type": "code",
   "execution_count": 5,
   "metadata": {},
   "outputs": [
    {
     "name": "stdout",
     "output_type": "stream",
     "text": [
      "1\n",
      "2\n",
      "3\n"
     ]
    }
   ],
   "source": [
    "# imprimimos solo las llaves\n",
    "for i in x: print(i)"
   ]
  },
  {
   "attachments": {},
   "cell_type": "markdown",
   "metadata": {},
   "source": [
    "**Ejercicio:**\n",
    "--\n",
    "Imprimir los valores."
   ]
  },
  {
   "cell_type": "code",
   "execution_count": null,
   "metadata": {},
   "outputs": [],
   "source": []
  },
  {
   "attachments": {},
   "cell_type": "markdown",
   "metadata": {},
   "source": [
    "Podemos crear un diccionario con una lista formada por tuplas de la forma: `(key,value)`."
   ]
  },
  {
   "cell_type": "code",
   "execution_count": 6,
   "metadata": {},
   "outputs": [
    {
     "name": "stdout",
     "output_type": "stream",
     "text": [
      "{'Nombre': 'Fer', 'Apellido': 'Jim', 'Edad': 25}\n"
     ]
    }
   ],
   "source": [
    "x = dict([('Nombre','Fer'),('Apellido','Jim'),('Edad',25)])\n",
    "print(x)"
   ]
  },
  {
   "attachments": {},
   "cell_type": "markdown",
   "metadata": {},
   "source": [
    "Tambien se puede escribir un diccionario usando el operador `=`."
   ]
  },
  {
   "cell_type": "code",
   "execution_count": 7,
   "metadata": {},
   "outputs": [
    {
     "name": "stdout",
     "output_type": "stream",
     "text": [
      "{'Nombre': 'Fer', 'Apellido': 'Jim', 'Edad': 25}\n"
     ]
    }
   ],
   "source": [
    "x = dict(Nombre = 'Fer', Apellido = 'Jim', Edad = 25)\n",
    "print(x)"
   ]
  },
  {
   "attachments": {},
   "cell_type": "markdown",
   "metadata": {},
   "source": [
    "Algunas funciones utiles de los diccionarios:"
   ]
  },
  {
   "cell_type": "code",
   "execution_count": 8,
   "metadata": {},
   "outputs": [
    {
     "data": {
      "text/plain": [
       "3"
      ]
     },
     "execution_count": 8,
     "metadata": {},
     "output_type": "execute_result"
    }
   ],
   "source": [
    "# cantidad de elementos del diccionario\n",
    "len(x)"
   ]
  },
  {
   "cell_type": "code",
   "execution_count": 9,
   "metadata": {},
   "outputs": [
    {
     "data": {
      "text/plain": [
       "dict_keys(['Nombre', 'Apellido', 'Edad'])"
      ]
     },
     "execution_count": 9,
     "metadata": {},
     "output_type": "execute_result"
    }
   ],
   "source": [
    "# indices de un diccionario\n",
    "x.keys()"
   ]
  },
  {
   "cell_type": "code",
   "execution_count": 10,
   "metadata": {},
   "outputs": [
    {
     "data": {
      "text/plain": [
       "['Apellido', 'Edad', 'Nombre']"
      ]
     },
     "execution_count": 10,
     "metadata": {},
     "output_type": "execute_result"
    }
   ],
   "source": [
    "# ordenar un diccionario lexicograficamente por sus llaves\n",
    "sorted(x)"
   ]
  },
  {
   "cell_type": "code",
   "execution_count": 11,
   "metadata": {},
   "outputs": [
    {
     "data": {
      "text/plain": [
       "dict_values(['Fer', 'Jim', 25])"
      ]
     },
     "execution_count": 11,
     "metadata": {},
     "output_type": "execute_result"
    }
   ],
   "source": [
    "# valores de un diccionario\n",
    "x.values()"
   ]
  },
  {
   "cell_type": "code",
   "execution_count": 12,
   "metadata": {},
   "outputs": [
    {
     "name": "stdout",
     "output_type": "stream",
     "text": [
      "Fer\n",
      "Jim\n",
      "25\n"
     ]
    }
   ],
   "source": [
    "# otra forma de acceder a los valores de un diccionario\n",
    "for i in x.values():\n",
    "    print(i)"
   ]
  },
  {
   "cell_type": "code",
   "execution_count": 13,
   "metadata": {},
   "outputs": [
    {
     "data": {
      "text/plain": [
       "25"
      ]
     },
     "execution_count": 13,
     "metadata": {},
     "output_type": "execute_result"
    }
   ],
   "source": [
    "# obtener el valor correspondiente a un indice determinado\n",
    "x.get('Edad')"
   ]
  },
  {
   "cell_type": "code",
   "execution_count": 14,
   "metadata": {},
   "outputs": [
    {
     "data": {
      "text/plain": [
       "dict_items([('Nombre', 'Fer'), ('Apellido', 'Jim'), ('Edad', 25)])"
      ]
     },
     "execution_count": 14,
     "metadata": {},
     "output_type": "execute_result"
    }
   ],
   "source": [
    "# generar un iterable cuyos elementos son tuplas de la forma (key,value)\n",
    "x.items()"
   ]
  },
  {
   "cell_type": "code",
   "execution_count": 15,
   "metadata": {},
   "outputs": [
    {
     "name": "stdout",
     "output_type": "stream",
     "text": [
      "Nombre : Fer\n",
      "Apellido : Jim\n",
      "Edad : 25\n"
     ]
    }
   ],
   "source": [
    "# Otra forma de mostrar los valores de un diccionario\n",
    "for i,j in x.items():\n",
    "    print(i,\":\",j)"
   ]
  },
  {
   "cell_type": "code",
   "execution_count": 16,
   "metadata": {},
   "outputs": [
    {
     "name": "stdout",
     "output_type": "stream",
     "text": [
      "{'Nombre': 'Fer', 'Apellido': 'Jim', 'Edad': 25}\n"
     ]
    }
   ],
   "source": [
    "# crear u a copia del diccionario\n",
    "aux = x.copy()\n",
    "print(aux)"
   ]
  },
  {
   "cell_type": "code",
   "execution_count": 17,
   "metadata": {},
   "outputs": [
    {
     "name": "stdout",
     "output_type": "stream",
     "text": [
      "{'Nombre': 'Fer', 'Apellido': 'Jim', 'Edad': 25, 'Genero': 'M'}\n"
     ]
    }
   ],
   "source": [
    "# agregar elementos a un diccionario existente\n",
    "x['Genero'] = 'M'\n",
    "print(x)"
   ]
  },
  {
   "cell_type": "code",
   "execution_count": 18,
   "metadata": {},
   "outputs": [
    {
     "name": "stdout",
     "output_type": "stream",
     "text": [
      "{'Nombre': 'Fer', 'Apellido': 'Jim', 'Genero': 'M'}\n"
     ]
    }
   ],
   "source": [
    "# eliminar elementos de un diccionario usando pop\n",
    "x.pop('Edad')\n",
    "print(x)"
   ]
  },
  {
   "cell_type": "code",
   "execution_count": 19,
   "metadata": {},
   "outputs": [
    {
     "name": "stdout",
     "output_type": "stream",
     "text": [
      "{'Nombre': 'Fer', 'Apellido': 'Jim'}\n"
     ]
    }
   ],
   "source": [
    "# eliminamos el ultimo elemento de un diccionario\n",
    "x.popitem()\n",
    "print(x)"
   ]
  },
  {
   "cell_type": "code",
   "execution_count": 20,
   "metadata": {},
   "outputs": [
    {
     "name": "stdout",
     "output_type": "stream",
     "text": [
      "{'Apellido': 'Jim'}\n"
     ]
    }
   ],
   "source": [
    "del x['Nombre'] # del puede usarse para eliminar todo el diccionario\n",
    "print(x)"
   ]
  },
  {
   "cell_type": "code",
   "execution_count": 21,
   "metadata": {},
   "outputs": [
    {
     "name": "stdout",
     "output_type": "stream",
     "text": [
      "{}\n"
     ]
    }
   ],
   "source": [
    "# borramos todos los elementos de un diccionario\n",
    "x.clear()\n",
    "print(x)"
   ]
  },
  {
   "cell_type": "code",
   "execution_count": 22,
   "metadata": {},
   "outputs": [
    {
     "ename": "NameError",
     "evalue": "name 'x' is not defined",
     "output_type": "error",
     "traceback": [
      "\u001b[0;31m---------------------------------------------------------------------------\u001b[0m",
      "\u001b[0;31mNameError\u001b[0m                                 Traceback (most recent call last)",
      "Cell \u001b[0;32mIn[22], line 4\u001b[0m\n\u001b[1;32m      2\u001b[0m \u001b[39m# eliminamos todo el diccionario\u001b[39;00m\n\u001b[1;32m      3\u001b[0m \u001b[39mdel\u001b[39;00m x\n\u001b[0;32m----> 4\u001b[0m \u001b[39mprint\u001b[39m(x)\n",
      "\u001b[0;31mNameError\u001b[0m: name 'x' is not defined"
     ]
    }
   ],
   "source": [
    "x = aux.copy()\n",
    "# eliminamos todo el diccionario\n",
    "del x\n",
    "print(x)"
   ]
  },
  {
   "cell_type": "code",
   "execution_count": 23,
   "metadata": {},
   "outputs": [
    {
     "name": "stdout",
     "output_type": "stream",
     "text": [
      "{'Nombre': None, 'Apellido': None, 'Edad': None}\n"
     ]
    }
   ],
   "source": [
    "# creamos un diccionario usando los indices de otro diccionario\n",
    "x = dict.fromkeys(aux.keys())\n",
    "print(x)"
   ]
  },
  {
   "cell_type": "code",
   "execution_count": 24,
   "metadata": {},
   "outputs": [
    {
     "name": "stdout",
     "output_type": "stream",
     "text": [
      "{'Nombre': 0, 'Apellido': 0, 'Edad': 0}\n"
     ]
    }
   ],
   "source": [
    "# creamos usando indices y asignamos un valor por defecto\n",
    "x = dict.fromkeys(aux.keys(),0)\n",
    "print(x)"
   ]
  },
  {
   "cell_type": "code",
   "execution_count": 25,
   "metadata": {},
   "outputs": [
    {
     "name": "stdout",
     "output_type": "stream",
     "text": [
      "{'Nombre': 0, 'Apellido': 0, 'Edad': 0}\n"
     ]
    }
   ],
   "source": [
    "# obtenemos el valor por defecto de un elemento del diccionario\n",
    "y = x.setdefault('Edad')\n",
    "print(x)"
   ]
  },
  {
   "cell_type": "code",
   "execution_count": 26,
   "metadata": {},
   "outputs": [
    {
     "name": "stdout",
     "output_type": "stream",
     "text": [
      "{'Nombre': 0, 'Apellido': 0, 'Edad': 0, 'Genero': 'M'}\n"
     ]
    }
   ],
   "source": [
    "# si no existe el indice se crea un elemento nuevo\n",
    "y = x.setdefault('Genero','M')\n",
    "print(x)"
   ]
  },
  {
   "cell_type": "code",
   "execution_count": 27,
   "metadata": {},
   "outputs": [
    {
     "name": "stdout",
     "output_type": "stream",
     "text": [
      "{'Nombre': 'Fer', 'Apellido': 'Jim', 'Edad': 25, 'Genero': 'M'}\n"
     ]
    }
   ],
   "source": [
    "aux.update({'Genero':'M'})\n",
    "print(aux)"
   ]
  },
  {
   "cell_type": "code",
   "execution_count": 28,
   "metadata": {},
   "outputs": [
    {
     "name": "stdout",
     "output_type": "stream",
     "text": [
      "{'estudiante1': {'Nombre': 'Fer', 'Nota': 10}, 'estudiante2': {'Nombre': 'Katy', 'Nota': 9}, 'estudiante3': {'Nombre': 'Cris', 'Nota': 8}}\n"
     ]
    }
   ],
   "source": [
    "# diccionarios anidados\n",
    "Curso_A = {\n",
    "  \"estudiante1\" : {\n",
    "    \"Nombre\" : \"Fer\",\n",
    "    \"Nota\" : 10\n",
    "  },\n",
    "  \"estudiante2\" : {\n",
    "    \"Nombre\" : \"Katy\",\n",
    "    \"Nota\" : 9\n",
    "  },\n",
    "  \"estudiante3\" : {\n",
    "    \"Nombre\" : \"Cris\",\n",
    "    \"Nota\" : 8\n",
    "  }\n",
    "}\n",
    "print(Curso_A)"
   ]
  },
  {
   "cell_type": "code",
   "execution_count": 29,
   "metadata": {},
   "outputs": [
    {
     "name": "stdout",
     "output_type": "stream",
     "text": [
      "{'estudiante1': {'Nombre': 'Fer', 'Nota': 10}, 'estudiante2': {'Nombre': 'Katy', 'Nota': 9}, 'estudiante3': {'Nombre': 'Cris', 'Nota': 8}}\n"
     ]
    }
   ],
   "source": [
    "# otra forma de crear el diccionario conociendo valores iniciales\n",
    "x = {\"Nombre\" : \"Fer\", \"Nota\" : 10 }\n",
    "y = {\"Nombre\" : \"Katy\", \"Nota\" : 9 }\n",
    "z = {\"Nombre\" : \"Cris\", \"Nota\" : 8 }\n",
    "Curso_A = {\n",
    "  \"estudiante1\" : x,\n",
    "  \"estudiante2\" : y,\n",
    "  \"estudiante3\" : z\n",
    "}\n",
    "print(Curso_A)"
   ]
  },
  {
   "attachments": {},
   "cell_type": "markdown",
   "metadata": {},
   "source": [
    "**Ejercicio:**\n",
    "--\n",
    "1. Crear un diccionario con la informacion de sus padres (Nombre,Edad,Genero).\n",
    "2. Agregar la informacion suya (Nombre,Edad,Genero).\n",
    "3. Visualizar la informacion la informacion en una tabla"
   ]
  },
  {
   "cell_type": "code",
   "execution_count": 30,
   "metadata": {},
   "outputs": [],
   "source": [
    "# 1. crear un diccionario"
   ]
  },
  {
   "cell_type": "code",
   "execution_count": 31,
   "metadata": {},
   "outputs": [],
   "source": [
    "# 2. agregar su informacion al diccionario"
   ]
  },
  {
   "cell_type": "code",
   "execution_count": 32,
   "metadata": {},
   "outputs": [],
   "source": [
    "# 3. Visualizacion\n"
   ]
  },
  {
   "cell_type": "markdown",
   "metadata": {},
   "source": [
    "## Tuplas:\n",
    "\n",
    "Colección ordenada de elementos. Sus elementos no se pueden modificar."
   ]
  },
  {
   "cell_type": "code",
   "execution_count": 33,
   "metadata": {},
   "outputs": [
    {
     "name": "stdout",
     "output_type": "stream",
     "text": [
      "('roja', 'verde')\n"
     ]
    }
   ],
   "source": [
    "manzana = ('roja', 'verde')\n",
    "print(manzana)"
   ]
  },
  {
   "cell_type": "code",
   "execution_count": 34,
   "metadata": {},
   "outputs": [
    {
     "data": {
      "text/plain": [
       "'verde'"
      ]
     },
     "execution_count": 34,
     "metadata": {},
     "output_type": "execute_result"
    }
   ],
   "source": [
    "# accedemos a los elementos\n",
    "manzana[-1]"
   ]
  },
  {
   "cell_type": "code",
   "execution_count": 35,
   "metadata": {},
   "outputs": [
    {
     "data": {
      "text/plain": [
       "('Bobtail japonais',\n",
       " 'Sphynx',\n",
       " 'Ragdoll',\n",
       " 'American shorthair',\n",
       " 'Siamois',\n",
       " 'Maine coon',\n",
       " 'British shorthair',\n",
       " 'Persan')"
      ]
     },
     "execution_count": 35,
     "metadata": {},
     "output_type": "execute_result"
    }
   ],
   "source": [
    "gatos = ('Persan','British shorthair','Maine coon','Siamois','American shorthair','Ragdoll','Sphynx','Bobtail japonais')\n",
    "\n",
    "# cantidad de elementos\n",
    "len(gatos)\n",
    "\n",
    "# ordenamos lexicograficamente\n",
    "sorted(gatos)\n",
    "\n",
    "# invertimos el orden\n",
    "gatos[::-1]"
   ]
  },
  {
   "cell_type": "markdown",
   "metadata": {},
   "source": [
    "Podemos modificar una tupla...????"
   ]
  },
  {
   "cell_type": "code",
   "execution_count": 36,
   "metadata": {},
   "outputs": [
    {
     "ename": "TypeError",
     "evalue": "'tuple' object does not support item assignment",
     "output_type": "error",
     "traceback": [
      "\u001b[0;31m---------------------------------------------------------------------------\u001b[0m",
      "\u001b[0;31mTypeError\u001b[0m                                 Traceback (most recent call last)",
      "Cell \u001b[0;32mIn[36], line 1\u001b[0m\n\u001b[0;32m----> 1\u001b[0m gatos[\u001b[39m0\u001b[39;49m] \u001b[39m=\u001b[39m \u001b[39m'\u001b[39m\u001b[39mNorvegien\u001b[39m\u001b[39m'\u001b[39m\n",
      "\u001b[0;31mTypeError\u001b[0m: 'tuple' object does not support item assignment"
     ]
    }
   ],
   "source": [
    "gatos[0] = 'Norvegien'"
   ]
  },
  {
   "cell_type": "code",
   "execution_count": 37,
   "metadata": {},
   "outputs": [
    {
     "name": "stdout",
     "output_type": "stream",
     "text": [
      "('Norvegien', 'British shorthair', 'Maine coon', 'Siamois', 'American shorthair', 'Ragdoll', 'Sphynx', 'Bobtail japonais')\n"
     ]
    }
   ],
   "source": [
    "# usamos tuplas para modificar los elementos\n",
    "y = list(gatos)\n",
    "y[0] = 'Norvegien'\n",
    "gatos = tuple(y)\n",
    "print(gatos)"
   ]
  },
  {
   "attachments": {},
   "cell_type": "markdown",
   "metadata": {},
   "source": [
    "**Ejercicio:**\n",
    "--\n",
    "Imprimir la lista de gatos ordenados z-a"
   ]
  },
  {
   "cell_type": "code",
   "execution_count": null,
   "metadata": {},
   "outputs": [],
   "source": []
  },
  {
   "cell_type": "code",
   "execution_count": 38,
   "metadata": {},
   "outputs": [
    {
     "name": "stdout",
     "output_type": "stream",
     "text": [
      "Nop... :c\n"
     ]
    }
   ],
   "source": [
    "# busquemos un elemento en la tupla\n",
    "print('Sip... :3') if 'Persan' in gatos else print('Nop... :c')"
   ]
  },
  {
   "attachments": {},
   "cell_type": "markdown",
   "metadata": {},
   "source": [
    "**Ejercicio:**\n",
    "\n",
    "Como agregaria un nuevo elemento a la tupla `gatos`...???"
   ]
  },
  {
   "cell_type": "code",
   "execution_count": null,
   "metadata": {},
   "outputs": [],
   "source": []
  },
  {
   "cell_type": "code",
   "execution_count": 39,
   "metadata": {},
   "outputs": [
    {
     "data": {
      "text/plain": [
       "str"
      ]
     },
     "execution_count": 39,
     "metadata": {},
     "output_type": "execute_result"
    }
   ],
   "source": [
    "# No se puede crear una tupla con un solo elemento\n",
    "papas = ('fritas')\n",
    "type(papas)"
   ]
  },
  {
   "cell_type": "code",
   "execution_count": 40,
   "metadata": {},
   "outputs": [
    {
     "data": {
      "text/plain": [
       "tuple"
      ]
     },
     "execution_count": 40,
     "metadata": {},
     "output_type": "execute_result"
    }
   ],
   "source": [
    "# forma correcta de crear una tupla con un solo elemento\n",
    "papas = ('fritas',)\n",
    "type(papas)"
   ]
  },
  {
   "cell_type": "code",
   "execution_count": 41,
   "metadata": {},
   "outputs": [
    {
     "name": "stdout",
     "output_type": "stream",
     "text": [
      "('fritas', 'cocinadas')\n"
     ]
    }
   ],
   "source": [
    "papas += ('cocinadas',)\n",
    "print(papas)"
   ]
  },
  {
   "attachments": {},
   "cell_type": "markdown",
   "metadata": {},
   "source": [
    "**Ejercicio:**\n",
    "--\n",
    "Crear una tabla con identificador numerico para los gatos:\n",
    "\n",
    "|ID|Gato|\n",
    "|--|----|\n",
    "|1|Norvegien|\n",
    "|2|British shorthair|\n",
    "|...|...|"
   ]
  },
  {
   "cell_type": "code",
   "execution_count": 42,
   "metadata": {},
   "outputs": [
    {
     "name": "stdout",
     "output_type": "stream",
     "text": [
      "ID Gato\n"
     ]
    }
   ],
   "source": [
    "print('{:<2} {:<}'.format('ID','Gato'))\n",
    "# codigo aqui...."
   ]
  },
  {
   "cell_type": "code",
   "execution_count": 45,
   "metadata": {},
   "outputs": [
    {
     "data": {
      "text/plain": [
       "('fritas', 'cocinadas', 'horneadas')"
      ]
     },
     "execution_count": 45,
     "metadata": {},
     "output_type": "execute_result"
    }
   ],
   "source": [
    "# podemos usar funciones definidas de la clase (no recomendable)\n",
    "papas.__add__(('horneadas',))"
   ]
  }
 ],
 "metadata": {
  "kernelspec": {
   "display_name": "Python 3",
   "language": "python",
   "name": "python3"
  },
  "language_info": {
   "codemirror_mode": {
    "name": "ipython",
    "version": 3
   },
   "file_extension": ".py",
   "mimetype": "text/x-python",
   "name": "python",
   "nbconvert_exporter": "python",
   "pygments_lexer": "ipython3",
   "version": "3.11.4"
  }
 },
 "nbformat": 4,
 "nbformat_minor": 4
}
