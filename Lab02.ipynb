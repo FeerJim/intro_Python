{
 "cells": [
  {
   "cell_type": "markdown",
   "metadata": {},
   "source": [
    "Capítulo 2. Estructuras de Control\n",
    "=="
   ]
  },
  {
   "cell_type": "code",
   "execution_count": null,
   "metadata": {},
   "outputs": [],
   "source": [
    "# Boolenaos y comparaciones\n",
    "2 == 3 and 3 <= 2\n",
    "2 !=3 or 2 < 4\n",
    "not 2 == 3\n",
    "2 is 3\n",
    "2 in [1,2,3]\n",
    "2 not in [1,2,3]\n",
    "\n",
    "# Listas\n",
    "x = [1,3,4]\n",
    "x.append(2)\n",
    "x.count(4)\n",
    "x.extend([5])\n",
    "x.index(4)\n",
    "x.insert(6,0)\n",
    "x.pop()\n",
    "x.pop(1)\n",
    "x.remove(2)\n",
    "x.reverse()\n",
    "x.sort()\n",
    "\n",
    "# Rangos\n",
    "x = range(3)\n",
    "x = range(1,4)\n",
    "x[-1]"
   ]
  },
  {
   "cell_type": "markdown",
   "metadata": {},
   "source": [
    "Sentencia `if`"
   ]
  },
  {
   "cell_type": "code",
   "execution_count": null,
   "metadata": {},
   "outputs": [],
   "source": [
    "if 5 > 2:\n",
    "    print(\"Cinco es mayor que dos!\")\n",
    "\"\"\"\n",
    "En este caso si coloco a la misma altura del if el print, saldrá un error.\n",
    "Se puede usar tab para alinear los códigos.\n",
    "\"\"\"\n",
    "if 5 > 2:\n",
    "print(\"Cinco es mayor que dos!\")\n",
    "# Else if\n",
    "if 5 > 2:\n",
    "    print(\"Cinco es mayor que dos\")\n",
    "elif 5 == 2:\n",
    "    print(\"Cinco es igual a dos\")\n",
    "else:\n",
    "    print(\"Cinco es menor que dos\")\n",
    "# El mismo código en una línea\n",
    "print(\"Cinco es mayor que dos!\") if 5 > 2 else print(\"Cinco es igual que dos\") if 5 == 2 else print(\"Cinco es menor que dos\")"
   ]
  },
  {
   "attachments": {},
   "cell_type": "markdown",
   "metadata": {},
   "source": [
    "**Ejercicio:** Solicitar ingrese un número su edad en pantalla. Si el número ingresado es un entero verificar si cumplió años en el 2023. Si este es el caso, solicitar ingrese su nombre y desplegar el mensaje:\n",
    "\n",
    "\"Saludos `nombre`, usted tiene `edad_ingresada` años y nació el `año_ingresado`.\""
   ]
  },
  {
   "cell_type": "code",
   "execution_count": null,
   "metadata": {},
   "outputs": [],
   "source": [
    "x = input('Ingrese su edad:')\n",
    "if int(x):\n",
    "    aux = input('Si ya cumplió años en el 2023 ingrese el número 1, caso contrario coloque 0: ')\n",
    "    if int(aux) == 1:\n",
    "        z = 2023 - int(x)\n",
    "    else:\n",
    "        z = 2022 - int(x)\n",
    "    y = input('Ingrese su nombre: ')\n",
    "    print('Saludos {}, usted tiene {} años y nació en {}.'.format(y,x,z))"
   ]
  },
  {
   "cell_type": "markdown",
   "metadata": {},
   "source": [
    "## Operaciones bucle\n",
    "### For"
   ]
  },
  {
   "cell_type": "code",
   "execution_count": null,
   "metadata": {},
   "outputs": [],
   "source": [
    "vocales = [\"a\", \"e\", \"i\", \"o\",\"u\"]\n",
    "# Imprimir hasta la letra i (break)\n",
    "for x in vocales:\n",
    "    print(x)\n",
    "    if x == \"i\":\n",
    "        break\n",
    "\n",
    "# Imprimir las vocales excluyendo la letra i (continue)\n",
    "for x in vocales:\n",
    "  if x == \"i\":\n",
    "    continue\n",
    "  print(x) \n",
    "\n",
    "# Imprimir los números del 0 al 5\n",
    "for x in range(6): # la funcion range crea una secuencia de enteros desde el 0 hasta el 6 range(0,6)\n",
    "  print(x)\n",
    "\n",
    "# Imprimir los números del -2 al 2 y un mensaje al final.\n",
    "for x in range(-2,3):\n",
    "  print(x)\n",
    "else:\n",
    "  print(\"Proceso terminado!\")\n",
    "\n",
    "# Lazo anidado\n",
    "numeros = range(1,2)\n",
    "for x in numeros:\n",
    "  for y in vocales:\n",
    "    print(x, y)\n",
    "\n",
    "# str.format() y el operador for\n",
    "for x in range(1, 11):\n",
    "    print('{0:2d} {1:3d} {2:4d}'.format(x, x*x, x*x*x))\n",
    "\n",
    "# Ajustando manualmente\n",
    "# str.rjust() justifica a la derecha, str.ljust() a la izquierda y str.center() centra.\n",
    "# si deseas truncar puedes escribir x.ljust(n)[:n]\n",
    "for x in range(1, 11):\n",
    "    print(repr(x).rjust(2), repr(x*x).rjust(3), end=' ')\n",
    "    print(repr(x*x*x).rjust(4))\n",
    "\n",
    "# Para rellenar con ceros a la izquierda usamos str.zfill(n), donde n es la longitud resultante\n",
    "'12'.zfill(5)"
   ]
  },
  {
   "cell_type": "markdown",
   "metadata": {},
   "source": [
    "### While"
   ]
  },
  {
   "cell_type": "code",
   "execution_count": null,
   "metadata": {},
   "outputs": [],
   "source": [
    "# Imprimir los números del 1 al 5\n",
    "i = 1\n",
    "while i < 6:\n",
    "    print(i)\n",
    "    i += 1\n",
    "# Imprimir del 1 al 3 (break)\n",
    "i = 1\n",
    "while i < 6:\n",
    "  print(i)\n",
    "  if (i == 3):\n",
    "    break\n",
    "  i += 1\n",
    "# Imprimir los números excluyendo el número 3 (continue)\n",
    "i = 0\n",
    "while i < 6:\n",
    "  i += 1\n",
    "  if i == 3:\n",
    "    continue\n",
    "  print(i)\n",
    "# Imprimir los números del 1 al 5 y decir cuando se termino el proceso\n",
    "i = 1\n",
    "while i < 6:\n",
    "  print(i)\n",
    "  i += 1\n",
    "else:\n",
    "  print(\"Proceso finalizado\")\n",
    "# Pedir un valor\n",
    "while True:\n",
    "    n = int(input(\"Ingresar un valor entero > 0 : \"))\n",
    "    print(\"El valor ingresado es: \", n)\n",
    "    if n > 0:\n",
    "        break\n",
    "print(\"Gracias\")"
   ]
  },
  {
   "cell_type": "markdown",
   "metadata": {},
   "source": [
    "### Ejemplos\n",
    "1. Factorizar un numero: $n = x \\cdot y$. Un número es primo si no es posible factoriza en el producto de dos números distinto de uno. Hint: que pasa con el modulo de 10 y que pasa con el modulo de 7."
   ]
  },
  {
   "cell_type": "code",
   "execution_count": null,
   "metadata": {},
   "outputs": [],
   "source": [
    "# Imprimir el número factorizado, si no es posible, imprimir el mensaje: es un número primo\n",
    "for n in range(1,10):\n",
    "    for x in range(2,n):\n",
    "        if n % x == 0 :\n",
    "            print(n , 'es igual a ', x ,' x ', int(n/x) )\n",
    "            break\n",
    "    else:\n",
    "        print('El', n , 'es un numero primo.')"
   ]
  },
  {
   "attachments": {},
   "cell_type": "markdown",
   "metadata": {},
   "source": [
    "2. Solicitar un numero positivo y  verificar si es primo o no."
   ]
  },
  {
   "cell_type": "code",
   "execution_count": null,
   "metadata": {},
   "outputs": [],
   "source": [
    "\n",
    "while True:\n",
    "    n = int(input(\"Ingresar un valor entero > 0 : \"))\n",
    "    for x in range(2,n):\n",
    "        if n % x == 0 :\n",
    "            print(n , 'es igual a ', x ,' x ', int(n/x) )\n",
    "            break\n",
    "    else:\n",
    "        print('El', n , 'es un numero primo.')\n",
    "    if n > 0:\n",
    "        break\n",
    "print(\"Gracias\")"
   ]
  },
  {
   "attachments": {},
   "cell_type": "markdown",
   "metadata": {},
   "source": [
    "Deber\n",
    "==\n",
    "Imprimir los numeros impares del intervalo $[0,51]$, excepto los numeros que terminen en 1."
   ]
  },
  {
   "cell_type": "code",
   "execution_count": null,
   "metadata": {},
   "outputs": [],
   "source": [
    "for i in range(52):\n",
    "    if i%2 != 0 and i%10 != 1:\n",
    "        print(i, end=' ')\n",
    "print('')\n"
   ]
  },
  {
   "cell_type": "code",
   "execution_count": null,
   "metadata": {},
   "outputs": [],
   "source": []
  }
 ],
 "metadata": {
  "kernelspec": {
   "display_name": "Python 3",
   "language": "python",
   "name": "python3"
  },
  "language_info": {
   "codemirror_mode": {
    "name": "ipython",
    "version": 3
   },
   "file_extension": ".py",
   "mimetype": "text/x-python",
   "name": "python",
   "nbconvert_exporter": "python",
   "pygments_lexer": "ipython3",
   "version": "3.11.6"
  }
 },
 "nbformat": 4,
 "nbformat_minor": 4
}
