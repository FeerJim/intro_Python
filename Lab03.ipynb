{
 "cells": [
  {
   "cell_type": "markdown",
   "metadata": {},
   "source": [
    "# Capítulo 3. Funciones y módulos\n",
    "## Def\n",
    "\n",
    "La sentencia `def` nos permite crear objetos, para ello, escribimos `def`, el nombre de la funcion y los parametros:"
   ]
  },
  {
   "cell_type": "code",
   "execution_count": 1,
   "metadata": {
    "slideshow": {
     "slide_type": "slide"
    }
   },
   "outputs": [],
   "source": [
    "def saludo():\n",
    "    nombre = input('Ingrese su nombre: ')\n",
    "    print(\"Hola\", nombre, \"\\N{winking face}\")"
   ]
  },
  {
   "cell_type": "code",
   "execution_count": 2,
   "metadata": {
    "slideshow": {
     "slide_type": "-"
    }
   },
   "outputs": [
    {
     "name": "stdout",
     "output_type": "stream",
     "text": [
      "Hola Fer 😉\n"
     ]
    }
   ],
   "source": [
    "saludo()"
   ]
  },
  {
   "cell_type": "code",
   "execution_count": 3,
   "metadata": {},
   "outputs": [],
   "source": [
    "# Funcion suma\n",
    "def suma(x,y):\n",
    "    return x + y"
   ]
  },
  {
   "cell_type": "code",
   "execution_count": 4,
   "metadata": {},
   "outputs": [
    {
     "data": {
      "text/plain": [
       "5"
      ]
     },
     "execution_count": 4,
     "metadata": {},
     "output_type": "execute_result"
    }
   ],
   "source": [
    "suma(2,3)"
   ]
  },
  {
   "cell_type": "code",
   "execution_count": 5,
   "metadata": {},
   "outputs": [
    {
     "data": {
      "text/plain": [
       "5"
      ]
     },
     "execution_count": 5,
     "metadata": {},
     "output_type": "execute_result"
    }
   ],
   "source": [
    "suma(x = 3, y = 2)"
   ]
  },
  {
   "cell_type": "code",
   "execution_count": 6,
   "metadata": {},
   "outputs": [
    {
     "data": {
      "text/plain": [
       "5"
      ]
     },
     "execution_count": 6,
     "metadata": {},
     "output_type": "execute_result"
    }
   ],
   "source": [
    "suma(y = 3, x = 2)"
   ]
  },
  {
   "cell_type": "code",
   "execution_count": 7,
   "metadata": {},
   "outputs": [],
   "source": [
    "# Funcion sin argumentos\n",
    "def saludo(nombre = None):\n",
    "    if nombre == None:\n",
    "        nombre = \"Anonimo\"\n",
    "    print(\"Hola\", nombre, \"\\N{grinning face}\")"
   ]
  },
  {
   "cell_type": "code",
   "execution_count": 8,
   "metadata": {},
   "outputs": [
    {
     "name": "stdout",
     "output_type": "stream",
     "text": [
      "Hola 1 😀\n"
     ]
    }
   ],
   "source": [
    "saludo(1)"
   ]
  },
  {
   "cell_type": "code",
   "execution_count": 9,
   "metadata": {},
   "outputs": [],
   "source": [
    "def saludo(nombre = None):\n",
    "    if nombre == None or type(nombre) != str:\n",
    "        print(\"Ingrese un nombre por favor.\")\n",
    "        return\n",
    "    print(\"Hola\", nombre, \"\\N{kissing face}\")"
   ]
  },
  {
   "cell_type": "code",
   "execution_count": 10,
   "metadata": {},
   "outputs": [
    {
     "name": "stdout",
     "output_type": "stream",
     "text": [
      "Ingrese un nombre por favor.\n"
     ]
    }
   ],
   "source": [
    "saludo()"
   ]
  },
  {
   "cell_type": "code",
   "execution_count": 11,
   "metadata": {},
   "outputs": [
    {
     "name": "stdout",
     "output_type": "stream",
     "text": [
      "Ingrese un nombre por favor.\n"
     ]
    }
   ],
   "source": [
    "saludo(1)"
   ]
  },
  {
   "cell_type": "code",
   "execution_count": 12,
   "metadata": {},
   "outputs": [
    {
     "name": "stdout",
     "output_type": "stream",
     "text": [
      "Hola Alice 😗\n"
     ]
    }
   ],
   "source": [
    "saludo('Alice')"
   ]
  },
  {
   "attachments": {},
   "cell_type": "markdown",
   "metadata": {},
   "source": [
    "**Ejercicio:**\n",
    "--\n",
    "Cree la funcion division"
   ]
  },
  {
   "cell_type": "code",
   "execution_count": 13,
   "metadata": {},
   "outputs": [],
   "source": [
    "def division(numerador,denominador):\n",
    "    if denominador == 0:\n",
    "        print(\"Error: no se puede dividir para cero ! :c\")\n",
    "        print(\"La funcion actual es: division(numerador,denominador), intenta con otro valor del \\'denominador\\'\")\n",
    "        return\n",
    "    return numerador/denominador"
   ]
  },
  {
   "cell_type": "code",
   "execution_count": 14,
   "metadata": {},
   "outputs": [
    {
     "data": {
      "text/plain": [
       "0.5"
      ]
     },
     "execution_count": 14,
     "metadata": {},
     "output_type": "execute_result"
    }
   ],
   "source": [
    "division(1,2)"
   ]
  },
  {
   "attachments": {},
   "cell_type": "markdown",
   "metadata": {},
   "source": [
    "## Ejemplo\n",
    "\n",
    "Función para imprimir todos los nombres que se ingresen como argumento."
   ]
  },
  {
   "cell_type": "code",
   "execution_count": 15,
   "metadata": {},
   "outputs": [],
   "source": [
    "# Argumentos no determinados\n",
    "def estudiantes(*nombres):\n",
    "    print('Los estudiantes del curso son:')\n",
    "    for i in nombres:\n",
    "        print(i)"
   ]
  },
  {
   "cell_type": "code",
   "execution_count": 16,
   "metadata": {},
   "outputs": [
    {
     "name": "stdout",
     "output_type": "stream",
     "text": [
      "Los estudiantes del curso son:\n",
      "Fer\n",
      "Andres\n",
      "Cris\n"
     ]
    }
   ],
   "source": [
    "estudiantes('Fer','Andres','Cris')"
   ]
  },
  {
   "cell_type": "code",
   "execution_count": 17,
   "metadata": {},
   "outputs": [],
   "source": [
    "# Argumentos con una clave\n",
    "def estudiante(**nombre):\n",
    "    print(nombre)"
   ]
  },
  {
   "cell_type": "code",
   "execution_count": 18,
   "metadata": {},
   "outputs": [
    {
     "name": "stdout",
     "output_type": "stream",
     "text": [
      "{'ID': 1, 'nombre': 'Fer', 'apellido': 'J.', 'edad': 18}\n"
     ]
    }
   ],
   "source": [
    "estudiante(ID = 1, nombre = \"Fer\", apellido = 'J.', edad = 18)"
   ]
  },
  {
   "cell_type": "code",
   "execution_count": 19,
   "metadata": {},
   "outputs": [],
   "source": [
    "def estudiante(**nombre):\n",
    "    #print('Los datos del estudiante {} son: '.format(next(iter(nombre.values()))))\n",
    "    print('Los datos del estudiante {} son: '.format(nombre[list(nombre.keys())[1]]))\n",
    "    for i in nombre:        \n",
    "        print(' ',i, ':', nombre[i])"
   ]
  },
  {
   "cell_type": "code",
   "execution_count": 20,
   "metadata": {},
   "outputs": [
    {
     "name": "stdout",
     "output_type": "stream",
     "text": [
      "Los datos del estudiante Fer son: \n",
      "  ID : 1\n",
      "  nombre : Fer\n",
      "  apellido : J.\n",
      "  edad : 18\n"
     ]
    }
   ],
   "source": [
    "estudiante(ID = 1, nombre = \"Fer\", apellido = 'J.', edad = 18)"
   ]
  },
  {
   "cell_type": "code",
   "execution_count": 21,
   "metadata": {},
   "outputs": [],
   "source": [
    "# Multiples retornos\n",
    "def Notas(lista):\n",
    "    contar = len(lista)\n",
    "    total = sum(lista)\n",
    "    promedio = total / contar\n",
    "    return contar,total,promedio"
   ]
  },
  {
   "cell_type": "code",
   "execution_count": 22,
   "metadata": {},
   "outputs": [
    {
     "name": "stdout",
     "output_type": "stream",
     "text": [
      "El numero de estudiantes es: 4 \n",
      "La suma de sus notas es: 10 \n",
      "Su promedio fue: 2.5\n"
     ]
    }
   ],
   "source": [
    "x,y,z = Notas([1,2,3,4])\n",
    "print('El numero de estudiantes es:', x ,'\\nLa suma de sus notas es:',y,'\\nSu promedio fue:',z)"
   ]
  },
  {
   "attachments": {},
   "cell_type": "markdown",
   "metadata": {},
   "source": [
    "**Ejercicio:**\n",
    "--\n",
    "Crear una funcion que le solicite un valor en pantalla y le devuelva el valor neto, el valor con iva y el valor del iva. Usar como valor de IVA el 12\\%"
   ]
  },
  {
   "cell_type": "code",
   "execution_count": 23,
   "metadata": {},
   "outputs": [],
   "source": [
    "def flujos():\n",
    "    iva = .12\n",
    "    valor_neto = float(input('Ingrese el valor neto: '))\n",
    "    x = valor_neto * iva\n",
    "    return valor_neto, x + valor_neto, x"
   ]
  },
  {
   "cell_type": "code",
   "execution_count": 24,
   "metadata": {},
   "outputs": [
    {
     "data": {
      "text/plain": [
       "(10.0, 11.2, 1.2)"
      ]
     },
     "execution_count": 24,
     "metadata": {},
     "output_type": "execute_result"
    }
   ],
   "source": [
    "flujos()"
   ]
  },
  {
   "cell_type": "markdown",
   "metadata": {},
   "source": [
    "## Lambda"
   ]
  },
  {
   "cell_type": "markdown",
   "metadata": {},
   "source": [
    "$$\n",
    "f(x,y) = x + y\n",
    "$$"
   ]
  },
  {
   "cell_type": "code",
   "execution_count": 25,
   "metadata": {},
   "outputs": [],
   "source": [
    "f = lambda x,y: x+y"
   ]
  },
  {
   "cell_type": "code",
   "execution_count": 26,
   "metadata": {},
   "outputs": [
    {
     "data": {
      "text/plain": [
       "5"
      ]
     },
     "execution_count": 26,
     "metadata": {},
     "output_type": "execute_result"
    }
   ],
   "source": [
    "f(2,3)"
   ]
  },
  {
   "cell_type": "code",
   "execution_count": 27,
   "metadata": {},
   "outputs": [],
   "source": [
    "# funcion para invertir una palabra\n",
    "invertir = lambda palabra: palabra[::-1]"
   ]
  },
  {
   "cell_type": "code",
   "execution_count": 28,
   "metadata": {},
   "outputs": [
    {
     "data": {
      "text/plain": [
       "'aloh'"
      ]
     },
     "execution_count": 28,
     "metadata": {},
     "output_type": "execute_result"
    }
   ],
   "source": [
    "invertir(\"hola\")"
   ]
  },
  {
   "cell_type": "code",
   "execution_count": 29,
   "metadata": {},
   "outputs": [
    {
     "data": {
      "text/plain": [
       "[4, 3, 2, 1]"
      ]
     },
     "execution_count": 29,
     "metadata": {},
     "output_type": "execute_result"
    }
   ],
   "source": [
    "invertir([1,2,3,4])"
   ]
  },
  {
   "cell_type": "code",
   "execution_count": 30,
   "metadata": {},
   "outputs": [
    {
     "data": {
      "text/plain": [
       "[4, 3, 2, 1]"
      ]
     },
     "execution_count": 30,
     "metadata": {},
     "output_type": "execute_result"
    }
   ],
   "source": [
    "lista = [1,2,3,4]\n",
    "lista[::-1]"
   ]
  },
  {
   "cell_type": "markdown",
   "metadata": {},
   "source": [
    "**Ejercicio:**\n",
    "Reescribir la función `saludo()` usando la sentencia `lambda`"
   ]
  },
  {
   "cell_type": "code",
   "execution_count": 31,
   "metadata": {},
   "outputs": [
    {
     "name": "stdout",
     "output_type": "stream",
     "text": [
      "Hola Fer 😙\n"
     ]
    }
   ],
   "source": [
    "hola = lambda nombre: print('Hola',nombre,'\\N{kissing face with smiling eyes}')\n",
    "hola('Fer')"
   ]
  },
  {
   "cell_type": "markdown",
   "metadata": {},
   "source": [
    "## Modulos\n",
    "\n",
    "Se utilizan para crear un \"paquete\" que contenga funciones útiles y reutilizables.\n",
    "\n",
    "Para crear, debemos generar un script con el nombre del módulo y la terminación .py.\n",
    "\n",
    "Si despues de crear un modulo, lo has importado y procedes a modificarlo, no te olvides de usar `import_reload()` para actualizar el módulo. Caso contrario puedes reiniciar el kernel en jupyter o reiniciar el interprete si estás en la terminal. Para utilizar la función `import_reload()`, debes antes importar libreria importlib, para ello ejecutas el comando `import importlib`"
   ]
  },
  {
   "cell_type": "code",
   "execution_count": 32,
   "metadata": {},
   "outputs": [],
   "source": [
    "# Numeros de Fibonacci\n",
    "# Escribir en pantalla la serie de Fibonacci\n",
    "def fib(n):    \n",
    "    a, b = 0, 1\n",
    "    while a < n:\n",
    "        print(a, end=' ')\n",
    "        a, b = b, a+b\n",
    "    print()\n",
    "\n",
    "# Devuelve (retorna) la serie de Fibonacci\n",
    "def fib2(n):   \n",
    "    result = []\n",
    "    a, b = 0, 1\n",
    "    while a < n:\n",
    "        result.append(a)\n",
    "        a, b = b, a+b\n",
    "    return result"
   ]
  },
  {
   "cell_type": "code",
   "execution_count": 35,
   "metadata": {},
   "outputs": [
    {
     "name": "stdout",
     "output_type": "stream",
     "text": [
      "0 1 1 2 3 5 8 \n"
     ]
    }
   ],
   "source": [
    "import fibo\n",
    "\n",
    "fibo.fib(10)"
   ]
  },
  {
   "cell_type": "code",
   "execution_count": 36,
   "metadata": {},
   "outputs": [
    {
     "data": {
      "text/plain": [
       "[0, 1, 1, 2, 3, 5, 8]"
      ]
     },
     "execution_count": 36,
     "metadata": {},
     "output_type": "execute_result"
    }
   ],
   "source": [
    "fib2 = fibo.fib2\n",
    "fib2(10)"
   ]
  },
  {
   "cell_type": "code",
   "execution_count": 37,
   "metadata": {},
   "outputs": [
    {
     "data": {
      "text/plain": [
       "[0, 1, 1, 2, 3, 5, 8]"
      ]
     },
     "execution_count": 37,
     "metadata": {},
     "output_type": "execute_result"
    }
   ],
   "source": [
    "import fibo as sf\n",
    "sf.fib2(10)"
   ]
  },
  {
   "cell_type": "code",
   "execution_count": 38,
   "metadata": {},
   "outputs": [
    {
     "name": "stdout",
     "output_type": "stream",
     "text": [
      "0 1 1 2 3 5 8 \n"
     ]
    }
   ],
   "source": [
    "from fibo import fib\n",
    "fib(10)"
   ]
  },
  {
   "cell_type": "code",
   "execution_count": 39,
   "metadata": {},
   "outputs": [
    {
     "name": "stdout",
     "output_type": "stream",
     "text": [
      "0 1 1 2 3 5 8 \n"
     ]
    },
    {
     "data": {
      "text/plain": [
       "[0, 1, 1, 2, 3, 5, 8]"
      ]
     },
     "execution_count": 39,
     "metadata": {},
     "output_type": "execute_result"
    }
   ],
   "source": [
    "from fibo import *\n",
    "fib(10)\n",
    "fib2(10)"
   ]
  },
  {
   "cell_type": "code",
   "execution_count": 40,
   "metadata": {},
   "outputs": [
    {
     "name": "stdout",
     "output_type": "stream",
     "text": [
      "0 1 1 2 3 5 8 \n"
     ]
    }
   ],
   "source": [
    "from fibo import fib as fibonacci_print\n",
    "fibonacci_print(10)"
   ]
  },
  {
   "cell_type": "code",
   "execution_count": 41,
   "metadata": {},
   "outputs": [
    {
     "ename": "AssertionError",
     "evalue": "x deberia ser 'hola'",
     "output_type": "error",
     "traceback": [
      "\u001b[0;31m---------------------------------------------------------------------------\u001b[0m",
      "\u001b[0;31mAssertionError\u001b[0m                            Traceback (most recent call last)",
      "Cell \u001b[0;32mIn[41], line 4\u001b[0m\n\u001b[1;32m      1\u001b[0m x \u001b[39m=\u001b[39m \u001b[39m\"\u001b[39m\u001b[39mhola\u001b[39m\u001b[39m\"\u001b[39m\n\u001b[1;32m      3\u001b[0m \u001b[39m# si la condicion es falsa nos retorna un error de asercion\u001b[39;00m\n\u001b[0;32m----> 4\u001b[0m \u001b[39massert\u001b[39;00m x \u001b[39m==\u001b[39m \u001b[39m\"\u001b[39m\u001b[39mchao\u001b[39m\u001b[39m\"\u001b[39m, \u001b[39m\"\u001b[39m\u001b[39mx deberia ser \u001b[39m\u001b[39m'\u001b[39m\u001b[39mhola\u001b[39m\u001b[39m'\u001b[39m\u001b[39m\"\u001b[39m\n",
      "\u001b[0;31mAssertionError\u001b[0m: x deberia ser 'hola'"
     ]
    }
   ],
   "source": [
    "x = \"hola\"\n",
    "\n",
    "# si la condicion es falsa nos retorna un error de asercion\n",
    "assert x == \"chao\", \"x deberia ser 'hola'\""
   ]
  },
  {
   "cell_type": "code",
   "execution_count": 42,
   "metadata": {},
   "outputs": [
    {
     "name": "stdout",
     "output_type": "stream",
     "text": [
      "Saludo\n"
     ]
    }
   ],
   "source": [
    "def hola():\n",
    "  '''Saludo'''\n",
    "  print('hola :3')\n",
    "    \n",
    "print(hola.__doc__)"
   ]
  },
  {
   "attachments": {},
   "cell_type": "markdown",
   "metadata": {},
   "source": [
    "## Deber\n",
    "\n",
    "1. Crear una función que acepte como argumento una lista de productos que vamos a comprar en el Supermaxi. Cada producto es a su vez una lista que contiene el ID del producto, el nombre del producto, la cantidad de unidades del producto que se va ha comprar y el precio sin iva. La función debe retornar como resultado una tabla del siguiente estilo:\n",
    "\n",
    "| ID | Producto | Cantidad | Valor |\n",
    "|----|----------|----------|-------|\n",
    "| 1  | Leche    | 1        | 1.0   |\n",
    "|... |...       | ...      | ...   |\n",
    "| Total sin IVA|| 10       | 200   |\n",
    "| IVA |         |          | 24    |\n",
    "|Total con IVA ||          |224    |"
   ]
  },
  {
   "cell_type": "code",
   "execution_count": 43,
   "metadata": {},
   "outputs": [
    {
     "name": "stdout",
     "output_type": "stream",
     "text": [
      "ID  Producto        Cantidad Valor\n",
      "-----------------------------------\n",
      "001 Atun                   3 12.00\n",
      "002 Fideo                  5 40.00\n",
      "003 Leche                  7 14.00\n",
      "-----------------------------------\n",
      "Total sin iva:            15 66.00\n",
      "iva:                          7.92\n",
      "-----------------------------------\n",
      "Total con iva:               73.92\n"
     ]
    }
   ],
   "source": [
    "def productos(list):\n",
    "    print(\"{:3} {:15} {:8} {:>5}\".format('ID','Producto','Cantidad','Valor'))\n",
    "    print('{:->35}'.format(''))\n",
    "    total_sin_iva = 0\n",
    "    for i in range(len(list)):\n",
    "        total_sin_iva += list[i][2]*lista[i][3]\n",
    "        print(\"{:03d} {:15} {:8d} {:5.2f}\".format(list[i][0],list[i][1],list[i][2],list[i][2]*list[i][3]))\n",
    "    iva = total_sin_iva*0.12\n",
    "    total_con_iva = total_sin_iva*1.12\n",
    "    print('{:->35}'.format(''))\n",
    "    print('{:19} {:8d} {:5.2f}'.format('Total sin iva:',sum(list[i][2] for i in range(len(list))),total_sin_iva))\n",
    "    print('{:28} {:5.2f}'.format('iva: ',iva))\n",
    "    print('{:->35}'.format(''))\n",
    "    print('{:28} {:5.2f}'.format('Total con iva: ',total_con_iva))\n",
    "\n",
    "lista = [[1, 'Atun', 3, 4], [2, 'Fideo', 5, 8],[3, 'Leche', 7, 2]]\n",
    "productos(lista)\n"
   ]
  },
  {
   "cell_type": "code",
   "execution_count": null,
   "metadata": {},
   "outputs": [],
   "source": []
  }
 ],
 "metadata": {
  "celltoolbar": "Aucun(e)",
  "kernelspec": {
   "display_name": "Python 3",
   "language": "python",
   "name": "python3"
  },
  "language_info": {
   "codemirror_mode": {
    "name": "ipython",
    "version": 3
   },
   "file_extension": ".py",
   "mimetype": "text/x-python",
   "name": "python",
   "nbconvert_exporter": "python",
   "pygments_lexer": "ipython3",
   "version": "3.11.6"
  }
 },
 "nbformat": 4,
 "nbformat_minor": 4
}
