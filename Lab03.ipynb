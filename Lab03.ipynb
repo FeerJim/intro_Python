{
 "cells": [
  {
   "cell_type": "markdown",
   "metadata": {},
   "source": [
    "# Capítulo 3. Funciones y módulos\n",
    "## Def\n",
    "\n",
    "La sentencia `def` nos permite crear objetos, para ello, escribimos `def`, el nombre de la funcion y los parametros:"
   ]
  },
  {
   "cell_type": "code",
   "execution_count": null,
   "metadata": {
    "slideshow": {
     "slide_type": "slide"
    }
   },
   "outputs": [],
   "source": [
    "def saludo():\n",
    "    nombre = input('Ingrese su nombre: ')\n",
    "    print(\"Hola\", nombre, \"\\N{winking face}\")"
   ]
  },
  {
   "cell_type": "code",
   "execution_count": null,
   "metadata": {
    "slideshow": {
     "slide_type": "-"
    }
   },
   "outputs": [],
   "source": [
    "saludo()"
   ]
  },
  {
   "cell_type": "code",
   "execution_count": null,
   "metadata": {},
   "outputs": [],
   "source": [
    "# Funcion suma\n",
    "def suma(x,y):\n",
    "    return x + y"
   ]
  },
  {
   "cell_type": "code",
   "execution_count": null,
   "metadata": {},
   "outputs": [],
   "source": [
    "suma(2,3)"
   ]
  },
  {
   "cell_type": "code",
   "execution_count": null,
   "metadata": {},
   "outputs": [],
   "source": [
    "suma(x = 3, y = 2)"
   ]
  },
  {
   "cell_type": "code",
   "execution_count": null,
   "metadata": {},
   "outputs": [],
   "source": [
    "suma(y = 3, x = 2)"
   ]
  },
  {
   "cell_type": "code",
   "execution_count": null,
   "metadata": {},
   "outputs": [],
   "source": [
    "# Funcion sin argumentos\n",
    "def saludo(nombre = None):\n",
    "    if nombre == None:\n",
    "        nombre = \"Anonimo\"\n",
    "    print(\"Hola\", nombre, \"\\N{grinning face}\")"
   ]
  },
  {
   "cell_type": "code",
   "execution_count": null,
   "metadata": {},
   "outputs": [],
   "source": [
    "saludo(1)"
   ]
  },
  {
   "cell_type": "code",
   "execution_count": null,
   "metadata": {},
   "outputs": [],
   "source": [
    "def saludo(nombre = None):\n",
    "    if nombre == None or type(nombre) != str:\n",
    "        print(\"Ingrese un nombre por favor.\")\n",
    "        return\n",
    "    print(\"Hola\", nombre, \"\\N{kissing face}\")"
   ]
  },
  {
   "cell_type": "code",
   "execution_count": null,
   "metadata": {},
   "outputs": [],
   "source": [
    "saludo()"
   ]
  },
  {
   "cell_type": "code",
   "execution_count": null,
   "metadata": {},
   "outputs": [],
   "source": [
    "saludo(1)"
   ]
  },
  {
   "cell_type": "code",
   "execution_count": null,
   "metadata": {},
   "outputs": [],
   "source": [
    "saludo('Alice')"
   ]
  },
  {
   "attachments": {},
   "cell_type": "markdown",
   "metadata": {},
   "source": [
    "**Ejercicio:**\n",
    "--\n",
    "Cree la funcion division"
   ]
  },
  {
   "cell_type": "code",
   "execution_count": null,
   "metadata": {},
   "outputs": [],
   "source": [
    "def division(numerador,denominador):\n",
    "    if denominador == 0:\n",
    "        print(\"Error: no se puede dividir para cero ! :c\")\n",
    "        print(\"La funcion actual es: division(numerador,denominador), intenta con otro valor del \\'denominador\\'\")\n",
    "        return\n",
    "    return numerador/denominador"
   ]
  },
  {
   "cell_type": "code",
   "execution_count": null,
   "metadata": {},
   "outputs": [],
   "source": [
    "division(1,2)"
   ]
  },
  {
   "attachments": {},
   "cell_type": "markdown",
   "metadata": {},
   "source": [
    "## Ejemplo\n",
    "\n",
    "Función para imprimir todos los nombres que se ingresen como argumento."
   ]
  },
  {
   "cell_type": "code",
   "execution_count": null,
   "metadata": {},
   "outputs": [],
   "source": [
    "# Argumentos no determinados\n",
    "def estudiantes(*nombres):\n",
    "    print('Los estudiantes del curso son:')\n",
    "    for i in nombres:\n",
    "        print(i)"
   ]
  },
  {
   "cell_type": "code",
   "execution_count": null,
   "metadata": {},
   "outputs": [],
   "source": [
    "estudiantes('Fer','Andres','Cris')"
   ]
  },
  {
   "cell_type": "code",
   "execution_count": null,
   "metadata": {},
   "outputs": [],
   "source": [
    "# Argumentos con una clave\n",
    "def estudiante(**nombre):\n",
    "    print(nombre)"
   ]
  },
  {
   "cell_type": "code",
   "execution_count": null,
   "metadata": {},
   "outputs": [],
   "source": [
    "estudiante(ID = 1, nombre = \"Fer\", apellido = 'J.', edad = 18)"
   ]
  },
  {
   "cell_type": "code",
   "execution_count": null,
   "metadata": {},
   "outputs": [],
   "source": [
    "def estudiante(**nombre):\n",
    "    #print('Los datos del estudiante {} son: '.format(next(iter(nombre.values()))))\n",
    "    print('Los datos del estudiante {} son: '.format(nombre[list(nombre.keys())[1]]))\n",
    "    for i in nombre:        \n",
    "        print(' ',i, ':', nombre[i])"
   ]
  },
  {
   "cell_type": "code",
   "execution_count": null,
   "metadata": {},
   "outputs": [],
   "source": [
    "estudiante(ID = 1, nombre = \"Fer\", apellido = 'J.', edad = 18)"
   ]
  },
  {
   "cell_type": "code",
   "execution_count": null,
   "metadata": {},
   "outputs": [],
   "source": [
    "# Multiples retornos\n",
    "def Notas(lista):\n",
    "    contar = len(lista)\n",
    "    total = sum(lista)\n",
    "    promedio = total / contar\n",
    "    return contar,total,promedio"
   ]
  },
  {
   "cell_type": "code",
   "execution_count": null,
   "metadata": {},
   "outputs": [],
   "source": [
    "x,y,z = Notas([1,2,3,4])\n",
    "print('El numero de estudiantes es:', x ,'\\nLa suma de sus notas es:',y,'\\nSu promedio fue:',z)"
   ]
  },
  {
   "attachments": {},
   "cell_type": "markdown",
   "metadata": {},
   "source": [
    "**Ejercicio:**\n",
    "--\n",
    "Crear una funcion que le solicite un valor en pantalla y le devuelva el valor neto, el valor con iva y el valor del iva. Usar como valor de IVA el 12\\%"
   ]
  },
  {
   "cell_type": "code",
   "execution_count": null,
   "metadata": {},
   "outputs": [],
   "source": [
    "def flujos():\n",
    "    iva = .12\n",
    "    valor_neto = float(input('Ingrese el valor neto: '))\n",
    "    x = valor_neto * iva\n",
    "    return valor_neto, x + valor_neto, x"
   ]
  },
  {
   "cell_type": "code",
   "execution_count": null,
   "metadata": {},
   "outputs": [],
   "source": [
    "flujos()"
   ]
  },
  {
   "cell_type": "markdown",
   "metadata": {},
   "source": [
    "## Lambda"
   ]
  },
  {
   "cell_type": "markdown",
   "metadata": {},
   "source": [
    "$$\n",
    "f(x,y) = x + y\n",
    "$$"
   ]
  },
  {
   "cell_type": "code",
   "execution_count": null,
   "metadata": {},
   "outputs": [],
   "source": [
    "f = lambda x,y: x+y"
   ]
  },
  {
   "cell_type": "code",
   "execution_count": null,
   "metadata": {},
   "outputs": [],
   "source": [
    "f(2,3)"
   ]
  },
  {
   "cell_type": "code",
   "execution_count": null,
   "metadata": {},
   "outputs": [],
   "source": [
    "# funcion para invertir una palabra\n",
    "invertir = lambda palabra: palabra[::-1]"
   ]
  },
  {
   "cell_type": "code",
   "execution_count": null,
   "metadata": {},
   "outputs": [],
   "source": [
    "invertir(\"hola\")"
   ]
  },
  {
   "cell_type": "code",
   "execution_count": null,
   "metadata": {},
   "outputs": [],
   "source": [
    "invertir([1,2,3,4])"
   ]
  },
  {
   "cell_type": "code",
   "execution_count": null,
   "metadata": {},
   "outputs": [],
   "source": [
    "lista = [1,2,3,4]\n",
    "lista[::-1]"
   ]
  },
  {
   "cell_type": "markdown",
   "metadata": {},
   "source": [
    "**Ejercicio:**\n",
    "Reescribir la función `saludo()` usando la sentencia `lambda`"
   ]
  },
  {
   "cell_type": "code",
   "execution_count": null,
   "metadata": {},
   "outputs": [],
   "source": [
    "hola = lambda nombre: print('Hola',nombre,'\\N{kissing face with smiling eyes}')\n",
    "hola('Fer')"
   ]
  },
  {
   "cell_type": "markdown",
   "metadata": {},
   "source": [
    "## Modulos\n",
    "\n",
    "Se utilizan para crear un \"paquete\" que contenga funciones útiles y reutilizables.\n",
    "\n",
    "Para crear, debemos generar un script con el nombre del módulo y la terminación .py.\n",
    "\n",
    "Si despues de crear un modulo, lo has importado y procedes a modificarlo, no te olvides de usar `import_reload()` para actualizar el módulo. Caso contrario puedes reiniciar el kernel en jupyter o reiniciar el interprete si estás en la terminal. Para utilizar la función `import_reload()`, debes antes importar libreria importlib, para ello ejecutas el comando `import importlib`"
   ]
  },
  {
   "cell_type": "code",
   "execution_count": null,
   "metadata": {},
   "outputs": [],
   "source": [
    "# Numeros de Fibonacci\n",
    "# Escribir en pantalla la serie de Fibonacci\n",
    "def fib(n):    \n",
    "    a, b = 0, 1\n",
    "    while a < n:\n",
    "        print(a, end=' ')\n",
    "        a, b = b, a+b\n",
    "    print()\n",
    "\n",
    "# Devuelve (retorna) la serie de Fibonacci\n",
    "def fib2(n):   \n",
    "    result = []\n",
    "    a, b = 0, 1\n",
    "    while a < n:\n",
    "        result.append(a)\n",
    "        a, b = b, a+b\n",
    "    return result"
   ]
  },
  {
   "cell_type": "code",
   "execution_count": null,
   "metadata": {},
   "outputs": [],
   "source": [
    "import fibo\n",
    "\n",
    "fibo.fib(10)"
   ]
  },
  {
   "cell_type": "code",
   "execution_count": null,
   "metadata": {},
   "outputs": [],
   "source": [
    "fib2 = fibo.fib2\n",
    "fib2(10)"
   ]
  },
  {
   "cell_type": "code",
   "execution_count": null,
   "metadata": {},
   "outputs": [],
   "source": [
    "import fibo as sf\n",
    "sf.fib2(10)"
   ]
  },
  {
   "cell_type": "code",
   "execution_count": null,
   "metadata": {},
   "outputs": [],
   "source": [
    "from fibo import fib\n",
    "fib(10)"
   ]
  },
  {
   "cell_type": "code",
   "execution_count": null,
   "metadata": {},
   "outputs": [],
   "source": [
    "from fibo import *\n",
    "fib(10)\n",
    "fib2(10)"
   ]
  },
  {
   "cell_type": "code",
   "execution_count": null,
   "metadata": {},
   "outputs": [],
   "source": [
    "from fibo import fib as fibonacci_print\n",
    "fibonacci_print(10)"
   ]
  },
  {
   "cell_type": "code",
   "execution_count": null,
   "metadata": {},
   "outputs": [],
   "source": [
    "x = \"hola\"\n",
    "\n",
    "# si la condicion es falsa nos retorna un error de asercion\n",
    "assert x == \"chao\", \"x deberia ser 'hola'\""
   ]
  },
  {
   "cell_type": "code",
   "execution_count": null,
   "metadata": {},
   "outputs": [],
   "source": [
    "def hola():\n",
    "  '''Saludo'''\n",
    "  print('hola :3')\n",
    "    \n",
    "print(hola.__doc__)"
   ]
  },
  {
   "attachments": {},
   "cell_type": "markdown",
   "metadata": {},
   "source": [
    "## Deber\n",
    "\n",
    "1. Crear una función que acepte como argumento una lista de productos que vamos a comprar en el Supermaxi. Cada producto es a su vez una lista que contiene el ID del producto, el nombre del producto, la cantidad de unidades del producto que se va ha comprar y el precio sin iva. La función debe retornar como resultado una tabla del siguiente estilo:\n",
    "\n",
    "| ID | Producto | Cantidad | Valor |\n",
    "|----|----------|----------|-------|\n",
    "| 1  | Leche    | 1        | 1.0   |\n",
    "|... |...       | ...      | ...   |\n",
    "| Total sin IVA|| 10       | 200   |\n",
    "| IVA |         |          | 24    |\n",
    "|Total con IVA ||          |224    |"
   ]
  },
  {
   "cell_type": "code",
   "execution_count": null,
   "metadata": {},
   "outputs": [],
   "source": []
  },
  {
   "cell_type": "code",
   "execution_count": null,
   "metadata": {},
   "outputs": [],
   "source": []
  }
 ],
 "metadata": {
  "celltoolbar": "Aucun(e)",
  "kernelspec": {
   "display_name": "Python 3",
   "language": "python",
   "name": "python3"
  },
  "language_info": {
   "codemirror_mode": {
    "name": "ipython",
    "version": 3
   },
   "file_extension": ".py",
   "mimetype": "text/x-python",
   "name": "python",
   "nbconvert_exporter": "python",
   "pygments_lexer": "ipython3",
   "version": "3.11.6"
  }
 },
 "nbformat": 4,
 "nbformat_minor": 4
}
