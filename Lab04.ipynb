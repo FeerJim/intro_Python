{
 "cells": [
  {
   "cell_type": "markdown",
   "metadata": {},
   "source": [
    "# Capítulo 3: Módulos-Parte II\n",
    "### Paquetes o Librerías\n",
    "\n",
    "Un paquete puede contener diferentes submódulos, de tal forma que paquetes diferentes pueden contener modulos con nombres similares, pero definiciones diferentes. para evitar que directorios con nombres en común oculten involuntariamente módulos válidos. \n",
    "\n",
    "Cuando creamos los paquetes, el archivo `__init__.py`. Este archivo puede estar vacío, sin embargo si queremos inicializar algún paquete o conjunto de varialbes en nuestros submódulos, podemos hacerlo en dicho archivo.\n",
    "\n",
    "Cuando existen diferentes subpaquetes dentro de un paquete, uno puede importar de forma directa dichos módulos con la sintaxis `nombre_paquete.nombre_subpaquete.nombre_modulo`. De forma similar podemos usar `from nombre_paquete.nombre_subpaquete import nombre_modulo`. Inclusive, si conocemos el nombre de la función que queremos importar podemos usar `form nombre_paquete.nombre_subpaquete.nombre_modulo import nombre_funcion`.\n",
    "\n",
    "**Nota:** cuando utilizamos la sintaxis `import item.subitem.subsubitem`, el último subsubítem importado debe ser un paquete o módulo, si es una clase, función o variable nos generará un error de tipo importación `ImportError`.\n",
    "\n",
    "**Nota para los más avanzados:** En el caso que definamos la lista `__all__` en el archivo `__init__.py`, podemos designar que funciones, clases o variables se importan de dicho módulo, para ello usamos la sentencia `__all__ = ['funcion1','clase1','variable1']`."
   ]
  },
  {
   "cell_type": "markdown",
   "metadata": {},
   "source": [
    "### Porqué Importar librerías ... ???\n",
    "Las librerías nos ayudan a utilizar funciones, para facilitarnos el trabajo.\n",
    "\n",
    "Las librerías que usemos dependen de a que nos dediquemos. Algunas librerías populares son:\n",
    "1. **pygame**: crear aplicaciones multimedia (videojuegos, imágenes, animaciones, música, etc.)\n",
    "2. **pillow o pil**: para trabajar con imágenes de forma sencilla.\n",
    "3. **sqlalchemy**: para los que quieren utilizar bases de datos (en especial con sql).\n",
    "4. **numpy**: para el álgebra lineal, matrices, transformada de Fourier.\n",
    "5. **matplotlib**: nos permite crear visualizaciones estáticas, animadas e interactivas en Python.\n",
    "\n",
    "### Instalación de paquetes usando pip\n",
    "Para instalar paquetes debemos ejecutar `pip install nombre_paquete` y si queremos desinstalarlo ejecutamos `pip uninstall nombre_paquete`\n",
    "\n",
    "### Ejemplo 1:\n",
    "Resolver un sistema lineal."
   ]
  },
  {
   "cell_type": "code",
   "execution_count": 1,
   "metadata": {},
   "outputs": [],
   "source": [
    "import numpy as np\n",
    "# Crear un vector x usando la libreria numpy\n",
    "x = np.array([1,2,3,4])"
   ]
  },
  {
   "cell_type": "code",
   "execution_count": 2,
   "metadata": {},
   "outputs": [
    {
     "data": {
      "text/plain": [
       "array([1, 2, 3, 4])"
      ]
     },
     "execution_count": 2,
     "metadata": {},
     "output_type": "execute_result"
    }
   ],
   "source": [
    "x"
   ]
  },
  {
   "cell_type": "code",
   "execution_count": 4,
   "metadata": {},
   "outputs": [
    {
     "data": {
      "text/plain": [
       "array(1)"
      ]
     },
     "execution_count": 4,
     "metadata": {},
     "output_type": "execute_result"
    }
   ],
   "source": [
    "np.array(1)"
   ]
  },
  {
   "cell_type": "code",
   "execution_count": 5,
   "metadata": {},
   "outputs": [],
   "source": [
    "# Crear un vector de unos\n",
    "N = 50 # Dimension del vector\n",
    "b = 2*np.ones(N)"
   ]
  },
  {
   "cell_type": "code",
   "execution_count": 6,
   "metadata": {},
   "outputs": [
    {
     "name": "stdout",
     "output_type": "stream",
     "text": [
      "2.0 2.0 50\n"
     ]
    }
   ],
   "source": [
    "print(min(b),max(b),len(b))"
   ]
  },
  {
   "cell_type": "code",
   "execution_count": 7,
   "metadata": {},
   "outputs": [],
   "source": [
    "# Crear un vector aleatorio uniforme (0,1) de dimensión N\n",
    "b = np.random.random(N)"
   ]
  },
  {
   "cell_type": "code",
   "execution_count": 8,
   "metadata": {},
   "outputs": [
    {
     "name": "stdout",
     "output_type": "stream",
     "text": [
      "0.05927441066785699 0.9799298372611748 50\n"
     ]
    }
   ],
   "source": [
    "print(min(b),max(b),len(b))"
   ]
  },
  {
   "cell_type": "code",
   "execution_count": 9,
   "metadata": {},
   "outputs": [],
   "source": [
    "# Crear tres vectores aleatorios de vectores aleatorios uniformes (0,1) de dimensión 4. Matriz\n",
    "C = np.random.random((3,4))"
   ]
  },
  {
   "cell_type": "code",
   "execution_count": 10,
   "metadata": {},
   "outputs": [
    {
     "data": {
      "text/plain": [
       "array([[0.42499122, 0.58504074, 0.40531408, 0.62704626],\n",
       "       [0.97926047, 0.63564886, 0.37284911, 0.28344495],\n",
       "       [0.83109477, 0.22233318, 0.69718653, 0.5302173 ]])"
      ]
     },
     "execution_count": 10,
     "metadata": {},
     "output_type": "execute_result"
    }
   ],
   "source": [
    "C"
   ]
  },
  {
   "cell_type": "code",
   "execution_count": 11,
   "metadata": {},
   "outputs": [
    {
     "name": "stdout",
     "output_type": "stream",
     "text": [
      "[5.31919998 4.50288534 5.48818991]\n"
     ]
    }
   ],
   "source": [
    "# Producto de una matriz por un vector usando numpy\n",
    "y = np.dot(C,x)\n",
    "print(y)"
   ]
  },
  {
   "cell_type": "code",
   "execution_count": 12,
   "metadata": {},
   "outputs": [
    {
     "name": "stdout",
     "output_type": "stream",
     "text": [
      "[[4.0847846  4.0847846  4.0847846 ]\n",
      " [4.54240679 4.54240679 4.54240679]\n",
      " [4.56166356 4.56166356 4.56166356]]\n"
     ]
    }
   ],
   "source": [
    "# Producto de dos matrices\n",
    "D = 2*np.ones((4,3))\n",
    "A = np.dot(C,D)\n",
    "print(A)"
   ]
  },
  {
   "cell_type": "code",
   "execution_count": 13,
   "metadata": {},
   "outputs": [
    {
     "name": "stdout",
     "output_type": "stream",
     "text": [
      "[[4.0847846  4.0847846  4.0847846 ]\n",
      " [4.54240679 4.54240679 4.54240679]\n",
      " [4.56166356 4.56166356 4.56166356]]\n"
     ]
    }
   ],
   "source": [
    "# Producto de dos matrices componente a componente\n",
    "D = np.ones((3,3))\n",
    "B = np.multiply(A,D)\n",
    "print(B)"
   ]
  },
  {
   "cell_type": "code",
   "execution_count": 14,
   "metadata": {},
   "outputs": [
    {
     "data": {
      "text/plain": [
       "array([[4.0847846 , 4.0847846 , 4.0847846 ],\n",
       "       [4.54240679, 4.54240679, 4.54240679],\n",
       "       [4.56166356, 4.56166356, 4.56166356]])"
      ]
     },
     "execution_count": 14,
     "metadata": {},
     "output_type": "execute_result"
    }
   ],
   "source": [
    "A * D"
   ]
  },
  {
   "cell_type": "code",
   "execution_count": 16,
   "metadata": {},
   "outputs": [
    {
     "data": {
      "text/plain": [
       "(3, 4)"
      ]
     },
     "execution_count": 16,
     "metadata": {},
     "output_type": "execute_result"
    }
   ],
   "source": [
    "np.shape(C)"
   ]
  },
  {
   "cell_type": "code",
   "execution_count": 39,
   "metadata": {},
   "outputs": [
    {
     "name": "stdout",
     "output_type": "stream",
     "text": [
      "[[ 2. -1.  0. ...  0.  0.  0.]\n",
      " [ 0.  2. -1. ...  0.  0.  0.]\n",
      " [ 1.  0.  2. ...  0.  0.  0.]\n",
      " ...\n",
      " [ 0.  0.  0. ...  2. -1.  0.]\n",
      " [ 0.  0.  0. ...  0.  2. -1.]\n",
      " [ 0.  0.  0. ...  1.  0.  2.]]\n"
     ]
    }
   ],
   "source": [
    "from scipy import sparse,linalg\n",
    "# Matriz sparse de dimension N\n",
    "A = sparse.diags([1,2,-1],[-2,0,1], shape=(N,N)).toarray()\n",
    "print(A)"
   ]
  },
  {
   "cell_type": "code",
   "execution_count": 21,
   "metadata": {},
   "outputs": [],
   "source": [
    "# Extraer las dimensiones de una matriz\n",
    "n,m = np.shape(A)"
   ]
  },
  {
   "cell_type": "code",
   "execution_count": 22,
   "metadata": {},
   "outputs": [
    {
     "name": "stdout",
     "output_type": "stream",
     "text": [
      "n: 50 \n",
      "m: 50\n"
     ]
    }
   ],
   "source": [
    "print('n:',n , '\\nm:',m)"
   ]
  },
  {
   "cell_type": "code",
   "execution_count": 40,
   "metadata": {},
   "outputs": [],
   "source": [
    "# Resolver el sistema Ax=b usando el solver por defecto\n",
    "b = np.ones(n)\n",
    "x = linalg.solve(A,b)"
   ]
  },
  {
   "cell_type": "code",
   "execution_count": 41,
   "metadata": {},
   "outputs": [
    {
     "name": "stdout",
     "output_type": "stream",
     "text": [
      "[0.82948354 0.65896708 0.31793416 0.46535187 0.58967082 0.4972758\n",
      " 0.45990347 0.50947777 0.51623133 0.49236614 0.49421004 0.50465141\n",
      " 0.50166897 0.49754797 0.49974736 0.50116368 0.49987533 0.49949802\n",
      " 0.50015972 0.50019476 0.49988755 0.49993481 0.50006439 0.50001632\n",
      " 0.49996745 0.49999929 0.5000149  0.49999725 0.49999379 0.50000249\n",
      " 0.50000222 0.49999824 0.49999896 0.50000015 0.49999855 0.49999606\n",
      " 0.49999227 0.49998308 0.49996222 0.4999167  0.49981648 0.49959519\n",
      " 0.49910707 0.49803063 0.49565645 0.49041998 0.4788706  0.45339765\n",
      " 0.39721529 0.27330117]\n"
     ]
    }
   ],
   "source": [
    "print(x)"
   ]
  },
  {
   "cell_type": "code",
   "execution_count": 42,
   "metadata": {},
   "outputs": [
    {
     "data": {
      "text/plain": [
       "50"
      ]
     },
     "execution_count": 42,
     "metadata": {},
     "output_type": "execute_result"
    }
   ],
   "source": [
    "len(x)"
   ]
  },
  {
   "cell_type": "code",
   "execution_count": 43,
   "metadata": {},
   "outputs": [
    {
     "data": {
      "text/plain": [
       "0.27330117383495145"
      ]
     },
     "execution_count": 43,
     "metadata": {},
     "output_type": "execute_result"
    }
   ],
   "source": [
    "min(x)"
   ]
  },
  {
   "cell_type": "markdown",
   "metadata": {},
   "source": [
    "$$\n",
    "Ax = b,\n",
    "\\qquad A = LU,\n",
    "\\qquad LU x = b\n",
    "$$\n",
    "Tomando $y = Ux$, $Ly = b$"
   ]
  },
  {
   "cell_type": "code",
   "execution_count": 44,
   "metadata": {},
   "outputs": [],
   "source": [
    "# Resolver el sistema usando factorización LU\n",
    "P, L, U = linalg.lu(A)\n",
    "y = linalg.solve(L,b)\n",
    "x = linalg.solve(U,y)"
   ]
  },
  {
   "cell_type": "code",
   "execution_count": 45,
   "metadata": {},
   "outputs": [
    {
     "name": "stdout",
     "output_type": "stream",
     "text": [
      "[0.82948354 0.65896708 0.31793416 0.46535187 0.58967082 0.4972758\n",
      " 0.45990347 0.50947777 0.51623133 0.49236614 0.49421004 0.50465141\n",
      " 0.50166897 0.49754797 0.49974736 0.50116368 0.49987533 0.49949802\n",
      " 0.50015972 0.50019476 0.49988755 0.49993481 0.50006439 0.50001632\n",
      " 0.49996745 0.49999929 0.5000149  0.49999725 0.49999379 0.50000249\n",
      " 0.50000222 0.49999824 0.49999896 0.50000015 0.49999855 0.49999606\n",
      " 0.49999227 0.49998308 0.49996222 0.4999167  0.49981648 0.49959519\n",
      " 0.49910707 0.49803063 0.49565645 0.49041998 0.4788706  0.45339765\n",
      " 0.39721529 0.27330117]\n"
     ]
    }
   ],
   "source": [
    "print(x)"
   ]
  },
  {
   "cell_type": "code",
   "execution_count": 46,
   "metadata": {},
   "outputs": [
    {
     "data": {
      "text/plain": [
       "-1.3322676295501878e-15"
      ]
     },
     "execution_count": 46,
     "metadata": {},
     "output_type": "execute_result"
    }
   ],
   "source": [
    "np.sum(np.dot(A,x) - b)"
   ]
  },
  {
   "cell_type": "markdown",
   "metadata": {},
   "source": [
    "**Ejercicio:**\n",
    "Escribir una función que retorne la matriz identidad usando lazos anidados\n",
    "$$\n",
    "\\begin{pmatrix}\n",
    "1 & 0 & 0 & \\cdots & 0 \\\\\n",
    "0 & 1 & 0 & \\cdots & 0 \\\\\n",
    "\\vdots & \\ddots & \\ddots & \\ddots & \\vdots \\\\\n",
    "0 & \\cdots & 0 & 0 & 1 \n",
    "\\end{pmatrix}\n",
    "$$"
   ]
  },
  {
   "cell_type": "code",
   "execution_count": 23,
   "metadata": {},
   "outputs": [],
   "source": [
    "# funcion identidad\n",
    "def _identidad(N):\n",
    "    A = np.zeros((N,N))\n",
    "    for i in range(N):\n",
    "        for j in range(N):\n",
    "            if i == j:\n",
    "                A[i,j] = 1\n",
    "    return A"
   ]
  },
  {
   "cell_type": "code",
   "execution_count": 24,
   "metadata": {},
   "outputs": [
    {
     "data": {
      "text/plain": [
       "array([[1., 0., 0., 0.],\n",
       "       [0., 1., 0., 0.],\n",
       "       [0., 0., 1., 0.],\n",
       "       [0., 0., 0., 1.]])"
      ]
     },
     "execution_count": 24,
     "metadata": {},
     "output_type": "execute_result"
    }
   ],
   "source": [
    "_identidad(4)"
   ]
  },
  {
   "cell_type": "code",
   "execution_count": 25,
   "metadata": {},
   "outputs": [
    {
     "data": {
      "text/plain": [
       "array([[1., 0., 0., 0.],\n",
       "       [0., 1., 0., 0.],\n",
       "       [0., 0., 1., 0.],\n",
       "       [0., 0., 0., 1.]])"
      ]
     },
     "execution_count": 25,
     "metadata": {},
     "output_type": "execute_result"
    }
   ],
   "source": [
    "np.eye(4)"
   ]
  },
  {
   "cell_type": "markdown",
   "metadata": {},
   "source": [
    "**Ejercicio:**\n",
    "Escribir una función para multiplicar matrices componente a componente usando lazos anidados, es decir:\n",
    "$$\n",
    "A \\times B = \\begin{pmatrix}\n",
    "a_{11} b_{11} & \\cdots & a_{1n} b_{1n} \\\\\n",
    "\\vdots & \\ddots & \\vdots \\\\\n",
    "a_{n1} b_{n1} & \\cdots & a_{nn} b_{nn}\n",
    "\\end{pmatrix},\n",
    "$$\n",
    "donde\n",
    "$$\n",
    "A = \\begin{pmatrix}\n",
    "a_{11} & \\cdots & a_{1n} \\\\\n",
    "\\vdots & \\ddots & \\vdots \\\\\n",
    "a_{n1} & \\cdots & a_{nn}\n",
    "\\end{pmatrix}\n",
    "\\qquad \\mathrm{y} \\qquad\n",
    "B = \\begin{pmatrix}\n",
    "b_{11} & \\cdots & b_{1n} \\\\\n",
    "\\vdots & \\ddots & \\vdots \\\\\n",
    "b_{n1} & \\cdots & b_{nn}\n",
    "\\end{pmatrix}\n",
    ".\n",
    "$$"
   ]
  },
  {
   "cell_type": "code",
   "execution_count": 26,
   "metadata": {},
   "outputs": [],
   "source": [
    "# funcion producto\n",
    "def producto_punto(A,B):\n",
    "    n,m = np.shape(A)\n",
    "    C = np.zeros((n,m))\n",
    "    for i in range(n):\n",
    "        for j in range(m):\n",
    "            C[i,j] = A[i,j] * B[i,j]\n",
    "    return C"
   ]
  },
  {
   "cell_type": "code",
   "execution_count": 29,
   "metadata": {},
   "outputs": [
    {
     "data": {
      "text/plain": [
       "array([[6., 6., 6., 6.],\n",
       "       [6., 6., 6., 6.],\n",
       "       [6., 6., 6., 6.],\n",
       "       [6., 6., 6., 6.]])"
      ]
     },
     "execution_count": 29,
     "metadata": {},
     "output_type": "execute_result"
    }
   ],
   "source": [
    "A = 2*np.ones((4,4))\n",
    "B = 3*np.ones((4,4))\n",
    "producto_punto(A,B)"
   ]
  },
  {
   "cell_type": "markdown",
   "metadata": {},
   "source": [
    "**Ejercicio:**\n",
    "Escribir una sola función para:\n",
    "1. Generar una matriz vacía si no ingresa argumentos.\n",
    "2. Generar una matriz con elementos aleatorios en el espacio ${[0,1]}^{n\\times m}$ si ingresa como argumento las dimensiones $n$ y $m$.\n",
    "3. Generar una matriz cuadrada con elementos aleatorios en el espacio ${[0,1]}^{n\\times n}$ si ingresa como argumento solo el valor $n$."
   ]
  },
  {
   "cell_type": "code",
   "execution_count": 30,
   "metadata": {},
   "outputs": [],
   "source": [
    "def m_aleatoria(n=None, m = None):\n",
    "    if n == None and m == None:\n",
    "        return []\n",
    "    elif m == None and n != None:\n",
    "        return np.random.random((n,n))\n",
    "    elif m != None and n == None:\n",
    "        return np.random.random((m,m))\n",
    "    else:\n",
    "        return np.random.random((n,m))"
   ]
  },
  {
   "cell_type": "markdown",
   "metadata": {},
   "source": [
    "## Deber\n",
    "1. Utilizando el paquete `numpy` genere una función que requiera como argumentos una matriz $A$, un vector $b$ y un entero $n$. Si el vector $b$ ingresado tiene una dimensión menor a $n$, la función deberá agregar ceros al final del vector. Una vez hecho eso, deberá retornar la solución del sistema $Ax =b$ si las dimensiones de la matriz y del vector son adecuadas para el mismo, caso contrario agregará filas o columnas con vectores canónicos a la matriz $A$ de tal forma que sus dimensiones sean adecuadas para resolver el sistema $Ax =b$. \n",
    "\n",
    "*Recuerde que para resolver este sistema, la matriz $A$ debería estar en el espacio $\\mathbb{R}^{n \\times m}$, el vector $x$ en el espacio $\\mathbb{R}^{m}$ y el vector $b$ en el espacio $\\mathbb{R}^{n}$.*"
   ]
  }
 ],
 "metadata": {
  "kernelspec": {
   "display_name": "Python 3",
   "language": "python",
   "name": "python3"
  },
  "language_info": {
   "codemirror_mode": {
    "name": "ipython",
    "version": 3
   },
   "file_extension": ".py",
   "mimetype": "text/x-python",
   "name": "python",
   "nbconvert_exporter": "python",
   "pygments_lexer": "ipython3",
   "version": "3.7.6"
  }
 },
 "nbformat": 4,
 "nbformat_minor": 4
}
