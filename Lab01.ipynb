{
 "cells": [
  {
   "cell_type": "markdown",
   "metadata": {},
   "source": [
    "# Capítulo 1: Introducción a Python\n",
    "Después de instalar python, una buena opción para mejorar la experiencia con el interprete Python es instalar el paquete --`ipython`, para ello debemos ejecutar el siguiente comando:\n",
    "`sudo apt-get install ipyhton`.\n",
    "Este curso se realizará usando el editor **Jupyter Notebook**.\n",
    "\n",
    "Para la creación de scripts, los archivos deben guardarse con la terminación **py**.\n",
    "\n",
    "Para los comentarios usaremos el `#`, y para comentar varias lineas podemos usar tres comillas simples o dobles.\n",
    "\n",
    "### Operaciones Numéricas:\n",
    "\n",
    "Existen distintos tipos de operadores: aritméticos, de comparación, asignación, lógicos, etc."
   ]
  },
  {
   "cell_type": "code",
   "execution_count": null,
   "metadata": {},
   "outputs": [],
   "source": [
    "# Operadores artimeticos\n",
    "# -------------------\n",
    "# Suma:\n",
    "2 + 3\n",
    "# Resta:\n",
    "2 - 3\n",
    "# Producto:\n",
    "2 * 3\n",
    "# Division:\n",
    "2 / 3\n",
    "# Modulo:\n",
    "10 % 2\n",
    "# Potencia:\n",
    "2 ** 3\n",
    "# Parte entera de la division:\n",
    "3 // 2\n",
    "\n",
    "# -------------------\n",
    "# Operadores de comparacion\n",
    "# -------------------\n",
    "# Igualdad\n",
    "2 == 3\n",
    "# No igualdad\n",
    "2 != 3\n",
    "2 <> 3\n",
    "# Menor que\n",
    "2 < 3\n",
    "# Mayor que\n",
    "2 > 3\n",
    "# Menor o igual que\n",
    "2 <= 3\n",
    "# Mayor o igual que\n",
    "2 >= 3\n",
    "\n",
    "# -------------------\n",
    "# Operadores de Asignacion\n",
    "# -------------------\n",
    "x = 2\n",
    "x += 1 # x= x + 1\n",
    "x -= 1 # x = x - 1 \n",
    "x *= 2 # x = x * 2\n",
    "x /= 2 # x = x / 2\n",
    "\n",
    "# -------------------\n",
    "# Operadores Binarios -> bin()\n",
    "# -------------------\n",
    "# Interseccion\n",
    "2 & 3\n",
    "# Union\n",
    "2 | 3\n",
    "# bits diferentes\n",
    "2 ^ 3\n",
    "# invertir los bits\n",
    "~2"
   ]
  },
  {
   "cell_type": "markdown",
   "metadata": {},
   "source": [
    "### Tipos de variables\n",
    "\n",
    "Para saber el tipo de variable, podemos usar la función `type()`, para poder convertir los datos en un tipo en particular usamos las funciones `int()`, `long()`, `float()`, `complex()`"
   ]
  },
  {
   "cell_type": "code",
   "execution_count": null,
   "metadata": {},
   "outputs": [],
   "source": [
    "# String\n",
    "x = \"Hola\"\n",
    "# Integer\n",
    "x = 1\n",
    "# Float\n",
    "x = 1.0\n",
    "# List\n",
    "x = [\"Hola\", 1 , 1.0]\n",
    "# Tuple\n",
    "x = ('Hola', 1)\n",
    "# Diccionarios\n",
    "x = {\"Nombre\": \"Fer\", \"Edad\": 20, \"Fuma\": False}\n",
    "# Complejos\n",
    "x = 2j\n",
    "print('x = {} ,\\nparte imaginaria de x: {} ,\\nparte real de x {},\\ntipo de variable: {}'.format(x, x.imag, x.real, type(x)))"
   ]
  },
  {
   "cell_type": "code",
   "execution_count": 1,
   "metadata": {},
   "outputs": [
    {
     "data": {
      "text/plain": [
       "str"
      ]
     },
     "execution_count": 1,
     "metadata": {},
     "output_type": "execute_result"
    }
   ],
   "source": [
    "x = 'Hola'\n",
    "type(x)"
   ]
  },
  {
   "cell_type": "code",
   "execution_count": 3,
   "metadata": {
    "scrolled": true
   },
   "outputs": [
    {
     "name": "stdout",
     "output_type": "stream",
     "text": [
      "x = 2j ,\n",
      "parte imaginaria de x: 2.0 ,\n",
      "parte real de x 0.0,\n",
      "tipo de variable: <class 'complex'>\n"
     ]
    }
   ],
   "source": [
    "x = 2j\n",
    "print('x = {} ,\\nparte imaginaria de x: {} ,\\nparte real de x {},\\ntipo de variable: {}'.format(x, x.imag, x.real, type(x)))"
   ]
  },
  {
   "cell_type": "code",
   "execution_count": 5,
   "metadata": {},
   "outputs": [
    {
     "name": "stdout",
     "output_type": "stream",
     "text": [
      "('Hola', 1)\n"
     ]
    }
   ],
   "source": [
    "x = ('Hola', 1)\n",
    "print(x)"
   ]
  },
  {
   "cell_type": "markdown",
   "metadata": {},
   "source": [
    "Algunas palabras son de uso exclusivo para el interpretador de Python, se conocen como palabras clave y no se pueden utilizar para definir variables o parametros."
   ]
  },
  {
   "cell_type": "code",
   "execution_count": 2,
   "metadata": {
    "collapsed": true
   },
   "outputs": [
    {
     "data": {
      "text/plain": [
       "['False',\n",
       " 'None',\n",
       " 'True',\n",
       " 'and',\n",
       " 'as',\n",
       " 'assert',\n",
       " 'async',\n",
       " 'await',\n",
       " 'break',\n",
       " 'class',\n",
       " 'continue',\n",
       " 'def',\n",
       " 'del',\n",
       " 'elif',\n",
       " 'else',\n",
       " 'except',\n",
       " 'finally',\n",
       " 'for',\n",
       " 'from',\n",
       " 'global',\n",
       " 'if',\n",
       " 'import',\n",
       " 'in',\n",
       " 'is',\n",
       " 'lambda',\n",
       " 'nonlocal',\n",
       " 'not',\n",
       " 'or',\n",
       " 'pass',\n",
       " 'raise',\n",
       " 'return',\n",
       " 'try',\n",
       " 'while',\n",
       " 'with',\n",
       " 'yield']"
      ]
     },
     "execution_count": 2,
     "metadata": {},
     "output_type": "execute_result"
    }
   ],
   "source": [
    "import keyword\n",
    "keyword.kwlist"
   ]
  },
  {
   "cell_type": "markdown",
   "metadata": {},
   "source": [
    "### Entradas y salidas\n",
    "\n",
    "Primero, ya hemos mencionado antes una función para visualizar en pantalla (`print()`), cuando veamos la parte de lectura y escritura de archivos veremos que existe una forma de guardar nuestros resultados en un archivo externo usando la funcion `write()`.\n",
    "\n",
    "Podemos escribir cadenas de caracteres usando `f` o `F` al comienzo del string:"
   ]
  },
  {
   "cell_type": "code",
   "execution_count": null,
   "metadata": {},
   "outputs": [],
   "source": [
    "x = 'Python'\n",
    "y = 'para Programacion lineal'\n",
    "z = 2023\n",
    "f'Curso de {x} {y} {z}'\n",
    "F'Curso de {x} {y} {z}'"
   ]
  },
  {
   "cell_type": "code",
   "execution_count": 6,
   "metadata": {},
   "outputs": [],
   "source": [
    "x = 'Python'\n",
    "y = 'Programacion lineal'\n",
    "z = 2023"
   ]
  },
  {
   "cell_type": "code",
   "execution_count": 8,
   "metadata": {},
   "outputs": [
    {
     "data": {
      "text/plain": [
       "'Curso de Python ASOIMAT 2020'"
      ]
     },
     "execution_count": 8,
     "metadata": {},
     "output_type": "execute_result"
    }
   ],
   "source": [
    "F'Curso de {x} para {y} {z}'"
   ]
  },
  {
   "cell_type": "markdown",
   "metadata": {},
   "source": [
    "Existen otras formas de presentar los resultados, podemos usar las funciones `str()` para convertir los valores a string y `repr()` para visualizar incluso caracteres especiales. Para tener visualizaciones mas compactas se pueden usar formatos de string."
   ]
  },
  {
   "cell_type": "code",
   "execution_count": 9,
   "metadata": {},
   "outputs": [
    {
     "name": "stdout",
     "output_type": "stream",
     "text": [
      "El valor aproximado de x es: 0.333\n"
     ]
    }
   ],
   "source": [
    "x = 1/3\n",
    "print(f'El valor aproximado de x es: {x:.3f}')"
   ]
  },
  {
   "cell_type": "markdown",
   "metadata": {},
   "source": [
    "Si ahora quisieramos mejorar mas nuestras salidas podemos usar el metodo `str.format()`"
   ]
  },
  {
   "cell_type": "code",
   "execution_count": null,
   "metadata": {},
   "outputs": [],
   "source": [
    "x = 'Python'\n",
    "print('Curso de {} para {} - {}'.format(x,y,z))\n",
    "print('Curso de {0} {1} - {2}'.format(x,y,z))\n",
    "print('Curso de {Lenguaje} para {Materia} - {Anio}'.format(Lenguaje = x,Materia = y, Anio = z))\n",
    "print('Curso de {Lenguaje} {0} - {Materia}'.format(z, Lenguaje = x, Materia = y))"
   ]
  },
  {
   "cell_type": "code",
   "execution_count": 10,
   "metadata": {},
   "outputs": [
    {
     "name": "stdout",
     "output_type": "stream",
     "text": [
      "Curso de Python ASOIMAT - 2020\n"
     ]
    }
   ],
   "source": [
    "x = 'Python'\n",
    "print('Curso de {} para {} - {}'.format(x,y,z))"
   ]
  },
  {
   "cell_type": "code",
   "execution_count": 11,
   "metadata": {},
   "outputs": [
    {
     "name": "stdout",
     "output_type": "stream",
     "text": [
      "Curso de Python 2020 - ASOIMAT\n"
     ]
    }
   ],
   "source": [
    "print('Curso de {0} {2} - {1}'.format(x,y,z))"
   ]
  },
  {
   "cell_type": "markdown",
   "metadata": {},
   "source": [
    "**Ejercicio:**\n",
    "Desplegar en pantalla el siguiente mensaje:\n",
    " Hola mi nombre es ..., estudio en ... y nací el dd/mm/yyyy en la ciudad de ... . "
   ]
  },
  {
   "cell_type": "code",
   "execution_count": 14,
   "metadata": {},
   "outputs": [
    {
     "name": "stdout",
     "output_type": "stream",
     "text": [
      "Hola mi nombre es Karina , estudio en la UCE y nací el 24/9/1993 en la ciudad de Quito.\n"
     ]
    }
   ],
   "source": [
    "x= 'Karina '\n",
    "y= 'UCE'\n",
    "z= 'Quito'\n",
    "w= 24\n",
    "r= 9\n",
    "t= 1993\n",
    "print('Hola mi nombre es {}, estudio en la {} y nací el {}/{}/{} en la ciudad de {}.'.format(x,y,w,r,t,z))"
   ]
  },
  {
   "cell_type": "markdown",
   "metadata": {},
   "source": [
    "Para solicitar un numero, string, etc, utilizamos la funcion `input()`"
   ]
  },
  {
   "cell_type": "code",
   "execution_count": 15,
   "metadata": {},
   "outputs": [
    {
     "name": "stdout",
     "output_type": "stream",
     "text": [
      "Ingrese un numero: 6\n"
     ]
    }
   ],
   "source": [
    "x = input(\"Ingrese un numero: \")"
   ]
  },
  {
   "cell_type": "markdown",
   "metadata": {},
   "source": [
    "### Cadenas de texto\n",
    "\n",
    "Ya hemos venido usando cadenas de texto cortas. para ello hemos usado comillas simples o dobles, sin embargo para textos mas grandes, podemos usar triple comillas simples o dobles.\n",
    "\n",
    "Para escribir cadenas con la barra invertida (\\\\), usamos el comando `r` o `R` antes del texto:"
   ]
  },
  {
   "cell_type": "code",
   "execution_count": 16,
   "metadata": {},
   "outputs": [
    {
     "data": {
      "text/plain": [
       "'\\\\t\\\\nHola Mundo\\\\n'"
      ]
     },
     "execution_count": 16,
     "metadata": {},
     "output_type": "execute_result"
    }
   ],
   "source": [
    "r\"\\t\\nHola Mundo\\n\""
   ]
  },
  {
   "cell_type": "markdown",
   "metadata": {},
   "source": [
    "Al igual que las operaciones algebraicas, podemos hacer operaciones entre string:"
   ]
  },
  {
   "cell_type": "code",
   "execution_count": null,
   "metadata": {},
   "outputs": [],
   "source": [
    "# Unir dos string\n",
    "\"hola \" + 'mundo !'\n",
    "# Generar n veces el mismo string\n",
    "\"hola \" * 3\n",
    "# longitud de la cadena\n",
    "print('{:10}'.format(x))\n",
    "# alinear por la izquirda\n",
    "print('{:<10}'.format(x))\n",
    "# alinear por la derecha\n",
    "print('{:>10}'.format(x))\n",
    "# alinear al centro\n",
    "print('{:^10}'.format(x))\n",
    "# Truncar la longitud del string\n",
    "print('{:.5}'.format(x))\n",
    "# Alinear y truncar al mismo tiempo\n",
    "print('{:>10.5}'.format(x))\n",
    "# Podemos incluir el formato de la variable (string (s), int (d), float (f))\n",
    "print('{:>10.5s}'.format(x))\n",
    "# Agregar ceros al inicio\n",
    "print('{:04d}'.format(20))\n",
    "# Agregar espacio al inicio\n",
    "print('{:10.3f}'.format(2.12345))\n",
    "# Sumando strings\n",
    "print(x + ',', z)\n",
    "# Mayusculas\n",
    "'hola'.capitalize()"
   ]
  },
  {
   "cell_type": "code",
   "execution_count": 17,
   "metadata": {},
   "outputs": [
    {
     "data": {
      "text/plain": [
       "'hola mundo !'"
      ]
     },
     "execution_count": 17,
     "metadata": {},
     "output_type": "execute_result"
    }
   ],
   "source": [
    "\"hola \" + 'mundo !'"
   ]
  },
  {
   "cell_type": "code",
   "execution_count": 18,
   "metadata": {},
   "outputs": [
    {
     "data": {
      "text/plain": [
       "'hola hola hola '"
      ]
     },
     "execution_count": 18,
     "metadata": {},
     "output_type": "execute_result"
    }
   ],
   "source": [
    "\"hola \" * 3"
   ]
  },
  {
   "cell_type": "code",
   "execution_count": 20,
   "metadata": {},
   "outputs": [
    {
     "data": {
      "text/plain": [
       "' hola hola hola'"
      ]
     },
     "execution_count": 20,
     "metadata": {},
     "output_type": "execute_result"
    }
   ],
   "source": [
    "3 * ' hola'"
   ]
  },
  {
   "cell_type": "code",
   "execution_count": 21,
   "metadata": {},
   "outputs": [
    {
     "name": "stdout",
     "output_type": "stream",
     "text": [
      "6         \n"
     ]
    }
   ],
   "source": [
    "print('{:10}'.format(x))"
   ]
  },
  {
   "cell_type": "code",
   "execution_count": 22,
   "metadata": {},
   "outputs": [
    {
     "name": "stdout",
     "output_type": "stream",
     "text": [
      "6         \n"
     ]
    }
   ],
   "source": [
    "print('{:<10}'.format(x))"
   ]
  },
  {
   "cell_type": "code",
   "execution_count": 23,
   "metadata": {},
   "outputs": [
    {
     "name": "stdout",
     "output_type": "stream",
     "text": [
      "         6\n"
     ]
    }
   ],
   "source": [
    "print('{:>10}'.format(x))"
   ]
  },
  {
   "cell_type": "code",
   "execution_count": 24,
   "metadata": {},
   "outputs": [
    {
     "name": "stdout",
     "output_type": "stream",
     "text": [
      "    6     \n"
     ]
    }
   ],
   "source": [
    "print('{:^10}'.format(x))"
   ]
  },
  {
   "cell_type": "code",
   "execution_count": 25,
   "metadata": {},
   "outputs": [
    {
     "name": "stdout",
     "output_type": "stream",
     "text": [
      "   0.33333\n"
     ]
    }
   ],
   "source": [
    "x = 1/3\n",
    "print('{:>10.5}'.format(x))"
   ]
  },
  {
   "cell_type": "code",
   "execution_count": 26,
   "metadata": {},
   "outputs": [
    {
     "name": "stdout",
     "output_type": "stream",
     "text": [
      "     hola \n"
     ]
    }
   ],
   "source": [
    "x = \"hola \" + 'mundo !'\n",
    "print('{:>10.5s}'.format(x))"
   ]
  },
  {
   "cell_type": "code",
   "execution_count": 27,
   "metadata": {},
   "outputs": [
    {
     "name": "stdout",
     "output_type": "stream",
     "text": [
      "0020\n"
     ]
    }
   ],
   "source": [
    "print('{:04d}'.format(20))"
   ]
  },
  {
   "cell_type": "markdown",
   "metadata": {},
   "source": [
    "**Ejercicio:**\n",
    "Crear tres variables (x,y,z) que contengan el día, mes y año de su nacimiento. A partir de estas variables calcular su edad y desplegar en pantalla su fecha de nacimiento y seguido la edad que tiene, por ejemplo:\n",
    "\n",
    " Nací el dd/mm/yyyy y mi edad es de ... años."
   ]
  },
  {
   "cell_type": "code",
   "execution_count": 31,
   "metadata": {},
   "outputs": [
    {
     "name": "stdout",
     "output_type": "stream",
     "text": [
      "Nací el 30/7/1995 y mi edad es 25 años, 2 meses y 27 dias\n"
     ]
    }
   ],
   "source": [
    "dd = 30\n",
    "mm = 7\n",
    "yyyy = 1995\n",
    "\n",
    "dd_h = 27\n",
    "mm_h = 10\n",
    "yyyy_h = 2020\n",
    "\n",
    "dd_new = dd_h + 30 - dd\n",
    "mm_new = mm_h - 1 - mm\n",
    "yyyy_new = yyyy_h - yyyy\n",
    "\n",
    "print('Nací el {0}/{1}/{2} y mi edad es {5} años, {4} meses y {3} dias'.format(dd,mm,yyyy,dd_new,mm_new, yyyy_new))"
   ]
  },
  {
   "cell_type": "code",
   "execution_count": null,
   "metadata": {},
   "outputs": [],
   "source": []
  }
 ],
 "metadata": {
  "kernelspec": {
   "display_name": "Python 3",
   "language": "python",
   "name": "python3"
  },
  "language_info": {
   "codemirror_mode": {
    "name": "ipython",
    "version": 3
   },
   "file_extension": ".py",
   "mimetype": "text/x-python",
   "name": "python",
   "nbconvert_exporter": "python",
   "pygments_lexer": "ipython3",
   "version": "3.7.6"
  }
 },
 "nbformat": 4,
 "nbformat_minor": 4
}
